{
 "cells": [
  {
   "cell_type": "code",
   "execution_count": 9,
   "metadata": {},
   "outputs": [],
   "source": [
    "import pandas as pd\n",
    "import re\n",
    "import rdkit\n",
    "from rdkit import Chem\n",
    "from rdkit.Chem import QED\n",
    "from rdkit import Chem\n",
    "from rdkit.Chem import RDConfig\n",
    "import os\n",
    "import sys\n",
    "sys.path.append(os.path.join(RDConfig.RDContribDir, 'SA_Score'))\n",
    "# now you can import sascore!\n",
    "import sascorer\n",
    "from rdkit.Chem import Draw\n",
    "from rdkit.Chem.Draw import rdMolDraw2D\n",
    "from rdkit.Chem.Draw import rdDepictor"
   ]
  },
  {
   "cell_type": "code",
   "execution_count": 4,
   "metadata": {},
   "outputs": [
    {
     "name": "stdout",
     "output_type": "stream",
     "text": [
      "ID: 65, QED: 0.89, SAs: 2.72\n",
      "ID: 245, QED: 0.8, SAs: 2.96\n",
      "ID: 158, QED: 0.74, SAs: 3.52\n",
      "ID: 25, QED: 0.86, SAs: 3.85\n",
      "ID: 143, QED: 0.72, SAs: 2.35\n",
      "ID: 133, QED: 0.72, SAs: 3.8\n",
      "ID: 45, QED: 0.86, SAs: 1.95\n",
      "ID: 179, QED: 0.88, SAs: 2.77\n",
      "ID: 204, QED: 0.8, SAs: 2.55\n",
      "ID: 142, QED: 0.68, SAs: 2.27\n",
      "ID: 72, QED: 0.68, SAs: 3.03\n",
      "ID: 23, QED: 0.82, SAs: 2.16\n",
      "ID: 221, QED: 0.82, SAs: 3.56\n",
      "ID: 177, QED: 0.76, SAs: 1.89\n",
      "ID: 238, QED: 0.65, SAs: 2.63\n"
     ]
    }
   ],
   "source": [
    "mols = {\n",
    "    '65':'O=C(NC(CO)c1ccc(Cl)cc1)N1CCC(c2ccccc2)C1',\n",
    "    '245':'CC1Cc2cc(Cl)ccc2N1Cc1ccc(C(=O)NCC(O)C2CC2)cc1',\n",
    "    '158':'O=C(NCC1CCN(C(=O)c2cccc(Cl)c2)CC1)NC12CC3CC(CC(C3)C1)C2',\n",
    "    '25':'O=C(NC1CCN(C(=O)c2ccccc2)C1)NC12CC3CC(CC(C3)C1)C2',\n",
    "    '143':'CCC(CC)C(=O)N1CCC(NC(=O)Nc2ccc(F)c(C(F)(F)F)c2)CC1',\n",
    "    '133':'CC#CC(=O)Nc1cccc(CNC(=O)NC2C3CC4CC(C3)CC2C4)c1',\n",
    "    '45':'O=C1CCCN1Cc1ccc(CNC(=O)c2ccc(C(F)(F)F)cc2)cc1',\n",
    "    '179':'CC(=O)NC1CCCC(C(=O)NCc2ccc(C(F)(F)F)cc2)C1',\n",
    "    '204':'Cc1ccc(CNC(=O)C(C)N(C)C(=O)Nc2cccc(C(F)(F)F)c2)cc1',\n",
    "    '142':'CCNC(=O)NC1CCC(C(=O)NCc2ccc(OC)cc2C(F)(F)F)CC1',\n",
    "    '72':'CCNC(=O)NC1CCCC(C(=O)NCc2ccc(OC)cc2C(F)(F)F)C1',\n",
    "    '23':'CC(CCc1ccccc1)NC(=O)Nc1cccc(Br)c1',\n",
    "    '72':'CCNC(=O)NC1CCCC(C(=O)NCc2ccc(OC)cc2C(F)(F)F)C1',\n",
    "    '221':'CCCC(=O)N1CCC(NC(=O)NC23CC4CC(CC(C4)C2)C3)CC1',\n",
    "    '177':'CC(C)(CCc1ccccc1)CNC(=O)Nc1ccc(Cl)cc1',\n",
    "    '238':'Cc1cccc(C)c1NC(=O)c1ccc(Cl)c(N2CCCC(C(=O)NCC(C)C)C2)c1'\n",
    "}\n",
    "\n",
    "\n",
    "for key,value in mols.items():\n",
    "    smiles = value\n",
    "    m=Chem.MolFromSmiles(smiles)\n",
    "    qed=QED.qed(m)\n",
    "    sas = sascorer.calculateScore(m)\n",
    "    print(f\"ID: {key}, QED: {round(qed,2)}, SAs: {round(sas,2)}\")\n",
    "    Draw.MolToFile(m,f'fig/{key}.svg')"
   ]
  },
  {
   "cell_type": "code",
   "execution_count": 10,
   "metadata": {},
   "outputs": [
    {
     "data": {
      "text/plain": [
       "<bound method GetAromaticAtoms of <rdkit.Chem.rdchem.Mol object at 0x7fa1a0a5fb30>>"
      ]
     },
     "execution_count": 10,
     "metadata": {},
     "output_type": "execute_result"
    }
   ],
   "source": [
    "m.GetAromaticAtoms"
   ]
  },
  {
   "cell_type": "code",
   "execution_count": 1,
   "metadata": {},
   "outputs": [],
   "source": [
    "smis = 'CC1=C(C(N2CCN(CC3=CC=C(OCC(F)(F)F)C=C3)CC2)=O)N(CC4=CN=C(C(NC5=CC=C(OC(F)(F)F)C=C5)=O)C=C4)N=N1'"
   ]
  },
  {
   "cell_type": "code",
   "execution_count": 6,
   "metadata": {},
   "outputs": [],
   "source": [
    "sk = smis.replace(\"C\",\"*\").replace(\"O\",\"*\").replace(\"N\",\"*\").replace(\"F\",\"*\")"
   ]
  },
  {
   "cell_type": "code",
   "execution_count": 7,
   "metadata": {},
   "outputs": [
    {
     "data": {
      "text/plain": [
       "'**1=*(*(*2***(**3=**=*(***(*)(*)*)*=*3)**2)=*)*(**4=**=*(*(**5=**=*(**(*)(*)*)*=*5)=*)*=*4)*=*1'"
      ]
     },
     "execution_count": 7,
     "metadata": {},
     "output_type": "execute_result"
    }
   ],
   "source": [
    "sk"
   ]
  },
  {
   "cell_type": "code",
   "execution_count": 10,
   "metadata": {},
   "outputs": [
    {
     "data": {
      "image/png": "[encoded data removed]",
      "text/plain": [
       "<rdkit.Chem.rdchem.Mol at 0x7f35d43b7f90>"
      ]
     },
     "execution_count": 10,
     "metadata": {},
     "output_type": "execute_result"
    }
   ],
   "source": [
    "Chem.MolFromSmiles(sk)"
   ]
  }
 ],
 "metadata": {
  "kernelspec": {
   "display_name": "base",
   "language": "python",
   "name": "python3"
  },
  "language_info": {
   "codemirror_mode": {
    "name": "ipython",
    "version": 3
   },
   "file_extension": ".py",
   "mimetype": "text/x-python",
   "name": "python",
   "nbconvert_exporter": "python",
   "pygments_lexer": "ipython3",
   "version": "3.9.7"
  },
  "orig_nbformat": 4
 },
 "nbformat": 4,
 "nbformat_minor": 2
}
