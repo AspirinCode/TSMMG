{
 "cells": [
  {
   "cell_type": "code",
   "execution_count": 1,
   "metadata": {},
   "outputs": [],
   "source": [
    "import matplotlib.pyplot as plt\n",
    "from sklearn.svm import SVC\n",
    "from sklearn.pipeline import make_pipeline\n",
    "from sklearn.preprocessing import StandardScaler\n",
    "import numpy as np\n",
    "import pandas as pd\n",
    "from sklearn.model_selection import KFold,StratifiedKFold\n",
    "from rdkit import Chem\n",
    "from rdkit.Chem import MACCSkeys\n",
    "from sklearn.metrics import precision_score\n",
    "from sklearn.metrics import f1_score\n",
    "import random\n",
    "import re\n",
    "import torch"
   ]
  },
  {
   "cell_type": "code",
   "execution_count": 5,
   "metadata": {},
   "outputs": [],
   "source": [
    "def fetch(target):\n",
    "    fname_human = f'{target}_HUMAN.csv'\n",
    "    df_human = pd.read_csv(fname_human, sep=';')\n",
    "\n",
    "    fname_rat = f'{target}_RAT.csv'\n",
    "    df_rat = pd.read_csv(fname_rat, sep=';')\n",
    "\n",
    "    fname_mouse = f'{target}_MOUSE.csv'\n",
    "    df_mouse = pd.read_csv(fname_mouse, sep=';')\n",
    "\n",
    "    df = pd.concat([df_human, df_rat, df_mouse])\n",
    "\n",
    "    mask = df['Standard Type'] == 'IC50'\n",
    "\n",
    "    td = 100\n",
    "    pmask = (df[mask]['Standard Value'] < td) & (df[mask]['Standard Value'] > 0)\n",
    "    nmask = df[mask]['Standard Value'] > td\n",
    "\n",
    "    len_p = sum(pmask)\n",
    "    len_n = sum(nmask)\n",
    "\n",
    "    print(f'靶点：{target}, 正样本数量：', len_p)\n",
    "    print(f'靶点：{target}, 负样本数量：', len_n)\n",
    "\n",
    "    df_p = df[mask][pmask]\n",
    "    df_n = df[mask][nmask]\n",
    "\n",
    "    return df_p, df_n, len_p"
   ]
  },
  {
   "cell_type": "code",
   "execution_count": 6,
   "metadata": {},
   "outputs": [
    {
     "name": "stdout",
     "output_type": "stream",
     "text": [
      "靶点：EP2, 正样本数量： 37\n",
      "靶点：EP2, 负样本数量： 260\n"
     ]
    }
   ],
   "source": [
    "df_ep2_p, df_ep2_n, len_ep2_p = fetch('EP2')"
   ]
  },
  {
   "cell_type": "code",
   "execution_count": 7,
   "metadata": {},
   "outputs": [
    {
     "data": {
      "image/png": "[encoded data removed]",
      "text/plain": [
       "<Figure size 640x480 with 1 Axes>"
      ]
     },
     "metadata": {},
     "output_type": "display_data"
    }
   ],
   "source": [
    "n, bins, patches = plt.hist(df_ep2_p['Standard Value'], 10, density=False)\n",
    "plt.show()"
   ]
  },
  {
   "cell_type": "code",
   "execution_count": 10,
   "metadata": {},
   "outputs": [
    {
     "data": {
      "text/plain": [
       "66"
      ]
     },
     "execution_count": 10,
     "metadata": {},
     "output_type": "execute_result"
    }
   ],
   "source": [
    "outputs = []\n",
    "data_mix = []\n",
    "\n",
    "for i in range(len_ep2_p):\n",
    "    index = df_ep2_p.index[i]\n",
    "    smiles = df_ep2_p['Smiles'][index]\n",
    "    ic50 = df_ep2_p['Standard Value'][index]\n",
    "\n",
    "    try:\n",
    "        m=Chem.MolFromSmiles(smiles)\n",
    "        # print(smiles)\n",
    "    except Exception as e:              # 不能解析的话跳过\n",
    "        continue\n",
    "\n",
    "    desc = 'It can bind to Prostanoid EP2 receptor.'\n",
    "    outputs.append(['None', 'None', desc, smiles])\n",
    "    data_mix.append([smiles,ic50,1])\n",
    "\n",
    "for i in range(len_ep2_p):\n",
    "    index = df_ep2_n.index[i]\n",
    "    smiles = df_ep2_n['Smiles'][index]\n",
    "    ic50 = df_ep2_n['Standard Value'][index]\n",
    "\n",
    "    try:\n",
    "        m=Chem.MolFromSmiles(smiles)\n",
    "        # print(smiles)\n",
    "    except Exception as e:              # 不能解析的话跳过\n",
    "        continue\n",
    "\n",
    "    desc = 'It can not bind to Prostanoid EP2 receptor.'\n",
    "    outputs.append(['None', 'None', desc, smiles])\n",
    "    data_mix.append([smiles,ic50,0])\n",
    "\n",
    "len(outputs)"
   ]
  },
  {
   "cell_type": "code",
   "execution_count": 11,
   "metadata": {},
   "outputs": [
    {
     "name": "stdout",
     "output_type": "stream",
     "text": [
      "Saved.\n"
     ]
    }
   ],
   "source": [
    "outputs = pd.DataFrame(data=outputs, columns=['cid','iupac','desc','smiles'])\n",
    "outputs.to_csv(f'../data/train/EP2.csv', index=False)\n",
    "print('Saved.')"
   ]
  },
  {
   "attachments": {},
   "cell_type": "markdown",
   "metadata": {},
   "source": [
    "# 分类器"
   ]
  },
  {
   "cell_type": "code",
   "execution_count": 12,
   "metadata": {},
   "outputs": [
    {
     "data": {
      "text/html": [
       "<div>\n",
       "<style scoped>\n",
       "    .dataframe tbody tr th:only-of-type {\n",
       "        vertical-align: middle;\n",
       "    }\n",
       "\n",
       "    .dataframe tbody tr th {\n",
       "        vertical-align: top;\n",
       "    }\n",
       "\n",
       "    .dataframe thead th {\n",
       "        text-align: right;\n",
       "    }\n",
       "</style>\n",
       "<table border=\"1\" class=\"dataframe\">\n",
       "  <thead>\n",
       "    <tr style=\"text-align: right;\">\n",
       "      <th></th>\n",
       "      <th>smiles</th>\n",
       "      <th>IC50</th>\n",
       "      <th>label</th>\n",
       "    </tr>\n",
       "  </thead>\n",
       "  <tbody>\n",
       "    <tr>\n",
       "      <th>48</th>\n",
       "      <td>COc1cc(-c2csc3ccccc23)cc2c1OCCN(Cc1cccnc1)C2=O</td>\n",
       "      <td>30000.0</td>\n",
       "      <td>0</td>\n",
       "    </tr>\n",
       "    <tr>\n",
       "      <th>9</th>\n",
       "      <td>CCCCC[C@H](O)/C=C/[C@H]1[C@H](O)CC(=O)[C@@H]1C...</td>\n",
       "      <td>37.7</td>\n",
       "      <td>1</td>\n",
       "    </tr>\n",
       "    <tr>\n",
       "      <th>56</th>\n",
       "      <td>O=C(O)CN1C(=O)[C@@]2(CC(=O)N(Cc3cccc(Cl)c3)C2=...</td>\n",
       "      <td>30000.0</td>\n",
       "      <td>0</td>\n",
       "    </tr>\n",
       "    <tr>\n",
       "      <th>18</th>\n",
       "      <td>O=c1cc(CN2CCOc3c(Cl)cc(-n4ccc5cc(F)ccc54)cc3C2...</td>\n",
       "      <td>50.0</td>\n",
       "      <td>1</td>\n",
       "    </tr>\n",
       "    <tr>\n",
       "      <th>21</th>\n",
       "      <td>O=c1cc(CN2CCOc3c(Cl)cc(-c4csc5ccccc45)cc3C2)cc...</td>\n",
       "      <td>20.0</td>\n",
       "      <td>1</td>\n",
       "    </tr>\n",
       "    <tr>\n",
       "      <th>...</th>\n",
       "      <td>...</td>\n",
       "      <td>...</td>\n",
       "      <td>...</td>\n",
       "    </tr>\n",
       "    <tr>\n",
       "      <th>44</th>\n",
       "      <td>O=C(O)Cn1c2c(c3cc(F)ccc31)CN(C(=O)c1cccc3ccccc...</td>\n",
       "      <td>2600.0</td>\n",
       "      <td>0</td>\n",
       "    </tr>\n",
       "    <tr>\n",
       "      <th>1</th>\n",
       "      <td>O=C(O)CNc1cccc(CN(Cc2ccc(-n3cccn3)cc2)S(=O)(=O...</td>\n",
       "      <td>10.0</td>\n",
       "      <td>1</td>\n",
       "    </tr>\n",
       "    <tr>\n",
       "      <th>7</th>\n",
       "      <td>COc1cc(-c2csc3ccccc23)cc2c1OCCN(Cc1cncnc1)C2</td>\n",
       "      <td>20.0</td>\n",
       "      <td>1</td>\n",
       "    </tr>\n",
       "    <tr>\n",
       "      <th>19</th>\n",
       "      <td>COc1cc(-n2ccc3cc(F)ccc32)cc2c1OCCN(Cc1cccnc1)C2</td>\n",
       "      <td>40.0</td>\n",
       "      <td>1</td>\n",
       "    </tr>\n",
       "    <tr>\n",
       "      <th>6</th>\n",
       "      <td>Clc1cc(-c2csc3ccccc23)cc2c1OCCN(Cc1cccnc1)C2</td>\n",
       "      <td>80.0</td>\n",
       "      <td>1</td>\n",
       "    </tr>\n",
       "  </tbody>\n",
       "</table>\n",
       "<p>66 rows × 3 columns</p>\n",
       "</div>"
      ],
      "text/plain": [
       "                                               smiles     IC50  label\n",
       "48     COc1cc(-c2csc3ccccc23)cc2c1OCCN(Cc1cccnc1)C2=O  30000.0      0\n",
       "9   CCCCC[C@H](O)/C=C/[C@H]1[C@H](O)CC(=O)[C@@H]1C...     37.7      1\n",
       "56  O=C(O)CN1C(=O)[C@@]2(CC(=O)N(Cc3cccc(Cl)c3)C2=...  30000.0      0\n",
       "18  O=c1cc(CN2CCOc3c(Cl)cc(-n4ccc5cc(F)ccc54)cc3C2...     50.0      1\n",
       "21  O=c1cc(CN2CCOc3c(Cl)cc(-c4csc5ccccc45)cc3C2)cc...     20.0      1\n",
       "..                                                ...      ...    ...\n",
       "44  O=C(O)Cn1c2c(c3cc(F)ccc31)CN(C(=O)c1cccc3ccccc...   2600.0      0\n",
       "1   O=C(O)CNc1cccc(CN(Cc2ccc(-n3cccn3)cc2)S(=O)(=O...     10.0      1\n",
       "7        COc1cc(-c2csc3ccccc23)cc2c1OCCN(Cc1cncnc1)C2     20.0      1\n",
       "19    COc1cc(-n2ccc3cc(F)ccc32)cc2c1OCCN(Cc1cccnc1)C2     40.0      1\n",
       "6        Clc1cc(-c2csc3ccccc23)cc2c1OCCN(Cc1cccnc1)C2     80.0      1\n",
       "\n",
       "[66 rows x 3 columns]"
      ]
     },
     "execution_count": 12,
     "metadata": {},
     "output_type": "execute_result"
    }
   ],
   "source": [
    "df_mix = pd.DataFrame(data=data_mix, columns=['smiles','IC50','label'])\n",
    "df_mix = df_mix.sample(frac=1)\n",
    "df_mix"
   ]
  },
  {
   "cell_type": "code",
   "execution_count": 13,
   "metadata": {},
   "outputs": [
    {
     "data": {
      "text/plain": [
       "31"
      ]
     },
     "execution_count": 13,
     "metadata": {},
     "output_type": "execute_result"
    }
   ],
   "source": [
    "smiles_list = df_mix['smiles'].values\n",
    "y = df_mix['label'].values\n",
    "ic50s = df_mix['IC50'].values\n",
    "sum(y==0)"
   ]
  },
  {
   "cell_type": "code",
   "execution_count": 14,
   "metadata": {},
   "outputs": [
    {
     "data": {
      "text/plain": [
       "(66, 167)"
      ]
     },
     "execution_count": 14,
     "metadata": {},
     "output_type": "execute_result"
    }
   ],
   "source": [
    "x = []\n",
    "for smiles in smiles_list:\n",
    "    mol=Chem.MolFromSmiles(smiles)\n",
    "    fp = MACCSkeys.GenMACCSKeys(mol)\n",
    "    # fp_bits = fp.ToBitString()\n",
    "    fp_bits = fp.ToList()\n",
    "    x.append(fp_bits)\n",
    "x = np.array(x)\n",
    "x.shape"
   ]
  },
  {
   "cell_type": "code",
   "execution_count": 15,
   "metadata": {},
   "outputs": [],
   "source": [
    "sfolder = StratifiedKFold(n_splits=5,random_state=0,shuffle=True)"
   ]
  },
  {
   "cell_type": "code",
   "execution_count": 16,
   "metadata": {},
   "outputs": [
    {
     "name": "stdout",
     "output_type": "stream",
     "text": [
      "f1: 0.8571428571428571; precision: 0.8571428571428571.\n",
      "f1: 0.8461538461538461; precision: 0.8461538461538461.\n",
      "f1: 0.8461538461538461; precision: 0.8461538461538461.\n",
      "f1: 0.8461538461538461; precision: 0.8461538461538461.\n",
      "f1: 1.0; precision: 1.0.\n",
      "F1 mean: 0.8791208267211914, std: 0.06774081289768219.\n",
      "Precision mean: 0.8791208267211914, std: 0.06774081289768219.\n"
     ]
    }
   ],
   "source": [
    "f1_list = []\n",
    "precision_list =  []\n",
    "regr_list = []\n",
    "for train, test in sfolder.split(x,y,ic50s):\n",
    "    # print(sum(y[test]==0))\n",
    "    # print(sum(y[test]==1))\n",
    "    regr = make_pipeline(SVC(kernel='rbf', probability = True))\n",
    "    regr.fit(x[train], y[train])\n",
    "    pred = regr.predict(x[test])\n",
    "\n",
    "    # for i in range(len(pred)):\n",
    "    #     if pred[i] != y[test][i]:\n",
    "    #         print(f\"预测值: {pred[i]}, 实际值: {y[test][i]}, IC50: {ic50s[test][i]}\")\n",
    "\n",
    "    # print(pred)\n",
    "    # print(y[test])\n",
    "    f1 = f1_score(y[test].reshape(-1,1), pred.reshape(-1,1), average='micro')\n",
    "    p_score = precision_score(y[test], pred, average='micro')\n",
    "    f1_list.append(f1)\n",
    "    precision_list.append(p_score)\n",
    "    print(f\"f1: {f1}; precision: {p_score}.\")\n",
    "\n",
    "    regr_list.append(regr)\n",
    "\n",
    "f1_ts = torch.Tensor(f1_list)\n",
    "precision_ts = torch.Tensor(precision_list)\n",
    "\n",
    "print(f\"F1 mean: {f1_ts.mean()}, std: {f1_ts.std()}.\")\n",
    "print(f\"Precision mean: {precision_ts.mean()}, std: {precision_ts.std()}.\")"
   ]
  },
  {
   "cell_type": "code",
   "execution_count": 17,
   "metadata": {},
   "outputs": [
    {
     "data": {
      "text/plain": [
       "['SVC_EP2.m']"
      ]
     },
     "execution_count": 17,
     "metadata": {},
     "output_type": "execute_result"
    }
   ],
   "source": [
    "import joblib\n",
    "joblib.dump(regr_list[4], \"SVC_EP2.m\")"
   ]
  }
 ],
 "metadata": {
  "kernelspec": {
   "display_name": "base",
   "language": "python",
   "name": "python3"
  },
  "language_info": {
   "codemirror_mode": {
    "name": "ipython",
    "version": 3
   },
   "file_extension": ".py",
   "mimetype": "text/x-python",
   "name": "python",
   "nbconvert_exporter": "python",
   "pygments_lexer": "ipython3",
   "version": "3.9.7"
  },
  "orig_nbformat": 4
 },
 "nbformat": 4,
 "nbformat_minor": 2
}
