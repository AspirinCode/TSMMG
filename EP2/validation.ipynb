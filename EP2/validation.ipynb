{
 "cells": [
  {
   "cell_type": "code",
   "execution_count": 3,
   "metadata": {},
   "outputs": [],
   "source": [
    "from rdkit import Chem\n",
    "from rdkit.Chem import QED\n",
    "import pandas as pd\n",
    "import time\n",
    "from rdkit.Chem import RDConfig\n",
    "import os\n",
    "import sys\n",
    "sys.path.append(os.path.join(RDConfig.RDContribDir, 'SA_Score'))\n",
    "# now you can import sascore!\n",
    "import sascorer\n",
    "from rdkit.Chem import MACCSkeys\n",
    "import joblib\n",
    "import numpy as np\n",
    "from rdkit.Chem.Draw import rdMolDraw2D\n",
    "from rdkit.Chem import Draw"
   ]
  },
  {
   "attachments": {},
   "cell_type": "markdown",
   "metadata": {},
   "source": [
    "# 训练集"
   ]
  },
  {
   "cell_type": "code",
   "execution_count": 4,
   "metadata": {},
   "outputs": [],
   "source": [
    "ftarget = '../data/train/EP2.csv'\n",
    "df_target = pd.read_csv(ftarget)\n",
    "\n",
    "fadmet = '../data/train/EP4.csv'\n",
    "df_admet = pd.read_csv(fadmet)\n",
    "\n",
    "\n",
    "df = pd.concat([df_target, df_admet])\n",
    "train_data_list = df['smiles'].values"
   ]
  },
  {
   "attachments": {},
   "cell_type": "markdown",
   "metadata": {},
   "source": [
    "# 读取Log"
   ]
  },
  {
   "cell_type": "code",
   "execution_count": 5,
   "metadata": {},
   "outputs": [
    {
     "name": "stdout",
     "output_type": "stream",
     "text": [
      "58284\n"
     ]
    }
   ],
   "source": [
    "fname = '../log/eval_2000245_24_EP2nEP4.log'\n",
    "# fname = '../log/eval_gtp2_2421_EP2nEP4_200.log'\n",
    "# fname = '../log/eval_gtp2_2421_EP4_150.log'\n",
    "# fname = '../log/eval_2000245_4_EP2nEP4.log'\n",
    "# fname = '../log/eval_2000245_9_EP2nEP4.log'\n",
    "f =  open(fname,'r')\n",
    "lines = f.readlines()\n",
    "print(len(lines))\n",
    "\n",
    "predicts = []\n",
    "truth = []\n",
    "for line in lines:\n",
    "    if 'startofsmiles' in line:\n",
    "        # tmp = line.split('>')[1].strip()\n",
    "        tmp = line.split('<|startofsmiles|>')\n",
    "        # predicts.append(tmp[1].split(' ')[0].strip())\n",
    "        predicts.append(tmp[-1].strip())\n",
    "\n",
    "        # break\n",
    "    elif 'Reference' in line:\n",
    "        tmp = line.split('Reference smiles: ')[1].strip()\n",
    "        truth.append(tmp)\n",
    "    else:\n",
    "        pass\n",
    "\n",
    "nums = len(truth)"
   ]
  },
  {
   "attachments": {},
   "cell_type": "markdown",
   "metadata": {},
   "source": [
    "# 筛选"
   ]
  },
  {
   "cell_type": "code",
   "execution_count": 6,
   "metadata": {},
   "outputs": [
    {
     "name": "stderr",
     "output_type": "stream",
     "text": [
      "[15:57:41] SMILES Parse Error: unclosed ring for input: 'Cc1ccccc1OCC1C(=O)OCC1C(O)CCOC1C'\n",
      "[15:57:42] Can't kekulize mol.  Unkekulized atoms: 11 12 14\n"
     ]
    },
    {
     "name": "stdout",
     "output_type": "stream",
     "text": [
      "Cc1ccccc1OCC1C(=O)OCC1C(O)CCOC1C\n",
      "CCCC(=NCC1CCCO1)c1c(C)c(C#N)c(=O)n1C1CCNCC1\n"
     ]
    },
    {
     "name": "stderr",
     "output_type": "stream",
     "text": [
      "[15:57:42] Can't kekulize mol.  Unkekulized atoms: 1 2 5 6 15 16 17 18 19\n",
      "[15:57:42] Can't kekulize mol.  Unkekulized atoms: 1 2 15 16 17 18 19 26 27\n",
      "[15:57:42] Can't kekulize mol.  Unkekulized atoms: 1 2 3 4 18 19 20 21 22\n",
      "[15:57:42] Can't kekulize mol.  Unkekulized atoms: 1 2 3 4 5 11 12 13 14\n",
      "[15:57:42] Can't kekulize mol.  Unkekulized atoms: 10 11 13 14 15 16 22 23 24\n",
      "[15:57:42] Can't kekulize mol.  Unkekulized atoms: 17 18 19\n",
      "[15:57:42] Can't kekulize mol.  Unkekulized atoms: 17 18 19\n",
      "[15:57:42] Can't kekulize mol.  Unkekulized atoms: 13 14 29\n",
      "[15:57:42] Can't kekulize mol.  Unkekulized atoms: 13 14 29\n",
      "[15:57:42] Can't kekulize mol.  Unkekulized atoms: 13 14 29\n",
      "[15:57:42] Can't kekulize mol.  Unkekulized atoms: 19 20 37\n"
     ]
    },
    {
     "name": "stdout",
     "output_type": "stream",
     "text": [
      "Cc1c(C=O)c2c(OCc3ccccc3)nnc2cc1N1CCC(N)C1\n",
      "Cc1c(CCc2ccc(C(F)(F)F)cc2)nnc2cc(N3CCC(N)C3)cnn12\n",
      "Cc1cc2c(NCCc3ccc(S(N)(=O)=O)cc3)nnc2cc1C1CNNC1\n",
      "Cc1nc2cc(C3CNNC3)ccc2c1OCc1ccccc1\n",
      "CN1CCN(CCCN=Cc2c(O)cc3cc(C4CCOC4)ccc23)CC1\n",
      "O=C(NS(=O)(=O)c1cnccc1-n1cnn(Cc2ccn(-c3ccccc3)c2=O)c1=O)N1CCCC1\n",
      "O=C(CS(=O)(=O)c1cnccc1-n1ccn(Cc2ccn(-c3ccccc3)c2=O)c1=O)N1CCCC1\n",
      "O=C(NS(=O)(=O)c1cnccc1-n1ccn(Cc2ccn(-c3ccccc3)c2=O)c1)N1CCCC1\n",
      "O=C(NS(=O)(=O)c1ccccc1-n1ccn(Cn2ccn(-c3ccccc3)c2=O)n1)N1CCCC1\n",
      "O=C(CS(=O)(=O)c1ccccc1-n1ccn(Cn2ccn(-c3ccccc3)c2=O)n1)N1CCCC1\n",
      "Cc1oncc1C(=O)NS(=O)(=O)c1cnccc1-n1cnn(C(C)c2ccc(-c3ccccc3)c(=O)o2)c1\n"
     ]
    },
    {
     "name": "stderr",
     "output_type": "stream",
     "text": [
      "[15:57:42] Can't kekulize mol.  Unkekulized atoms: 2 3 5 6 7 8 9 16 18\n",
      "[15:57:42] Can't kekulize mol.  Unkekulized atoms: 1 2 4 11 13 14 15 24 26\n",
      "[15:57:42] Can't kekulize mol.  Unkekulized atoms: 1 2 3 4 14 15 16 17 18\n",
      "[15:57:42] Can't kekulize mol.  Unkekulized atoms: 9 10 11 12 13 14 15 17 18 19 20 21 22 23 24 25 26 27 28\n",
      "[15:57:42] Can't kekulize mol.  Unkekulized atoms: 9 10 11 12 13 14 15 16 17 18 19 20 21 23 24 25 26 27 28\n",
      "[15:57:42] Can't kekulize mol.  Unkekulized atoms: 9 10 11 12 13 14 15 16 18 19 20 21 22 23 24 25 26 27 28\n",
      "[15:57:42] Can't kekulize mol.  Unkekulized atoms: 15 16 18 19 20 21 22\n"
     ]
    },
    {
     "name": "stdout",
     "output_type": "stream",
     "text": [
      "N#Cc1c(N)nc2ccc(N3CCC(F)C3)nn2c1NCc1ccccc1\n",
      "Cc1c(N)c(N2CCC(O)C2)nn2ccc(OCc3ccccc3)c(F)c12\n",
      "Cc1cc2c(N(C)Cc3ccccn3)nnc2cc1N1CCC(N)C1\n",
      "O=c1cc(CN2CCOc3c2cnc(-c2csc4ccccc34)c3nccnc23)nc[nH]1\n",
      "O=c1cc(CN2CCOc3c2cnc(-c2cnc4ccccn34)c3cccnc23)cc[nH]1\n",
      "O=c1cc(CN2CCOc3c2cnc(-c2cnn4ccccc34)c3cccnc23)cc[nH]1\n",
      "Oc1ccc(CN2CCOc3c(O)cc(-c4csc5ncccn45)cc3C2)nc1\n"
     ]
    },
    {
     "name": "stderr",
     "output_type": "stream",
     "text": [
      "[15:57:42] Can't kekulize mol.  Unkekulized atoms: 1 2 3 4 5 6 7 8 10\n",
      "[15:57:42] SMILES Parse Error: unclosed ring for input: 'Cc1ccccc1CCN1C(=O)CCC1C=CC(O)C1O'\n",
      "[15:57:42] SMILES Parse Error: unclosed ring for input: 'Cc1ccccc1CCN1C(=O)CCC1C=CC(O)C1CO'\n"
     ]
    },
    {
     "name": "stdout",
     "output_type": "stream",
     "text": [
      "Cc1ccc2c(c1)c1c([nH]c2CC(=O)O)CCN(C(=O)c2cncc3ccccc23)C1\n",
      "Cc1ccccc1CCN1C(=O)CCC1C=CC(O)C1O\n",
      "Cc1ccccc1CCN1C(=O)CCC1C=CC(O)C1CO\n"
     ]
    },
    {
     "name": "stderr",
     "output_type": "stream",
     "text": [
      "[15:57:43] Can't kekulize mol.  Unkekulized atoms: 1 2 14 15 16 17 18 25 26\n",
      "[15:57:43] Can't kekulize mol.  Unkekulized atoms: 1 2 3 4 14 15 16 17 18\n",
      "[15:57:43] Explicit valence for atom # 11 N, 4, is greater than permitted\n",
      "[15:57:43] Can't kekulize mol.  Unkekulized atoms: 4 5 6\n",
      "[15:57:43] Can't kekulize mol.  Unkekulized atoms: 3 4 5 6 7 16 17 18 19\n",
      "[15:57:43] Can't kekulize mol.  Unkekulized atoms: 1 2 5 6 15 16 17 18 19\n"
     ]
    },
    {
     "name": "stdout",
     "output_type": "stream",
     "text": [
      "Cc1c(CCc2ccc(C(=O)O)cc2)nnc2cc(N3CCC(O)C3)cnn12\n",
      "Cc1cc2c(N(C)Cc3ccccn3)nnc2cc1N1CCC(N)C1\n",
      "c1ccc(CN2CCCC3ON23c2nc(-c3ccccc3)n(-c3ccccc3)n2)nc1\n",
      "CC(=O)Nc1ccsc1=S\n",
      "COC1(c2ccc3c(CCc4ccccc4)nnc3c2)OC(CO)C(O)C1O\n",
      "Cc1c(C=O)c2c(OCc3ccccc3)nnc2nc1N1CCCC1CO\n"
     ]
    },
    {
     "name": "stderr",
     "output_type": "stream",
     "text": [
      "[15:57:43] Can't kekulize mol.  Unkekulized atoms: 2 3 5 6 7 8 9 16 18\n"
     ]
    },
    {
     "name": "stdout",
     "output_type": "stream",
     "text": [
      "N#Cc1c(N)nc2ccc(N3CCC(O)C3)nn2c1CCc1ccccc1\n"
     ]
    },
    {
     "name": "stderr",
     "output_type": "stream",
     "text": [
      "[15:57:43] Can't kekulize mol.  Unkekulized atoms: 2 3 5 6 7 8 9 15 17\n",
      "[15:57:43] Can't kekulize mol.  Unkekulized atoms: 17 18 19 20 21 22 23 24 25\n",
      "[15:57:43] Can't kekulize mol.  Unkekulized atoms: 7 8 9 10 11 12 18 19 20\n",
      "[15:57:43] Can't kekulize mol.  Unkekulized atoms: 8 9 10 11 12 13 22 23 24\n",
      "[15:57:43] SMILES Parse Error: unclosed ring for input: 'CN1CCN(CC=Cc2ccccc2OCC2OCCOCc3ccccc3OCC2OCC2OCCCN2CCOCC2)CC1'\n",
      "[15:57:43] SMILES Parse Error: unclosed ring for input: 'N#Cc1ccc(COc2ccccc2OCC2COCCN2CC=CC2CN2CCOCC2=CN2CCOCC2)cc1'\n"
     ]
    },
    {
     "name": "stdout",
     "output_type": "stream",
     "text": [
      "N#Cc1c(N)nc2ccc(N3CCCC3)nn2c1NCc1ccccc1\n",
      "O=C(COc1ccccc1-c1ncnc(C=Cc2ccc3ccccc3o2)n1)NS(=O)(=O)N1CCCC1\n",
      "Cc1cnc(CNc2nnc3cc(C4CNNC4)ccc23)cn1\n",
      "Cc1cccc(CNc2nnc3cc(N4CCC(C(=O)O)C4)ccc23)n1\n",
      "CN1CCN(CC=Cc2ccccc2OCC2OCCOCc3ccccc3OCC2OCC2OCCCN2CCOCC2)CC1\n",
      "N#Cc1ccc(COc2ccccc2OCC2COCCN2CC=CC2CN2CCOCC2=CN2CCOCC2)cc1\n",
      "CN1CCN(CC=Cc2ccccc2OCC2COCCN2CCOCC2COc2ccccc2OCC2COCCO2)CC1\n",
      "N#Cc1ccc(COc2ccccc2OCC2CNCCN2CC=CC2CN2CCOCC2=CN2CCOCC2)cc1\n",
      "1=CCCN(CCN2CCOCC2COc2ccccc2OCC2OCCOC2=NC2CCOCC2)C1\n",
      "N#Cc1ccc(COc2ccccc2OCC2COCCN2CC=CC2CN2CCOCC2COc2cccnc2)cc1\n",
      "1=COCCN1CCN1CCOCC1COc1ccccc1OCC1COCCN1CC=Cc1ccccc1\n",
      "Cc1cc2c(N(C)Cc3ccccn3)nnc2cc1N1CCC(N)C1\n",
      "Cc1c(CCc2ccc(Cl)cc2)nnc2cc(B3OC(C)(C)C(C)(C)O3)cnn12\n"
     ]
    },
    {
     "name": "stderr",
     "output_type": "stream",
     "text": [
      "[15:57:43] SMILES Parse Error: unclosed ring for input: 'CN1CCN(CC=Cc2ccccc2OCC2COCCN2CCOCC2COc2ccccc2OCC2COCCO2)CC1'\n",
      "[15:57:43] SMILES Parse Error: unclosed ring for input: 'N#Cc1ccc(COc2ccccc2OCC2CNCCN2CC=CC2CN2CCOCC2=CN2CCOCC2)cc1'\n",
      "[15:57:43] SMILES Parse Error: syntax error while parsing: 1=CCCN(CCN2CCOCC2COc2ccccc2OCC2OCCOC2=NC2CCOCC2)C1\n",
      "[15:57:43] SMILES Parse Error: Failed parsing SMILES '1=CCCN(CCN2CCOCC2COc2ccccc2OCC2OCCOC2=NC2CCOCC2)C1' for input: '1=CCCN(CCN2CCOCC2COc2ccccc2OCC2OCCOC2=NC2CCOCC2)C1'\n",
      "[15:57:43] SMILES Parse Error: unclosed ring for input: 'N#Cc1ccc(COc2ccccc2OCC2COCCN2CC=CC2CN2CCOCC2COc2cccnc2)cc1'\n",
      "[15:57:43] SMILES Parse Error: syntax error while parsing: 1=COCCN1CCN1CCOCC1COc1ccccc1OCC1COCCN1CC=Cc1ccccc1\n",
      "[15:57:43] SMILES Parse Error: Failed parsing SMILES '1=COCCN1CCN1CCOCC1COc1ccccc1OCC1COCCN1CC=Cc1ccccc1' for input: '1=COCCN1CCN1CCOCC1COc1ccccc1OCC1COCCN1CC=Cc1ccccc1'\n",
      "[15:57:44] Can't kekulize mol.  Unkekulized atoms: 1 2 3 4 14 15 16 17 18\n",
      "[15:57:44] Can't kekulize mol.  Unkekulized atoms: 1 2 12 13 14 15 16 26 27\n",
      "[15:57:44] SMILES Parse Error: syntax error while parsing: 2c(F)cnc(NCc3ccccc3)nc2cc1C(=CN1CCOCC1)CN1CCOCC1=NC1CCOCC1\n",
      "[15:57:44] SMILES Parse Error: Failed parsing SMILES '2c(F)cnc(NCc3ccccc3)nc2cc1C(=CN1CCOCC1)CN1CCOCC1=NC1CCOCC1' for input: '2c(F)cnc(NCc3ccccc3)nc2cc1C(=CN1CCOCC1)CN1CCOCC1=NC1CCOCC1'\n",
      "[15:57:44] SMILES Parse Error: syntax error while parsing: 1cnc(NCc2ccncc2)nc1C=C(CN1CCNCC1)NC1CCOCC1=NC1CCCCC1\n",
      "[15:57:44] SMILES Parse Error: Failed parsing SMILES '1cnc(NCc2ccncc2)nc1C=C(CN1CCNCC1)NC1CCOCC1=NC1CCCCC1' for input: '1cnc(NCc2ccncc2)nc1C=C(CN1CCNCC1)NC1CCOCC1=NC1CCCCC1'\n",
      "[15:57:44] SMILES Parse Error: syntax error while parsing: 1cnc(NCN2CCOCC2)nc1NC=Cc1cccc(CNC2CCCCC2)c1\n",
      "[15:57:44] SMILES Parse Error: Failed parsing SMILES '1cnc(NCN2CCOCC2)nc1NC=Cc1cccc(CNC2CCCCC2)c1' for input: '1cnc(NCN2CCOCC2)nc1NC=Cc1cccc(CNC2CCCCC2)c1'\n",
      "[15:57:44] SMILES Parse Error: syntax error while parsing: 1c(COc2ccccc2)cccc1ON=C(CN1CCOCC1)CN1CCOCC1C=C(NC1CCOCC1)NN1CCOCC1\n",
      "[15:57:44] SMILES Parse Error: Failed parsing SMILES '1c(COc2ccccc2)cccc1ON=C(CN1CCOCC1)CN1CCOCC1C=C(NC1CCOCC1)NN1CCOCC1' for input: '1c(COc2ccccc2)cccc1ON=C(CN1CCOCC1)CN1CCOCC1C=C(NC1CCOCC1)NN1CCOCC1'\n",
      "[15:57:44] SMILES Parse Error: syntax error while parsing: 1cnc(CN2CCCCC2)nc1C=CCN1CCOCC1C(=Cc1ccccc1)CN1CCOCC1\n",
      "[15:57:44] SMILES Parse Error: Failed parsing SMILES '1cnc(CN2CCCCC2)nc1C=CCN1CCOCC1C(=Cc1ccccc1)CN1CCOCC1' for input: '1cnc(CN2CCCCC2)nc1C=CCN1CCOCC1C(=Cc1ccccc1)CN1CCOCC1'\n",
      "[15:57:44] SMILES Parse Error: syntax error while parsing: 1cnc(CCN2CCOCC2)cc1C=C(Nc1ncccn1)NN1CCOCC1=NC1CCCCC1\n",
      "[15:57:44] SMILES Parse Error: Failed parsing SMILES '1cnc(CCN2CCOCC2)cc1C=C(Nc1ncccn1)NN1CCOCC1=NC1CCCCC1' for input: '1cnc(CCN2CCOCC2)cc1C=C(Nc1ncccn1)NN1CCOCC1=NC1CCCCC1'\n",
      "[15:57:44] SMILES Parse Error: syntax error while parsing: 1cnc(CNc2ccccn2)nc1C=C(NC1CCOCC1)NC1CCOCC1=CN1CCOCC1\n",
      "[15:57:44] SMILES Parse Error: Failed parsing SMILES '1cnc(CNc2ccccn2)nc1C=C(NC1CCOCC1)NC1CCOCC1=CN1CCOCC1' for input: '1cnc(CNc2ccccn2)nc1C=C(NC1CCOCC1)NC1CCOCC1=CN1CCOCC1'\n",
      "[15:57:44] SMILES Parse Error: syntax error while parsing: 1cnc(NCN2CCOCC2)nc1NC=Cc1cccc(CNC2CCCCC2)c1\n",
      "[15:57:44] SMILES Parse Error: Failed parsing SMILES '1cnc(NCN2CCOCC2)nc1NC=Cc1cccc(CNC2CCCCC2)c1' for input: '1cnc(NCN2CCOCC2)nc1NC=Cc1cccc(CNC2CCCCC2)c1'\n",
      "[15:57:44] SMILES Parse Error: syntax error while parsing: 1cnc(CN2CCOCC2)nc1NC=NC1CCCN(CCc2ccccc2)C1=NC1CCOCC1\n",
      "[15:57:44] SMILES Parse Error: Failed parsing SMILES '1cnc(CN2CCOCC2)nc1NC=NC1CCCN(CCc2ccccc2)C1=NC1CCOCC1' for input: '1cnc(CN2CCOCC2)nc1NC=NC1CCCN(CCc2ccccc2)C1=NC1CCOCC1'\n",
      "[15:57:44] Can't kekulize mol.  Unkekulized atoms: 10 11 12 13 23\n",
      "[15:57:44] Can't kekulize mol.  Unkekulized atoms: 1 2 3 4 14 15 16\n",
      "[15:57:44] Can't kekulize mol.  Unkekulized atoms: 1 2 3 4 5 6 7 8 10\n"
     ]
    },
    {
     "name": "stdout",
     "output_type": "stream",
     "text": [
      "2c(F)cnc(NCc3ccccc3)nc2cc1C(=CN1CCOCC1)CN1CCOCC1=NC1CCOCC1\n",
      "1cnc(NCc2ccncc2)nc1C=C(CN1CCNCC1)NC1CCOCC1=NC1CCCCC1\n",
      "1cnc(NCN2CCOCC2)nc1NC=Cc1cccc(CNC2CCCCC2)c1\n",
      "1c(COc2ccccc2)cccc1ON=C(CN1CCOCC1)CN1CCOCC1C=C(NC1CCOCC1)NN1CCOCC1\n",
      "1cnc(CN2CCCCC2)nc1C=CCN1CCOCC1C(=Cc1ccccc1)CN1CCOCC1\n",
      "1cnc(CCN2CCOCC2)cc1C=C(Nc1ncccn1)NN1CCOCC1=NC1CCCCC1\n",
      "1cnc(CNc2ccccn2)nc1C=C(NC1CCOCC1)NC1CCOCC1=CN1CCOCC1\n",
      "1cnc(NCN2CCOCC2)nc1NC=Cc1cccc(CNC2CCCCC2)c1\n",
      "1cnc(CN2CCOCC2)nc1NC=NC1CCCN(CCc2ccccc2)C1=NC1CCOCC1\n",
      "c1cncc(CN2CCOc3c2cc(-c2cnn4ccccc24)cc3(F)F)n1\n",
      "Oc1ccc(-c2cnc3ccccn23)cc2c1OCCN(Cc1cccnc1)C2\n",
      "Cc1ccc2c(c1)c1c([nH]c2C(N)=O)CCN(C(=O)c2cccc3nccnc23)C1\n"
     ]
    },
    {
     "name": "stderr",
     "output_type": "stream",
     "text": [
      "[15:57:44] SMILES Parse Error: syntax error while parsing: (C(=O)NCC1CCCCN1-c1ccc(OCCNCC2CCOCC2)cc1)S(=O)(=O)C1CCOC1\n",
      "[15:57:44] SMILES Parse Error: Failed parsing SMILES '(C(=O)NCC1CCCCN1-c1ccc(OCCNCC2CCOCC2)cc1)S(=O)(=O)C1CCOC1' for input: '(C(=O)NCC1CCCCN1-c1ccc(OCCNCC2CCOCC2)cc1)S(=O)(=O)C1CCOC1'\n",
      "[15:57:44] Can't kekulize mol.  Unkekulized atoms: 33 34 35 36 37 38 39 40 41\n",
      "[15:57:44] SMILES Parse Error: syntax error while parsing: O=C1c2ccccc2CCc2ccccc2N1CC1(O)CCNCC1<|QED|>LOW<|S(=O)(=O)N(CC1CCNCC1)C(=O)CCCN1CCOCC1\n",
      "[15:57:44] SMILES Parse Error: Failed parsing SMILES 'O=C1c2ccccc2CCc2ccccc2N1CC1(O)CCNCC1<|QED|>LOW<|S(=O)(=O)N(CC1CCNCC1)C(=O)CCCN1CCOCC1' for input: 'O=C1c2ccccc2CCc2ccccc2N1CC1(O)CCNCC1<|QED|>LOW<|S(=O)(=O)N(CC1CCNCC1)C(=O)CCCN1CCOCC1'\n",
      "[15:57:44] SMILES Parse Error: syntax error while parsing: O=C1c2ccccc2CCc2ccccc2N1CC1(O)CCNCC1<|QED|>LOW<|S(=O)(=O)N(Cc1ccccc1)C(=O)CCCN1CCOCC1\n",
      "[15:57:44] SMILES Parse Error: Failed parsing SMILES 'O=C1c2ccccc2CCc2ccccc2N1CC1(O)CCNCC1<|QED|>LOW<|S(=O)(=O)N(Cc1ccccc1)C(=O)CCCN1CCOCC1' for input: 'O=C1c2ccccc2CCc2ccccc2N1CC1(O)CCNCC1<|QED|>LOW<|S(=O)(=O)N(Cc1ccccc1)C(=O)CCCN1CCOCC1'\n",
      "[15:57:44] SMILES Parse Error: syntax error while parsing: 2CCN(C)C(=NC1CCCCC1OCC1COCCN1CCOCC1=NC1CCCCC1OCc1ccccn1)N1CCOCC1\n",
      "[15:57:44] SMILES Parse Error: Failed parsing SMILES '2CCN(C)C(=NC1CCCCC1OCC1COCCN1CCOCC1=NC1CCCCC1OCc1ccccn1)N1CCOCC1' for input: '2CCN(C)C(=NC1CCCCC1OCC1COCCN1CCOCC1=NC1CCCCC1OCc1ccccn1)N1CCOCC1'\n",
      "[15:57:44] SMILES Parse Error: syntax error while parsing: 2CCN(C)C(=Nc1ccccc1OCC1COCCN(C)C1COc1ccccc1OCC1COCCN1CCOCC1)NC1CCOCC1\n",
      "[15:57:44] SMILES Parse Error: Failed parsing SMILES '2CCN(C)C(=Nc1ccccc1OCC1COCCN(C)C1COc1ccccc1OCC1COCCN1CCOCC1)NC1CCOCC1' for input: '2CCN(C)C(=Nc1ccccc1OCC1COCCN(C)C1COc1ccccc1OCC1COCCN1CCOCC1)NC1CCOCC1'\n",
      "[15:57:44] SMILES Parse Error: ring closure 2 duplicates bond between atom 33 and atom 34 for input: 'N1CCN(CC=Cc2ccccc2OCC2COCCN2CCOCC2COc2ccccc2-c2ccncc2)CC1'\n",
      "[15:57:44] SMILES Parse Error: syntax error while parsing: 2*****1<|>CN(C)c1ccc(C=CCN2CCOCC2COc2ccccc2OCC2CNCCN2CCOCC2)cc1\n",
      "[15:57:44] SMILES Parse Error: Failed parsing SMILES '2*****1<|>CN(C)c1ccc(C=CCN2CCOCC2COc2ccccc2OCC2CNCCN2CCOCC2)cc1' for input: '2*****1<|>CN(C)c1ccc(C=CCN2CCOCC2COc2ccccc2OCC2CNCCN2CCOCC2)cc1'\n",
      "[15:57:44] SMILES Parse Error: unclosed ring for input: 'N#Cc1ccc(COc2ccccc2OCC2COCCN2CC=CC2CN2CCOCC2=CN2CCOCC2)cc1'\n",
      "[15:57:44] SMILES Parse Error: syntax error while parsing: 2CCN(C)C(=Nc1ccccc1COc1ccccc1OCC1CNCCN1CCN1CCOCC1)NC1CCOCC1\n",
      "[15:57:44] SMILES Parse Error: Failed parsing SMILES '2CCN(C)C(=Nc1ccccc1COc1ccccc1OCC1CNCCN1CCN1CCOCC1)NC1CCOCC1' for input: '2CCN(C)C(=Nc1ccccc1COc1ccccc1OCC1CNCCN1CCN1CCOCC1)NC1CCOCC1'\n"
     ]
    },
    {
     "name": "stdout",
     "output_type": "stream",
     "text": [
      "(C(=O)NCC1CCCCN1-c1ccc(OCCNCC2CCOCC2)cc1)S(=O)(=O)C1CCOC1\n",
      "O=C(CCC1CCCCC1)NS(=O)(=O)c1cccnc1-c1ccc(CN2C(=O)N3CCCNc3cnc3ccccc32)cc1\n",
      "O=C1c2ccccc2CCc2ccccc2N1CC1(O)CCNCC1<|QED|>LOW<|S(=O)(=O)N(CC1CCNCC1)C(=O)CCCN1CCOCC1\n",
      "O=C1c2ccccc2CCc2ccccc2N1CC1(O)CCNCC1<|QED|>LOW<|S(=O)(=O)N(Cc1ccccc1)C(=O)CCCN1CCOCC1\n",
      "2CCN(C)C(=NC1CCCCC1OCC1COCCN1CCOCC1=NC1CCCCC1OCc1ccccn1)N1CCOCC1\n",
      "2CCN(C)C(=Nc1ccccc1OCC1COCCN(C)C1COc1ccccc1OCC1COCCN1CCOCC1)NC1CCOCC1\n",
      "N1CCN(CC=Cc2ccccc2OCC2COCCN2CCOCC2COc2ccccc2-c2ccncc2)CC1\n",
      "2*****1<|>CN(C)c1ccc(C=CCN2CCOCC2COc2ccccc2OCC2CNCCN2CCOCC2)cc1\n",
      "N#Cc1ccc(COc2ccccc2OCC2COCCN2CC=CC2CN2CCOCC2=CN2CCOCC2)cc1\n",
      "2CCN(C)C(=Nc1ccccc1COc1ccccc1OCC1CNCCN1CCN1CCOCC1)NC1CCOCC1\n"
     ]
    },
    {
     "name": "stderr",
     "output_type": "stream",
     "text": [
      "[15:57:44] Explicit valence for atom # 21 O, 3, is greater than permitted\n",
      "[15:57:44] SMILES Parse Error: unclosed ring for input: 'N#Cc1ccc(COc2ccccc2OCC2CNCCN2CC=CC2CN2CCOCC2=NC2CCOCC2)cc1'\n",
      "[15:57:44] SMILES Parse Error: unclosed ring for input: 'N#Cc1ccc(COC2COCCN(CC=Cc3ccccc3CNC3CCOCC3OCC3OCC3OCC3O)Cc2)cc1'\n",
      "[15:57:44] SMILES Parse Error: syntax error while parsing: 2CCN(CC=Cc3ccccc3)C(COc3ccccc3OCC3CNCCN3CCN3CCN(C)CC3)=CN1\n",
      "[15:57:44] SMILES Parse Error: Failed parsing SMILES '2CCN(CC=Cc3ccccc3)C(COc3ccccc3OCC3CNCCN3CCN3CCN(C)CC3)=CN1' for input: '2CCN(CC=Cc3ccccc3)C(COc3ccccc3OCC3CNCCN3CCN3CCN(C)CC3)=CN1'\n",
      "[15:57:44] SMILES Parse Error: unclosed ring for input: 'CN1CCCN(CC=Cc2ccccc2OCC2OCCOC2CNC2CNC2CCOCC2)Cc2ccccc21'\n",
      "[15:57:44] SMILES Parse Error: syntax error while parsing: 1=CCCN(CCN2CCOCC2COc2ccccc2OCC2COCCN2CC=Cc2ccccn2)C1\n",
      "[15:57:44] SMILES Parse Error: Failed parsing SMILES '1=CCCN(CCN2CCOCC2COc2ccccc2OCC2COCCN2CC=Cc2ccccn2)C1' for input: '1=CCCN(CCN2CCOCC2COc2ccccc2OCC2COCCN2CC=Cc2ccccn2)C1'\n",
      "[15:57:44] SMILES Parse Error: unclosed ring for input: 'N#Cc1ccc(OCc2ccccc2OCC2OCCOC3(=NC4CCCCC4NC=NN4CCOCC4)CCOCC2)nc1'\n"
     ]
    },
    {
     "name": "stdout",
     "output_type": "stream",
     "text": [
      "Nc1ccnc(NCC2OCC3CN(C4CCCC4)CCO32)n1\n",
      "N#Cc1ccc(COc2ccccc2OCC2CNCCN2CC=CC2CN2CCOCC2=NC2CCOCC2)cc1\n",
      "N#Cc1ccc(COC2COCCN(CC=Cc3ccccc3CNC3CCOCC3OCC3OCC3OCC3O)Cc2)cc1\n",
      "2CCN(CC=Cc3ccccc3)C(COc3ccccc3OCC3CNCCN3CCN3CCN(C)CC3)=CN1\n",
      "CN1CCCN(CC=Cc2ccccc2OCC2OCCOC2CNC2CNC2CCOCC2)Cc2ccccc21\n",
      "1=CCCN(CCN2CCOCC2COc2ccccc2OCC2COCCN2CC=Cc2ccccn2)C1\n",
      "N#Cc1ccc(OCc2ccccc2OCC2OCCOC3(=NC4CCCCC4NC=NN4CCOCC4)CCOCC2)nc1\n"
     ]
    },
    {
     "name": "stderr",
     "output_type": "stream",
     "text": [
      "[15:57:45] Can't kekulize mol.  Unkekulized atoms: 2 3 4\n"
     ]
    },
    {
     "name": "stdout",
     "output_type": "stream",
     "text": [
      "COc1ccc(OCC(F)F)=CC1C(C)C(N)C(=O)N1C(=O)OCC1C(C)C\n"
     ]
    },
    {
     "name": "stderr",
     "output_type": "stream",
     "text": [
      "[15:57:45] Can't kekulize mol.  Unkekulized atoms: 5 6 7 8 9 20 21 22 23\n",
      "[15:57:45] Explicit valence for atom # 21 O, 3, is greater than permitted\n",
      "[15:57:45] Can't kekulize mol.  Unkekulized atoms: 1 2 3 4 16 17 19 20 21\n"
     ]
    },
    {
     "name": "stdout",
     "output_type": "stream",
     "text": [
      "NC1CCN(c2ccc3c(NCCCc4ccccc4)nnc3n2)C1\n",
      "O=C(C=Cc1c[nH]c2ncnc(NC3CCC4CNCCO4C3)c12)NS(=O)(=O)c1ccccc1\n",
      "Cc1cc2c(N(CCO)Cc3ccccc3)nc(N)c2cc1C1CNNC1\n"
     ]
    },
    {
     "name": "stderr",
     "output_type": "stream",
     "text": [
      "[15:57:45] Can't kekulize mol.  Unkekulized atoms: 1 2 3 4 14 15 16\n",
      "[15:57:45] SMILES Parse Error: unclosed ring for input: 'c1cncc(CN2CCOc3c2cc(-c2cnc4ccc(Cl)nn24)cc3C2)c1'\n"
     ]
    },
    {
     "name": "stdout",
     "output_type": "stream",
     "text": [
      "Oc1ccc(-c2cnc3ccccn23)cc2c1OCCN(Cc1cccnc1)C2\n",
      "c1cncc(CN2CCOc3c2cc(-c2cnc4ccc(Cl)nn24)cc3C2)c1\n"
     ]
    },
    {
     "name": "stderr",
     "output_type": "stream",
     "text": [
      "[15:57:46] Can't kekulize mol.  Unkekulized atoms: 1 2 3 4 13 14 15 16 17\n",
      "[15:57:46] Can't kekulize mol.  Unkekulized atoms: 2 3 5 6 7 8 9 16 18\n",
      "[15:57:46] Can't kekulize mol.  Unkekulized atoms: 6 7 9 10 11 20 21 22 23\n",
      "[15:57:46] SMILES Parse Error: syntax error while parsing: N#Cc1c(-c2ccccc2)cc(-c2ccccc2)nc1-c1ccc(1[O-])[NH2+]\n",
      "[15:57:46] SMILES Parse Error: Failed parsing SMILES 'N#Cc1c(-c2ccccc2)cc(-c2ccccc2)nc1-c1ccc(1[O-])[NH2+]' for input: 'N#Cc1c(-c2ccccc2)cc(-c2ccccc2)nc1-c1ccc(1[O-])[NH2+]'\n",
      "[15:57:46] Can't kekulize mol.  Unkekulized atoms: 2 3 5 6 7 8 15 16 18\n"
     ]
    },
    {
     "name": "stdout",
     "output_type": "stream",
     "text": [
      "Cc1cc2c(NCc3ccccc3)nnc2cc1N1CCC(O)C1\n",
      "N#Cc1c(N)nc2ccc(N3CCC(F)C3)nn2c1NCc1ccccc1\n",
      "CNC1CCN(c2c(C)cc3c(OCc4ccccc4)nnc3c2N)C1\n",
      "N#Cc1c(-c2ccccc2)cc(-c2ccccc2)nc1-c1ccc(1[O-])[NH2+]\n",
      "N#Cc1c(N)nc2cc(N3CCC(N)C3)cnn2c1NCc1ccccc1\n"
     ]
    },
    {
     "name": "stderr",
     "output_type": "stream",
     "text": [
      "[15:57:46] SMILES Parse Error: unclosed ring for input: 'c1cncc(CN2CCOc3c2cc(-c2cnn4ccncc34)cc3n2)c1'\n",
      "[15:57:46] Can't kekulize mol.  Unkekulized atoms: 7 8 9 10 19 20 21\n"
     ]
    },
    {
     "name": "stdout",
     "output_type": "stream",
     "text": [
      "c1cncc(CN2CCOc3c2cc(-c2cnn4ccncc34)cc3n2)c1\n",
      "OC1C(F)OC(n2cnc3c(NCc4ccccc4)nnc32)C1O\n"
     ]
    },
    {
     "name": "stderr",
     "output_type": "stream",
     "text": [
      "[15:57:46] Can't kekulize mol.  Unkekulized atoms: 6 7 8 9 10 19 20 21 22\n",
      "[15:57:46] SMILES Parse Error: duplicated ring closure 1 bonds atom 30 to itself for input: 'CN1CCN(CC2CCCCC2)C(c2nc(-c3ccccc3)c(-c3ccccc3)o2)=C111CO'\n"
     ]
    },
    {
     "name": "stdout",
     "output_type": "stream",
     "text": [
      "NCC1CCC(c2ccc3c(CCc4ccccc4)nnc3c2)N1\n",
      "CN1CCN(CC2CCCCC2)C(c2nc(-c3ccccc3)c(-c3ccccc3)o2)=C111CO\n"
     ]
    },
    {
     "name": "stderr",
     "output_type": "stream",
     "text": [
      "[15:57:47] Can't kekulize mol.  Unkekulized atoms: 17 18 19 20 21\n",
      "[15:57:47] Can't kekulize mol.  Unkekulized atoms: 1 2 3 4 15 16 17\n",
      "[15:57:47] Can't kekulize mol.  Unkekulized atoms: 9 10 11 12 13 14 15 17 18 19 20 21 22 23 24\n",
      "[15:57:47] Can't kekulize mol.  Unkekulized atoms: 9 10 11 12 13 14 15 16 17 18 19 20 21 23 24 25 26 27 28\n",
      "[15:57:47] Can't kekulize mol.  Unkekulized atoms: 9 10 11 12 13 15 16 17 18 19 20 21 22 23 24\n",
      "[15:57:47] SMILES Parse Error: syntax error while parsing: COc1ccc(C=CC(=O)NS(=O)(=O)c2ccc()s2)c(C=CCN2CCOCC2)c1\n",
      "[15:57:47] SMILES Parse Error: Failed parsing SMILES 'COc1ccc(C=CC(=O)NS(=O)(=O)c2ccc()s2)c(C=CCN2CCOCC2)c1' for input: 'COc1ccc(C=CC(=O)NS(=O)(=O)c2ccc()s2)c(C=CCN2CCOCC2)c1'\n",
      "[15:57:47] SMILES Parse Error: syntax error while parsing: 1=CCCN(CCN2CCOCC2COc2ccccc2CN=Cc2ccccc2OCC2CNCCO2)c1\n",
      "[15:57:47] SMILES Parse Error: Failed parsing SMILES '1=CCCN(CCN2CCOCC2COc2ccccc2CN=Cc2ccccc2OCC2CNCCO2)c1' for input: '1=CCCN(CCN2CCOCC2COc2ccccc2CN=Cc2ccccc2OCC2CNCCO2)c1'\n"
     ]
    },
    {
     "name": "stdout",
     "output_type": "stream",
     "text": [
      "Cc1nc(C(=O)O)nc(-c2ccc(N(c3cn(-c4cnnn4)nc3C)C3CC3)nc2)n1\n",
      "Oc1ccc(-c2n[nH]c3cc(Cl)ccc23)cc2c1OCCN(Cc1cccnc1)C2\n",
      "c1ccc(CN2CCOc3c2cc(-c2cnn4ccncc34)cc3c2OCCN3)nc1\n",
      "O=c1cc(CN2CCOc3c2cnc(-c2cnc4ccccn34)c3ccccc23)cc[nH]1\n",
      "O=c1cc(CN2CCOc3c2ccc(-n2cnc4ccccc43)cc2)cc[nH]1\n",
      "COc1ccc(C=CC(=O)NS(=O)(=O)c2ccc()s2)c(C=CCN2CCOCC2)c1\n",
      "1=CCCN(CCN2CCOCC2COc2ccccc2CN=Cc2ccccc2OCC2CNCCO2)c1\n",
      "2CCCCC(=NC1CCCCC1OCc1ccccc1)N1CCOCC1COc1ccccc1CN1CCOCC1\n",
      "1=CCCN(CCN2CCOCC2COc2ccccc2OCC2COCCN2CC=Cc2ccccn2)C1\n",
      "1=CC(COc2ccccc2OCC2CNCCN2CC=NN2CCNCC2COC2CCCNC2)COc2ccccc21\n",
      "N1CCN(CC=Cc2ccccc2OCC2OCCOC2CNC2CCCCN2CCOCC2)C(COc2ccccc2)C1\n",
      "N1CCN(CC=CN2CCCCC2NCc2ccccc2CNc2ccccn2CCN2CCOCC2)CC1\n",
      "CN1CCN(CC=CN2CCOCC2COc2ccccc2OCC2COCCN2CCOCC2=NC2CCOCC2)CC1\n",
      "2*****1<|>CN(C)c1ccc(C=CCN2CCOCC2COc2ccccc2OCC2OCCOC2CN2CCOCC2)cc1\n",
      "1=CC(COc2ccccc2OCC2COCCN2CC=Cc2ccccc2OCC2COCCO2)COc2ccccc2O1\n",
      "2CCN(C)C(=Nc1ccccc1OCC1COCCN1CCN1CCOCCOc1ccccn1CCN1CCOCC1)Nc1ccncc1\n",
      "C(=NN1CCOCC1)NC1CCCCC1CCN1CCCCC1COc1ccccc1OCC1COCCN1CCOCC1\n",
      "2CCN(CC1CNCCN1CCOCC1COc1ccccc1CN=C(N)N1CCOCC1COc1ccccc1)CC2\n",
      "CN1CCN(CC=Cc2ccccc2OCC2COCCN2CCOCC2COc2ccccc2-c2ccccn2)CC1\n",
      "N#Cc1ccc(COc2ccccc2OCC2CNCCN2CC=Cc2ccccc2OCC2CNCCN2CCOCC2)cc1\n",
      "CN1CCN(CC=Cc2ccccc2OCC2COCCN2CCN2CCOCCOc2ccccc2CNC2CCOCC2)CC1\n",
      "N#Cc1ccc(OCc2ccccc2OCC2CNCCN2CC=CC2CN2CCOCC2)c(C=CC2CCOCC2)c1\n",
      "N#Cc1ccc(COC2COCCN(CC=Cc3ccccc3)C2)c(CNC2COCCC2OCC2OCC2COCCO2)c1\n",
      "2CCN(CC=Cc3ccccc3OCC1COc1ccccc1CN1CCOCCO1)C(CN1CCOCC1)C1COCCO1\n",
      "CN1CCN(CC=Cc2ccccc2OCC2OCCOC2CNCCN2CCOc2ccccc2CNC2CCOCC2)CC1\n",
      "N#Cc1c(N)nc2cc(C3NC(C(=O)O)CS3)ccn2c1NCc1ccccc1\n",
      "2COCCC(OCc3ccccc3)C(N=Cc3ccccc3OCC3OCCOC3CNC3CN3CCOCC3)C1\n",
      "CN1CCN(CCc2ccccc2OCC2OCCOC2CN=Cc2ccccc2OCC2CNCCN2CCOCC2)CC1\n",
      "2c(F)ccc(OCc3ccccc3OCN3CCOCC3COc3cccnc3=NC3CCNCC3OCC3O)c2F\n",
      "CN1CCN(CC=Cc2ccccc2COB2OCCCN(C)C2COc2ccccc2OCC2COCCN2CCOCC2)CC1\n",
      "C(=CC1CCCCO1)CN1CCOCC1COc1ccccc1OCC1CNCCN1CCOCC1=NC1CCOCC1\n"
     ]
    },
    {
     "name": "stderr",
     "output_type": "stream",
     "text": [
      "[15:57:47] SMILES Parse Error: syntax error while parsing: 2CCCCC(=NC1CCCCC1OCc1ccccc1)N1CCOCC1COc1ccccc1CN1CCOCC1\n",
      "[15:57:47] SMILES Parse Error: Failed parsing SMILES '2CCCCC(=NC1CCCCC1OCc1ccccc1)N1CCOCC1COc1ccccc1CN1CCOCC1' for input: '2CCCCC(=NC1CCCCC1OCc1ccccc1)N1CCOCC1COc1ccccc1CN1CCOCC1'\n",
      "[15:57:47] SMILES Parse Error: syntax error while parsing: 1=CCCN(CCN2CCOCC2COc2ccccc2OCC2COCCN2CC=Cc2ccccn2)C1\n",
      "[15:57:47] SMILES Parse Error: Failed parsing SMILES '1=CCCN(CCN2CCOCC2COc2ccccc2OCC2COCCN2CC=Cc2ccccn2)C1' for input: '1=CCCN(CCN2CCOCC2COc2ccccc2OCC2COCCN2CC=Cc2ccccn2)C1'\n",
      "[15:57:47] SMILES Parse Error: syntax error while parsing: 1=CC(COc2ccccc2OCC2CNCCN2CC=NN2CCNCC2COC2CCCNC2)COc2ccccc21\n",
      "[15:57:47] SMILES Parse Error: Failed parsing SMILES '1=CC(COc2ccccc2OCC2CNCCN2CC=NN2CCNCC2COC2CCCNC2)COc2ccccc21' for input: '1=CC(COc2ccccc2OCC2CNCCN2CC=NN2CCNCC2COC2CCCNC2)COc2ccccc21'\n",
      "[15:57:47] SMILES Parse Error: unclosed ring for input: 'N1CCN(CC=Cc2ccccc2OCC2OCCOC2CNC2CCCCN2CCOCC2)C(COc2ccccc2)C1'\n",
      "[15:57:47] Can't kekulize mol.  Unkekulized atoms: 23 24 25 26 27\n",
      "[15:57:47] SMILES Parse Error: unclosed ring for input: 'CN1CCN(CC=CN2CCOCC2COc2ccccc2OCC2COCCN2CCOCC2=NC2CCOCC2)CC1'\n",
      "[15:57:47] SMILES Parse Error: syntax error while parsing: 2*****1<|>CN(C)c1ccc(C=CCN2CCOCC2COc2ccccc2OCC2OCCOC2CN2CCOCC2)cc1\n",
      "[15:57:47] SMILES Parse Error: Failed parsing SMILES '2*****1<|>CN(C)c1ccc(C=CCN2CCOCC2COc2ccccc2OCC2OCCOC2CN2CCOCC2)cc1' for input: '2*****1<|>CN(C)c1ccc(C=CCN2CCOCC2COc2ccccc2OCC2OCCOC2CN2CCOCC2)cc1'\n",
      "[15:57:47] SMILES Parse Error: syntax error while parsing: 1=CC(COc2ccccc2OCC2COCCN2CC=Cc2ccccc2OCC2COCCO2)COc2ccccc2O1\n",
      "[15:57:47] SMILES Parse Error: Failed parsing SMILES '1=CC(COc2ccccc2OCC2COCCN2CC=Cc2ccccc2OCC2COCCO2)COc2ccccc2O1' for input: '1=CC(COc2ccccc2OCC2COCCN2CC=Cc2ccccc2OCC2COCCO2)COc2ccccc2O1'\n",
      "[15:57:47] SMILES Parse Error: syntax error while parsing: 2CCN(C)C(=Nc1ccccc1OCC1COCCN1CCN1CCOCCOc1ccccn1CCN1CCOCC1)Nc1ccncc1\n",
      "[15:57:47] SMILES Parse Error: Failed parsing SMILES '2CCN(C)C(=Nc1ccccc1OCC1COCCN1CCN1CCOCCOc1ccccn1CCN1CCOCC1)Nc1ccncc1' for input: '2CCN(C)C(=Nc1ccccc1OCC1COCCN1CCN1CCOCCOc1ccccn1CCN1CCOCC1)Nc1ccncc1'\n",
      "[15:57:47] SMILES Parse Error: unclosed ring for input: 'C(=NN1CCOCC1)NC1CCCCC1CCN1CCCCC1COc1ccccc1OCC1COCCN1CCOCC1'\n",
      "[15:57:47] SMILES Parse Error: syntax error while parsing: 2CCN(CC1CNCCN1CCOCC1COc1ccccc1CN=C(N)N1CCOCC1COc1ccccc1)CC2\n",
      "[15:57:47] SMILES Parse Error: Failed parsing SMILES '2CCN(CC1CNCCN1CCOCC1COc1ccccc1CN=C(N)N1CCOCC1COc1ccccc1)CC2' for input: '2CCN(CC1CNCCN1CCOCC1COc1ccccc1CN=C(N)N1CCOCC1COc1ccccc1)CC2'\n",
      "[15:57:47] SMILES Parse Error: ring closure 2 duplicates bond between atom 34 and atom 35 for input: 'CN1CCN(CC=Cc2ccccc2OCC2COCCN2CCOCC2COc2ccccc2-c2ccccn2)CC1'\n",
      "[15:57:47] SMILES Parse Error: unclosed ring for input: 'N#Cc1ccc(COc2ccccc2OCC2CNCCN2CC=Cc2ccccc2OCC2CNCCN2CCOCC2)cc1'\n",
      "[15:57:47] SMILES Parse Error: unclosed ring for input: 'CN1CCN(CC=Cc2ccccc2OCC2COCCN2CCN2CCOCCOc2ccccc2CNC2CCOCC2)CC1'\n",
      "[15:57:47] SMILES Parse Error: unclosed ring for input: 'N#Cc1ccc(OCc2ccccc2OCC2CNCCN2CC=CC2CN2CCOCC2)c(C=CC2CCOCC2)c1'\n",
      "[15:57:47] SMILES Parse Error: unclosed ring for input: 'N#Cc1ccc(COC2COCCN(CC=Cc3ccccc3)C2)c(CNC2COCCC2OCC2OCC2COCCO2)c1'\n",
      "[15:57:47] SMILES Parse Error: syntax error while parsing: 2CCN(CC=Cc3ccccc3OCC1COc1ccccc1CN1CCOCCO1)C(CN1CCOCC1)C1COCCO1\n",
      "[15:57:47] SMILES Parse Error: Failed parsing SMILES '2CCN(CC=Cc3ccccc3OCC1COc1ccccc1CN1CCOCCO1)C(CN1CCOCC1)C1COCCO1' for input: '2CCN(CC=Cc3ccccc3OCC1COc1ccccc1CN1CCOCCO1)C(CN1CCOCC1)C1COCCO1'\n",
      "[15:57:47] SMILES Parse Error: unclosed ring for input: 'CN1CCN(CC=Cc2ccccc2OCC2OCCOC2CNCCN2CCOc2ccccc2CNC2CCOCC2)CC1'\n",
      "[15:57:47] Can't kekulize mol.  Unkekulized atoms: 2 3 5 6 7 8 17 18 20\n",
      "[15:57:47] SMILES Parse Error: syntax error while parsing: 2COCCC(OCc3ccccc3)C(N=Cc3ccccc3OCC3OCCOC3CNC3CN3CCOCC3)C1\n",
      "[15:57:47] SMILES Parse Error: Failed parsing SMILES '2COCCC(OCc3ccccc3)C(N=Cc3ccccc3OCC3OCCOC3CNC3CN3CCOCC3)C1' for input: '2COCCC(OCc3ccccc3)C(N=Cc3ccccc3OCC3OCCOC3CNC3CN3CCOCC3)C1'\n",
      "[15:57:47] SMILES Parse Error: unclosed ring for input: 'CN1CCN(CCc2ccccc2OCC2OCCOC2CN=Cc2ccccc2OCC2CNCCN2CCOCC2)CC1'\n",
      "[15:57:47] SMILES Parse Error: syntax error while parsing: 2c(F)ccc(OCc3ccccc3OCN3CCOCC3COc3cccnc3=NC3CCNCC3OCC3O)c2F\n",
      "[15:57:47] SMILES Parse Error: Failed parsing SMILES '2c(F)ccc(OCc3ccccc3OCN3CCOCC3COc3cccnc3=NC3CCNCC3OCC3O)c2F' for input: '2c(F)ccc(OCc3ccccc3OCN3CCOCC3COc3cccnc3=NC3CCNCC3OCC3O)c2F'\n",
      "[15:57:47] SMILES Parse Error: unclosed ring for input: 'CN1CCN(CC=Cc2ccccc2COB2OCCCN(C)C2COc2ccccc2OCC2COCCN2CCOCC2)CC1'\n",
      "[15:57:47] SMILES Parse Error: unclosed ring for input: 'C(=CC1CCCCO1)CN1CCOCC1COc1ccccc1OCC1CNCCN1CCOCC1=NC1CCOCC1'\n",
      "[15:57:47] SMILES Parse Error: syntax error while parsing: 2c(F)cccc2N1CCN1CCOCCOCC1COc1ccccc1OCC1CNCCN1CC=Cc1ccccn1\n",
      "[15:57:47] SMILES Parse Error: Failed parsing SMILES '2c(F)cccc2N1CCN1CCOCCOCC1COc1ccccc1OCC1CNCCN1CC=Cc1ccccn1' for input: '2c(F)cccc2N1CCN1CCOCCOCC1COc1ccccc1OCC1CNCCN1CC=Cc1ccccn1'\n",
      "[15:57:47] SMILES Parse Error: syntax error while parsing: 2CCN(CC1COCCN1CCOCC1COc1ccccc1C=CCN1CCOCC1)C(=NC1CCOCC1)NN1CCOCC1\n",
      "[15:57:47] SMILES Parse Error: Failed parsing SMILES '2CCN(CC1COCCN1CCOCC1COc1ccccc1C=CCN1CCOCC1)C(=NC1CCOCC1)NN1CCOCC1' for input: '2CCN(CC1COCCN1CCOCC1COc1ccccc1C=CCN1CCOCC1)C(=NC1CCOCC1)NN1CCOCC1'\n"
     ]
    },
    {
     "name": "stdout",
     "output_type": "stream",
     "text": [
      "2c(F)cccc2N1CCN1CCOCCOCC1COc1ccccc1OCC1CNCCN1CC=Cc1ccccn1\n",
      "2CCN(CC1COCCN1CCOCC1COc1ccccc1C=CCN1CCOCC1)C(=NC1CCOCC1)NN1CCOCC1\n",
      "11=C1CCC(C=CCNc2ccccc2)N1CCOCCN1CCc2ccccc2[nH]c1=C1CCN(C=NCCN2CCOCC2)C1\n",
      "1=C(NCCN2CCCCC2)N(CCOCCN2CCCCC2)C(=Cc2cccn2CNCc2cnc[nH]2)COC1=NCCN1CCCCC1\n",
      "1<|>1=C1CCC(C=CCCc2ccccc2)N1CCOCCN1CCc2ccccc2[nH]1\n",
      "1=C1CSC(C=CCCc2ccccc2)N1CCOCCN1CCc2ccccc2[nH]1\n",
      "1=c1ccn(C=CCCN2CCCCC2)c1CCOCCN1CCc2ccccc2[nH]c1=C1CCN(C=NCCN2CCOCC2)C1\n",
      "1=C(NCCCCN2CCOCC2)N(CCCCN2CCOCC2)C(=Cc2cccn2C)C1\n",
      "1=C1CCC(C=CCCc2ccccc2)N1CCOCCN1CCN(C)CC1CNC(C)=C1CCN(C=CNCc2ccccc2)C1CNCc1cnc[nH]1\n",
      "1=c1ccc(C=CCCN2CCCCC2)n1CCOCCN1CCOCC1C=C1CCC(C=CCCN2CCOCC2)N1CCCOc1cnc[nH]1\n",
      "1=C1NCC(C=CCNc2ccccc2)N1CCOCCN1CCc2ccccc2[nH]c1=C1CCN(C=NCCN2CCOCC2)C1\n",
      "1=c1occ(C=CCCN2CCCCC2)c1OCC(C=CCNc1ccccn1)N1CCCOc2ccccc2C1\n",
      "COc1ccc(C=CC(=O)NS(=O)(=O)c2ccc()s2)c(C=CCN2CCOCC2)c1\n",
      "COc1ccc(C=CC(=O)NS(=O)(=O)c2ccc()s2)c(C=CCN2CCOCC2)c1\n",
      "2*****1<|>LOW<|>LOW<|>N1CCN(CC=Cc2ccccc2COC2CNCCN2CCN2CCOCC2COc2ccccc2CNC2CCC2)CC1\n",
      "C(=Cc1ccccc1)CN1CCOCC1CCN1CCOCCN1CCOCC1COCCN1CCOCC1\n",
      "2CCN(C)C(=NC1CCOCC1OCc1ccccc1OCC1COCCN1CCOCC1)NC1CCOCC1\n",
      "1=CC(O)N(Cc2ccccc2OCC2COCCN2CCOCCN2CC=Cc2ccccc2OCC2COCCO2)CO1\n",
      "1=COCCN1CCN1CCOCC1COc1ccccc1OCC1OCCOC1=NN1CCCCC1\n",
      "C(=NN1CCOCC1)NC1CCOCC1COc1ccccc1OCC1COCCN1CCOCC1=NN1CCOCC1\n",
      "CN1CCN(CC=Cc2ccccc2OCC2OCCOCc3ccccc3OCC2OCC2OCCCN2CCOCC2)CC1\n",
      "N#Cc1cccc(COc2ccccc2OCC2CNCCN2CC=CC2CN2CCOCC2)c1\n"
     ]
    },
    {
     "name": "stderr",
     "output_type": "stream",
     "text": [
      "[15:57:47] SMILES Parse Error: syntax error while parsing: 11=C1CCC(C=CCNc2ccccc2)N1CCOCCN1CCc2ccccc2[nH]c1=C1CCN(C=NCCN2CCOCC2)C1\n",
      "[15:57:47] SMILES Parse Error: Failed parsing SMILES '11=C1CCC(C=CCNc2ccccc2)N1CCOCCN1CCc2ccccc2[nH]c1=C1CCN(C=NCCN2CCOCC2)C1' for input: '11=C1CCC(C=CCNc2ccccc2)N1CCOCCN1CCc2ccccc2[nH]c1=C1CCN(C=NCCN2CCOCC2)C1'\n",
      "[15:57:47] SMILES Parse Error: syntax error while parsing: 1=C(NCCN2CCCCC2)N(CCOCCN2CCCCC2)C(=Cc2cccn2CNCc2cnc[nH]2)COC1=NCCN1CCCCC1\n",
      "[15:57:47] SMILES Parse Error: Failed parsing SMILES '1=C(NCCN2CCCCC2)N(CCOCCN2CCCCC2)C(=Cc2cccn2CNCc2cnc[nH]2)COC1=NCCN1CCCCC1' for input: '1=C(NCCN2CCCCC2)N(CCOCCN2CCCCC2)C(=Cc2cccn2CNCc2cnc[nH]2)COC1=NCCN1CCCCC1'\n",
      "[15:57:47] SMILES Parse Error: syntax error while parsing: 1<|>1=C1CCC(C=CCCc2ccccc2)N1CCOCCN1CCc2ccccc2[nH]1\n",
      "[15:57:47] SMILES Parse Error: Failed parsing SMILES '1<|>1=C1CCC(C=CCCc2ccccc2)N1CCOCCN1CCc2ccccc2[nH]1' for input: '1<|>1=C1CCC(C=CCCc2ccccc2)N1CCOCCN1CCc2ccccc2[nH]1'\n",
      "[15:57:47] SMILES Parse Error: syntax error while parsing: 1=C1CSC(C=CCCc2ccccc2)N1CCOCCN1CCc2ccccc2[nH]1\n",
      "[15:57:47] SMILES Parse Error: Failed parsing SMILES '1=C1CSC(C=CCCc2ccccc2)N1CCOCCN1CCc2ccccc2[nH]1' for input: '1=C1CSC(C=CCCc2ccccc2)N1CCOCCN1CCc2ccccc2[nH]1'\n",
      "[15:57:47] SMILES Parse Error: syntax error while parsing: 1=c1ccn(C=CCCN2CCCCC2)c1CCOCCN1CCc2ccccc2[nH]c1=C1CCN(C=NCCN2CCOCC2)C1\n",
      "[15:57:47] SMILES Parse Error: Failed parsing SMILES '1=c1ccn(C=CCCN2CCCCC2)c1CCOCCN1CCc2ccccc2[nH]c1=C1CCN(C=NCCN2CCOCC2)C1' for input: '1=c1ccn(C=CCCN2CCCCC2)c1CCOCCN1CCc2ccccc2[nH]c1=C1CCN(C=NCCN2CCOCC2)C1'\n",
      "[15:57:47] SMILES Parse Error: syntax error while parsing: 1=C(NCCCCN2CCOCC2)N(CCCCN2CCOCC2)C(=Cc2cccn2C)C1\n",
      "[15:57:47] SMILES Parse Error: Failed parsing SMILES '1=C(NCCCCN2CCOCC2)N(CCCCN2CCOCC2)C(=Cc2cccn2C)C1' for input: '1=C(NCCCCN2CCOCC2)N(CCCCN2CCOCC2)C(=Cc2cccn2C)C1'\n",
      "[15:57:47] SMILES Parse Error: syntax error while parsing: 1=C1CCC(C=CCCc2ccccc2)N1CCOCCN1CCN(C)CC1CNC(C)=C1CCN(C=CNCc2ccccc2)C1CNCc1cnc[nH]1\n",
      "[15:57:47] SMILES Parse Error: Failed parsing SMILES '1=C1CCC(C=CCCc2ccccc2)N1CCOCCN1CCN(C)CC1CNC(C)=C1CCN(C=CNCc2ccccc2)C1CNCc1cnc[nH]1' for input: '1=C1CCC(C=CCCc2ccccc2)N1CCOCCN1CCN(C)CC1CNC(C)=C1CCN(C=CNCc2ccccc2)C1CNCc1cnc[nH]1'\n",
      "[15:57:47] SMILES Parse Error: syntax error while parsing: 1=c1ccc(C=CCCN2CCCCC2)n1CCOCCN1CCOCC1C=C1CCC(C=CCCN2CCOCC2)N1CCCOc1cnc[nH]1\n",
      "[15:57:47] SMILES Parse Error: Failed parsing SMILES '1=c1ccc(C=CCCN2CCCCC2)n1CCOCCN1CCOCC1C=C1CCC(C=CCCN2CCOCC2)N1CCCOc1cnc[nH]1' for input: '1=c1ccc(C=CCCN2CCCCC2)n1CCOCCN1CCOCC1C=C1CCC(C=CCCN2CCOCC2)N1CCCOc1cnc[nH]1'\n",
      "[15:57:47] SMILES Parse Error: syntax error while parsing: 1=C1NCC(C=CCNc2ccccc2)N1CCOCCN1CCc2ccccc2[nH]c1=C1CCN(C=NCCN2CCOCC2)C1\n",
      "[15:57:47] SMILES Parse Error: Failed parsing SMILES '1=C1NCC(C=CCNc2ccccc2)N1CCOCCN1CCc2ccccc2[nH]c1=C1CCN(C=NCCN2CCOCC2)C1' for input: '1=C1NCC(C=CCNc2ccccc2)N1CCOCCN1CCc2ccccc2[nH]c1=C1CCN(C=NCCN2CCOCC2)C1'\n",
      "[15:57:47] SMILES Parse Error: syntax error while parsing: 1=c1occ(C=CCCN2CCCCC2)c1OCC(C=CCNc1ccccn1)N1CCCOc2ccccc2C1\n",
      "[15:57:47] SMILES Parse Error: Failed parsing SMILES '1=c1occ(C=CCCN2CCCCC2)c1OCC(C=CCNc1ccccn1)N1CCCOc2ccccc2C1' for input: '1=c1occ(C=CCCN2CCCCC2)c1OCC(C=CCNc1ccccn1)N1CCCOc2ccccc2C1'\n",
      "[15:57:47] SMILES Parse Error: syntax error while parsing: COc1ccc(C=CC(=O)NS(=O)(=O)c2ccc()s2)c(C=CCN2CCOCC2)c1\n",
      "[15:57:47] SMILES Parse Error: Failed parsing SMILES 'COc1ccc(C=CC(=O)NS(=O)(=O)c2ccc()s2)c(C=CCN2CCOCC2)c1' for input: 'COc1ccc(C=CC(=O)NS(=O)(=O)c2ccc()s2)c(C=CCN2CCOCC2)c1'\n",
      "[15:57:47] SMILES Parse Error: syntax error while parsing: COc1ccc(C=CC(=O)NS(=O)(=O)c2ccc()s2)c(C=CCN2CCOCC2)c1\n",
      "[15:57:47] SMILES Parse Error: Failed parsing SMILES 'COc1ccc(C=CC(=O)NS(=O)(=O)c2ccc()s2)c(C=CCN2CCOCC2)c1' for input: 'COc1ccc(C=CC(=O)NS(=O)(=O)c2ccc()s2)c(C=CCN2CCOCC2)c1'\n",
      "[15:57:47] SMILES Parse Error: syntax error while parsing: 2*****1<|>LOW<|>LOW<|>N1CCN(CC=Cc2ccccc2COC2CNCCN2CCN2CCOCC2COc2ccccc2CNC2CCC2)CC1\n",
      "[15:57:47] SMILES Parse Error: Failed parsing SMILES '2*****1<|>LOW<|>LOW<|>N1CCN(CC=Cc2ccccc2COC2CNCCN2CCN2CCOCC2COc2ccccc2CNC2CCC2)CC1' for input: '2*****1<|>LOW<|>LOW<|>N1CCN(CC=Cc2ccccc2COC2CNCCN2CCN2CCOCC2COc2ccccc2CNC2CCC2)CC1'\n",
      "[15:57:47] SMILES Parse Error: unclosed ring for input: 'C(=Cc1ccccc1)CN1CCOCC1CCN1CCOCCN1CCOCC1COCCN1CCOCC1'\n",
      "[15:57:47] SMILES Parse Error: syntax error while parsing: 2CCN(C)C(=NC1CCOCC1OCc1ccccc1OCC1COCCN1CCOCC1)NC1CCOCC1\n",
      "[15:57:47] SMILES Parse Error: Failed parsing SMILES '2CCN(C)C(=NC1CCOCC1OCc1ccccc1OCC1COCCN1CCOCC1)NC1CCOCC1' for input: '2CCN(C)C(=NC1CCOCC1OCc1ccccc1OCC1COCCN1CCOCC1)NC1CCOCC1'\n",
      "[15:57:47] SMILES Parse Error: syntax error while parsing: 1=CC(O)N(Cc2ccccc2OCC2COCCN2CCOCCN2CC=Cc2ccccc2OCC2COCCO2)CO1\n",
      "[15:57:47] SMILES Parse Error: Failed parsing SMILES '1=CC(O)N(Cc2ccccc2OCC2COCCN2CCOCCN2CC=Cc2ccccc2OCC2COCCO2)CO1' for input: '1=CC(O)N(Cc2ccccc2OCC2COCCN2CCOCCN2CC=Cc2ccccc2OCC2COCCO2)CO1'\n",
      "[15:57:47] SMILES Parse Error: syntax error while parsing: 1=COCCN1CCN1CCOCC1COc1ccccc1OCC1OCCOC1=NN1CCCCC1\n",
      "[15:57:47] SMILES Parse Error: Failed parsing SMILES '1=COCCN1CCN1CCOCC1COc1ccccc1OCC1OCCOC1=NN1CCCCC1' for input: '1=COCCN1CCN1CCOCC1COc1ccccc1OCC1OCCOC1=NN1CCCCC1'\n",
      "[15:57:47] SMILES Parse Error: unclosed ring for input: 'C(=NN1CCOCC1)NC1CCOCC1COc1ccccc1OCC1COCCN1CCOCC1=NN1CCOCC1'\n",
      "[15:57:47] SMILES Parse Error: unclosed ring for input: 'CN1CCN(CC=Cc2ccccc2OCC2OCCOCc3ccccc3OCC2OCC2OCCCN2CCOCC2)CC1'\n",
      "[15:57:47] SMILES Parse Error: unclosed ring for input: 'N#Cc1cccc(COc2ccccc2OCC2CNCCN2CC=CC2CN2CCOCC2)c1'\n"
     ]
    },
    {
     "name": "stdout",
     "output_type": "stream",
     "text": [
      "c1ccc(CN2CCOc3c2cc(-c2cnn4cccnc34)cc3c2OCCN3)nc1\n"
     ]
    },
    {
     "name": "stderr",
     "output_type": "stream",
     "text": [
      "[15:57:47] Can't kekulize mol.  Unkekulized atoms: 9 10 11 12 13 14 15 17 18 19 20 21 22 23 24\n"
     ]
    },
    {
     "ename": "KeyboardInterrupt",
     "evalue": "",
     "output_type": "error",
     "traceback": [
      "\u001b[0;31m---------------------------------------------------------------------------\u001b[0m",
      "\u001b[0;31mKeyboardInterrupt\u001b[0m                         Traceback (most recent call last)",
      "Cell \u001b[0;32mIn[6], line 21\u001b[0m\n\u001b[1;32m     18\u001b[0m     \u001b[39mprint\u001b[39m(smile)\n\u001b[1;32m     19\u001b[0m     \u001b[39mcontinue\u001b[39;00m\n\u001b[0;32m---> 21\u001b[0m fp \u001b[39m=\u001b[39m MACCSkeys\u001b[39m.\u001b[39;49mGenMACCSKeys(mol)\n\u001b[1;32m     22\u001b[0m fp_bits \u001b[39m=\u001b[39m fp\u001b[39m.\u001b[39mToList()\n\u001b[1;32m     23\u001b[0m label_EP4 \u001b[39m=\u001b[39m clf_EP4\u001b[39m.\u001b[39mpredict(np\u001b[39m.\u001b[39marray(fp_bits)\u001b[39m.\u001b[39mreshape(\u001b[39m1\u001b[39m,\u001b[39m-\u001b[39m\u001b[39m1\u001b[39m))\u001b[39m.\u001b[39mitem()\n",
      "\u001b[0;31mKeyboardInterrupt\u001b[0m: "
     ]
    }
   ],
   "source": [
    "clf_EP4 = joblib.load(\"SVC_EP4.m\")\n",
    "clf_EP2 = joblib.load(\"SVC_EP2.m\")\n",
    "\n",
    "outputs = []\n",
    "\n",
    "for i in range(nums):\n",
    "    smile = predicts[i]\n",
    "    if smile in train_data_list:\n",
    "        continue\n",
    "    try:\n",
    "        mol=Chem.MolFromSmiles(smile)\n",
    "    except Exception as e:\n",
    "        # print(smile)\n",
    "        # break\n",
    "        continue\n",
    "\n",
    "    if mol is None:\n",
    "        print(smile)\n",
    "        continue\n",
    "\n",
    "    fp = MACCSkeys.GenMACCSKeys(mol)\n",
    "    fp_bits = fp.ToList()\n",
    "    label_EP4 = clf_EP4.predict(np.array(fp_bits).reshape(1,-1)).item()\n",
    "    label_EPHX2 = clf_EP2.predict(np.array(fp_bits).reshape(1,-1)).item()\n",
    "\n",
    "    outputs.append((smile, label_EP4, label_EPHX2))"
   ]
  },
  {
   "cell_type": "code",
   "execution_count": 18,
   "metadata": {},
   "outputs": [],
   "source": [
    "succeeded = []\n",
    "for item in outputs:\n",
    "    if item[1] == item[2] == 1:\n",
    "        succeeded.append(item)\n",
    "    # else:\n",
    "    #     succeeded.append(item)"
   ]
  },
  {
   "cell_type": "code",
   "execution_count": 19,
   "metadata": {},
   "outputs": [
    {
     "name": "stdout",
     "output_type": "stream",
     "text": [
      "共生成14336个分子，成功812个，成功率0.056640625.\n"
     ]
    }
   ],
   "source": [
    "valid_num = len(outputs)\n",
    "succeeded_number = len(succeeded)\n",
    "sr = succeeded_number / valid_num\n",
    "print(f\"共生成{valid_num}个分子，成功{succeeded_number}个，成功率{sr}.\")"
   ]
  },
  {
   "cell_type": "code",
   "execution_count": 20,
   "metadata": {},
   "outputs": [],
   "source": [
    "iso_succeeded = list(set(succeeded))"
   ]
  },
  {
   "cell_type": "code",
   "execution_count": 21,
   "metadata": {},
   "outputs": [
    {
     "data": {
      "text/plain": [
       "503"
      ]
     },
     "execution_count": 21,
     "metadata": {},
     "output_type": "execute_result"
    }
   ],
   "source": [
    "len(iso_succeeded)"
   ]
  },
  {
   "cell_type": "code",
   "execution_count": 22,
   "metadata": {},
   "outputs": [],
   "source": [
    "filtered = []\n",
    "for i in range(len((iso_succeeded))):\n",
    "    smiles = iso_succeeded[i][0]\n",
    "    mol = Chem.MolFromSmiles(smiles)\n",
    "\n",
    "    qed=QED.qed(mol)\n",
    "    sas = sascorer.calculateScore(mol)\n",
    "\n",
    "    # print(f\"Qed: {qed}, SAs: {sas}\")\n",
    "    if qed < 0.6 or sas > 4:\n",
    "        continue\n",
    "\n",
    "    # if qed < 0.7 or sas > 3:\n",
    "    #     continue\n",
    "\n",
    "    save_name = f'EP2nEP4_{i}.png'\n",
    "    save_path = f'../fig/EP2nEP4_{i}.png'\n",
    "\n",
    "    # 画分子方法1\n",
    "    # d = rdMolDraw2D.MolDraw2DSVG(500, 500) # or MolDraw2DCairo to get PNGs\n",
    "    # rdMolDraw2D.PrepareAndDrawMolecule(d, mol)\n",
    "    # d.FinishDrawing()\n",
    "    # svg = d.GetDrawingText()\n",
    "    # # save_name = f'../fig/EP2nEP4_{i}.png'\n",
    "    # with open(save_path, 'w') as f:\n",
    "    #     f.write(svg)\n",
    "\n",
    "    # 画分子方法2\n",
    "    # d = rdMolDraw2D.MolDraw2DSVG(500, 500) # or MolDraw2DCairo to get PNGs\n",
    "    d = rdMolDraw2D.MolDraw2DCairo(500, 500) # or MolDraw2DCairo to get PNGs\n",
    "    rdMolDraw2D.PrepareAndDrawMolecule(d, mol)\n",
    "    d.FinishDrawing()\n",
    "    d.WriteDrawingText(save_path)   \n",
    "\n",
    "\n",
    "    # 画分子方法2\n",
    "    # Draw.MolToFile(mol, save_name)\n",
    "\n",
    "    filtered.append([i,smiles,qed,sas,save_name])"
   ]
  },
  {
   "cell_type": "code",
   "execution_count": 23,
   "metadata": {},
   "outputs": [
    {
     "data": {
      "text/plain": [
       "444"
      ]
     },
     "execution_count": 23,
     "metadata": {},
     "output_type": "execute_result"
    }
   ],
   "source": [
    "len(filtered)"
   ]
  },
  {
   "cell_type": "code",
   "execution_count": 24,
   "metadata": {},
   "outputs": [],
   "source": [
    "from openpyxl import Workbook\n",
    "from openpyxl.drawing.image import Image\n",
    "# from PIL import Image\n",
    "wb = Workbook()\n",
    "ws = wb.active"
   ]
  },
  {
   "cell_type": "code",
   "execution_count": 25,
   "metadata": {},
   "outputs": [],
   "source": [
    "ws['A1'] = 'ID'\n",
    "ws['B1'] = 'smiles'\n",
    "ws['C1'] = 'QED'\n",
    "ws['D1'] = 'SAs'\n",
    "ws['E1'] = 'image'\n",
    "\n",
    "for i in range(len(filtered)):\n",
    "    item = filtered[i]\n",
    "    ID = item[0]\n",
    "    smiles = item[1]\n",
    "    qed = item[2]\n",
    "    sas = item[3]\n",
    "    file_name = item[4]\n",
    "\n",
    "    ws[f'A{i+2}'] = ID\n",
    "    ws[f'B{i+2}'] = smiles\n",
    "    ws[f'C{i+2}'] = qed\n",
    "    ws[f'D{i+2}'] = sas\n",
    "    ws[f'E{i+2}'] = f'<table><img src=\"D:\\\\shared_workspace\\\\nlbmg\\\\fig\\\\{file_name}\" width=\"300\" height=\"300\"></table>'\n",
    "\n",
    "    # img = Image(file_path)\n",
    "    # img = Image.open(file_path)\n",
    "    # ws.add_image(img, f'E{i+2}')\n",
    "\n",
    "# <table><img src=\"C:\\MyPicture\\2020-03-24_205819.png\" width=\"120\" height=\"148\">"
   ]
  },
  {
   "cell_type": "code",
   "execution_count": 26,
   "metadata": {},
   "outputs": [],
   "source": [
    "wb.save('./EP2nEP4.xlsx')"
   ]
  },
  {
   "cell_type": "markdown",
   "metadata": {},
   "source": [
    "# 验证BBB"
   ]
  },
  {
   "cell_type": "code",
   "execution_count": 2,
   "metadata": {},
   "outputs": [],
   "source": [
    "from rdkit.Chem import MACCSkeys\n",
    "def maccs_from_mol(mol):\n",
    "    maccs = [1]\n",
    "    fp = MACCSkeys.GenMACCSKeys(mol)\n",
    "    fp_bits = list(fp.GetOnBits())\n",
    "    for fp in fp_bits:\n",
    "        maccs.append(f'{fp}:1')\n",
    "    return maccs"
   ]
  },
  {
   "cell_type": "code",
   "execution_count": 3,
   "metadata": {},
   "outputs": [],
   "source": [
    "smiles_list = [\n",
    "    'CCN(CC)Cc1ccc(CNC(=O)Nc2ccc(Cl)c(Cl)c2)s1',\n",
    "    'CCCCCCNC(=O)NC1CCN(c2ccc(F)cc2)C1',\n",
    "    'CC(=O)NCC1CN(c2ccc(-c3cccc(OC(F)(F)F)c3)c(F)c2)C(=O)O1',\n",
    "    'CCCCC(NC(=O)Nc1cccc(C(F)(F)F)c1)C(=O)O',\n",
    "    'O=C(O)c1ccc(CCCN2C(=O)CCC2C=CCN2CCC2)s1',\n",
    "    'O=C(O)c1ccc(CCCN2C(=O)CCC2C=CC(O)CCc2ccco2)o1',\n",
    "    'O=C(O)c1ccc(CCCN2C(=O)CCC2C=CC(O)C2CCO2)s1',\n",
    "    'O=C1CCC(C=CC(O)c2cccc(-c3cccc(CO)c3)c2)N1',\n",
    "    'O=C(O)c1ccc(CCCN2C(=O)CCC2C=CCN2CC(F)C2)s1',\n",
    "    'CCNC(=O)C(C)NC(=O)C1CC(=O)N(CCc2ccc(OC)cc2)C1',\n",
    "    'COC(=O)CC1CC(COCc2cccc(-c3ccccc3)c2)NC1=O',\n",
    "    'O=C(CSC1CCNC1=O)NCCOCC(F)(F)F'\n",
    "]"
   ]
  },
  {
   "cell_type": "code",
   "execution_count": 4,
   "metadata": {},
   "outputs": [],
   "source": [
    "outputs = []\n",
    "for smiles in smiles_list:\n",
    "    m=Chem.MolFromSmiles(smiles)\n",
    "    maccs = maccs_from_mol(m)\n",
    "    outputs.append(maccs)"
   ]
  },
  {
   "cell_type": "code",
   "execution_count": 5,
   "metadata": {},
   "outputs": [],
   "source": [
    "outputs = pd.DataFrame(data=outputs)\n",
    "outputs.to_csv(f'./maccs_EP2nEP4.csv', index=False, header=False, sep=' ')"
   ]
  },
  {
   "cell_type": "code",
   "execution_count": null,
   "metadata": {},
   "outputs": [],
   "source": [
    "bbb_list = [\n",
    "    0.933858,\n",
    "    0.941349,\n",
    "    0.977456,\n",
    "    0.922584,\n",
    "    0.839427,\n",
    "    0.881569,\n",
    "    0.560391,\n",
    "    0.97451,\n",
    "    0.851953,\n",
    "    0.271118,\n",
    "    0.832895,\n",
    "    0.965616\n",
    "]"
   ]
  },
  {
   "cell_type": "code",
   "execution_count": 21,
   "metadata": {},
   "outputs": [],
   "source": [
    "smiles_dict = {\n",
    "    'refined_3': ['CCN(CC)Cc1ccc(CNC(=O)Nc2ccc(Cl)c(Cl)c2)s1',0.933858],\n",
    "    'new_49':['CCCCCCNC(=O)NC1CCN(c2ccc(F)cc2)C1',0.941349],\n",
    "    'new_58':['CC(=O)NCC1CN(c2ccc(-c3cccc(OC(F)(F)F)c3)c(F)c2)C(=O)O1',0.977456],\n",
    "    'new_64':['CCCCC(NC(=O)Nc1cccc(C(F)(F)F)c1)C(=O)O',0.922584],\n",
    "    '444':['O=C(O)c1ccc(CCCN2C(=O)CCC2C=CCN2CCC2)s1',0.839427],\n",
    "    '86':['O=C(O)c1ccc(CCCN2C(=O)CCC2C=CC(O)CCc2ccco2)o1',0.881569],\n",
    "    '311':['O=C(O)c1ccc(CCCN2C(=O)CCC2C=CC(O)C2CCO2)s1',0.560391],\n",
    "    '182':['O=C1CCC(C=CC(O)c2cccc(-c3cccc(CO)c3)c2)N1',0.97451],\n",
    "    '200':['O=C(O)c1ccc(CCCN2C(=O)CCC2C=CCN2CC(F)C2)s1',0.851953],\n",
    "    '268':['CCNC(=O)C(C)NC(=O)C1CC(=O)N(CCc2ccc(OC)cc2)C1',0.271118],\n",
    "    '349':['COC(=O)CC1CC(COCc2cccc(-c3ccccc3)c2)NC1=O',0.832895],\n",
    "    '156':['O=C(CSC1CCNC1=O)NCCOCC(F)(F)F',0.965616]\n",
    "}"
   ]
  },
  {
   "cell_type": "code",
   "execution_count": 22,
   "metadata": {},
   "outputs": [],
   "source": [
    "for key, value in smiles_dict.items():\n",
    "    # print(value)\n",
    "    smiles = value[0]\n",
    "    # print(smiles)\n",
    "    m=Chem.MolFromSmiles(smiles)\n",
    "    qed = QED.qed(m)\n",
    "    qed_ = QED.properties(m)\n",
    "    LogP = qed_.ALOGP\n",
    "    SAs = sascorer.calculateScore(m)\n",
    "\n",
    "    value.append(qed)\n",
    "    value.append(SAs)\n",
    "    value.append(LogP)"
   ]
  },
  {
   "cell_type": "code",
   "execution_count": 29,
   "metadata": {},
   "outputs": [
    {
     "data": {
      "text/plain": [
       "['O=C1CCC(C=CC(O)c2cccc(-c3cccc(CO)c3)c2)N1',\n",
       " 0.97451,\n",
       " 0.7411106298429352,\n",
       " 3.3550655780834644,\n",
       " 2.7141]"
      ]
     },
     "execution_count": 29,
     "metadata": {},
     "output_type": "execute_result"
    }
   ],
   "source": [
    "smiles_dict['182']"
   ]
  }
 ],
 "metadata": {
  "kernelspec": {
   "display_name": "base",
   "language": "python",
   "name": "python3"
  },
  "language_info": {
   "codemirror_mode": {
    "name": "ipython",
    "version": 3
   },
   "file_extension": ".py",
   "mimetype": "text/x-python",
   "name": "python",
   "nbconvert_exporter": "python",
   "pygments_lexer": "ipython3",
   "version": "3.9.7"
  },
  "orig_nbformat": 4
 },
 "nbformat": 4,
 "nbformat_minor": 2
}
