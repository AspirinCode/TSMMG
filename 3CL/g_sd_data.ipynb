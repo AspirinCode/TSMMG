{
 "cells": [
  {
   "cell_type": "code",
   "execution_count": 1,
   "metadata": {},
   "outputs": [],
   "source": [
    "import os\n",
    "import numpy as np\n",
    "import pandas as pd\n",
    "from PIL import Image\n",
    "from rdkit import Chem\n",
    "from rdkit.Chem import Draw\n",
    "import random"
   ]
  },
  {
   "cell_type": "code",
   "execution_count": 2,
   "metadata": {},
   "outputs": [],
   "source": [
    "def Smiles2Img(smis, size=224, savePath=None):\n",
    "    '''\n",
    "        smis: e.g. COC1=C(C=CC(=C1)NS(=O)(=O)C)C2=CN=CN3C2=CC=C3\n",
    "        path: E:/a/b/c.png\n",
    "    '''\n",
    "    try:\n",
    "        mol = Chem.MolFromSmiles(smis)\n",
    "        Draw.MolToFile(mol,savePath,size=(224,224))\n",
    "    except:\n",
    "        return False\n",
    "    return True"
   ]
  },
  {
   "cell_type": "code",
   "execution_count": 3,
   "metadata": {},
   "outputs": [],
   "source": [
    "df_positive = pd.read_csv('./data/positive.csv')\n",
    "smiles_positive = df_positive['smiles'].values\n",
    "y_positive = df_positive['label'].values\n",
    "\n",
    "df_negtive = pd.read_csv('./data/negtive.csv')\n",
    "smiles_negtive = df_negtive['smiles'].values\n",
    "y_negtive = df_negtive['label'].values"
   ]
  },
  {
   "cell_type": "code",
   "execution_count": 4,
   "metadata": {},
   "outputs": [],
   "source": [
    "idx_positive = [i for i in range(len(smiles_positive))]\n",
    "idx_negtive = [i for i in range(len(smiles_negtive))]"
   ]
  },
  {
   "cell_type": "code",
   "execution_count": 5,
   "metadata": {},
   "outputs": [],
   "source": [
    "sample_list = [5,10,15,20,25,30,35,40,45,50]"
   ]
  },
  {
   "cell_type": "code",
   "execution_count": 7,
   "metadata": {},
   "outputs": [],
   "source": [
    "# train_data = pd.read_csv('./data/3CL_enzymatic_activity/train.csv')\n",
    "train_data = pd.read_csv('./data/3CL_enzymatic/train.csv')\n",
    "train_data_list = train_data['name'].tolist()"
   ]
  },
  {
   "cell_type": "code",
   "execution_count": 8,
   "metadata": {},
   "outputs": [],
   "source": [
    "for sample_num in sample_list:\n",
    "    random.seed(60)\n",
    "    train_data = train_data_list.copy()\n",
    "\n",
    "    idx_p = random.sample(idx_positive, sample_num)\n",
    "    idx_n = random.sample(idx_negtive, sample_num)\n",
    "\n",
    "    extra_smiles = np.concatenate([smiles_positive[idx_p],smiles_negtive[idx_n]])\n",
    "    extra_lables = np.concatenate([y_positive[idx_p],y_negtive[idx_n]])\n",
    "    extra_idx = np.concatenate([idx_p,idx_n])\n",
    "\n",
    "    for i in range(len(extra_idx)):\n",
    "        extra_idx[i] = extra_idx[i] + 20000\n",
    "\n",
    "    extra_data = []\n",
    "    for i in range(len(extra_idx)):\n",
    "        extra_data.append([extra_smiles[i], extra_idx[i], extra_lables[i]])\n",
    "    pd_extra = pd.DataFrame(data=extra_data, columns=['smiles', 'index', 'label'])\n",
    "\n",
    "    dir_name = f'3CL2_extra_{sample_num*2}'\n",
    "    os.mkdir(f'./data/3CL_extra/{dir_name}')\n",
    "    os.mkdir(f'./data/3CL_extra/{dir_name}/processed')\n",
    "    os.mkdir(f'./data/3CL_extra/{dir_name}/processed/224')\n",
    "\n",
    "    for item in pd_extra.values:\n",
    "        smiles = item[0]\n",
    "        idx = item[1]\n",
    "        savePath = f'./data/3CL_extra/{dir_name}/processed/224/{idx}.png'\n",
    "        if Smiles2Img(smiles, size=224, savePath=savePath):\n",
    "            train_data.append(f'{idx}.png')\n",
    "\n",
    "    pd_raw = pd.read_csv('./data/processed/3CL_processed_ac.csv')\n",
    "    outputs = pd.concat([pd_raw,pd_extra])\n",
    "    outputs.to_csv(f'./data/3CL_extra/{dir_name}/processed/{dir_name}_processed_ac.csv', index=False)\n",
    "\n",
    "    train_data = pd.DataFrame(data=train_data, columns=['name'])\n",
    "    train_data.to_csv(f'./data/3CL_extra/{dir_name}/train.csv', index=False)"
   ]
  }
 ],
 "metadata": {
  "kernelspec": {
   "display_name": "base",
   "language": "python",
   "name": "python3"
  },
  "language_info": {
   "codemirror_mode": {
    "name": "ipython",
    "version": 3
   },
   "file_extension": ".py",
   "mimetype": "text/x-python",
   "name": "python",
   "nbconvert_exporter": "python",
   "pygments_lexer": "ipython3",
   "version": "3.9.7"
  },
  "orig_nbformat": 4
 },
 "nbformat": 4,
 "nbformat_minor": 2
}
