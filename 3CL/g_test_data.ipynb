{
 "cells": [
  {
   "cell_type": "code",
   "execution_count": 2,
   "metadata": {},
   "outputs": [],
   "source": [
    "import numpy as np\n",
    "import pandas as pd\n",
    "from rdkit import Chem\n",
    "from rdkit.Chem import MACCSkeys\n",
    "import random\n",
    "import re\n",
    "import joblib"
   ]
  },
  {
   "attachments": {},
   "cell_type": "markdown",
   "metadata": {},
   "source": [
    "# 生成测试数据"
   ]
  },
  {
   "cell_type": "code",
   "execution_count": 3,
   "metadata": {},
   "outputs": [
    {
     "name": "stdout",
     "output_type": "stream",
     "text": [
      "Saved.\n"
     ]
    }
   ],
   "source": [
    "df_source = pd.read_csv('../data/n1.csv')\n",
    "outputs = []\n",
    "used_fg = []\n",
    "for item in df_source.values:\n",
    "    iupac = item[1]\n",
    "\n",
    "    word_list = re.split(\"[\\s\\[\\],\\(\\)-.;]\",iupac)\n",
    "    filtered_word_list = [item for item in word_list if len(item)>3 and item[0].isnumeric() is False]\n",
    "\n",
    "    for i in range(4):\n",
    "        fg = random.choice(filtered_word_list)\n",
    "\n",
    "        if fg in used_fg:\n",
    "            continue\n",
    "\n",
    "        desc = f\"The molecule contains {fg}. It can bind to 3CL.\"\n",
    "        desc2 = f\"The molecule contains {fg}. It can not bind to 3CL.\"\n",
    "        used_fg.append(fg)\n",
    "\n",
    "        outputs.append([0,0,desc,0])\n",
    "        outputs.append([0,0,desc2,0])\n",
    "\n",
    "    if len(outputs) > 1000:\n",
    "        break\n",
    "\n",
    "outputs = pd.DataFrame(data=outputs, columns=['cid', 'iupac', 'desc', 'smiles'])\n",
    "outputs.to_csv(f'../data/eval/eval_3CL.csv', index=False)\n",
    "print('Saved.')"
   ]
  }
 ],
 "metadata": {
  "kernelspec": {
   "display_name": "base",
   "language": "python",
   "name": "python3"
  },
  "language_info": {
   "codemirror_mode": {
    "name": "ipython",
    "version": 3
   },
   "file_extension": ".py",
   "mimetype": "text/x-python",
   "name": "python",
   "nbconvert_exporter": "python",
   "pygments_lexer": "ipython3",
   "version": "3.9.7"
  },
  "orig_nbformat": 4
 },
 "nbformat": 4,
 "nbformat_minor": 2
}
