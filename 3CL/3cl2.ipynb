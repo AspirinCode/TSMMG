{
 "cells": [
  {
   "cell_type": "code",
   "execution_count": 1,
   "metadata": {},
   "outputs": [],
   "source": [
    "from sklearn.svm import SVC\n",
    "from sklearn.pipeline import make_pipeline\n",
    "from sklearn.preprocessing import StandardScaler\n",
    "import numpy as np\n",
    "import pandas as pd\n",
    "from sklearn.model_selection import KFold,StratifiedKFold\n",
    "from rdkit import Chem\n",
    "from rdkit.Chem import MACCSkeys\n",
    "from sklearn.metrics import precision_score\n",
    "from sklearn.metrics import f1_score\n",
    "import random\n",
    "import re\n",
    "import torch"
   ]
  },
  {
   "cell_type": "code",
   "execution_count": 2,
   "metadata": {},
   "outputs": [],
   "source": [
    "fname = './data/processed/3CL_processed_ac.csv'\n",
    "df = pd.read_csv(fname)\n",
    "# df"
   ]
  },
  {
   "cell_type": "code",
   "execution_count": 3,
   "metadata": {},
   "outputs": [],
   "source": [
    "p_mask = df['label'] == 1\n",
    "n_mask = df['label'] == 0"
   ]
  },
  {
   "cell_type": "code",
   "execution_count": 4,
   "metadata": {},
   "outputs": [
    {
     "name": "stdout",
     "output_type": "stream",
     "text": [
      "84\n",
      "363\n"
     ]
    }
   ],
   "source": [
    "print(sum(p_mask))\n",
    "print(sum(n_mask))"
   ]
  },
  {
   "cell_type": "code",
   "execution_count": 5,
   "metadata": {},
   "outputs": [],
   "source": [
    "seed = 10\n",
    "random.seed(seed)\n",
    "np.random.seed(seed)\n",
    "df_mix = pd.concat([df[p_mask].sample(50),df[n_mask].sample(50)])\n",
    "# df_mix = pd.concat([df[p_mask],df[n_mask]])"
   ]
  },
  {
   "cell_type": "code",
   "execution_count": 6,
   "metadata": {},
   "outputs": [],
   "source": [
    "df_mix = df_mix.sample(frac=1)\n",
    "# df_mix.to_csv(f'./data/3CL_enzymatic/processed/3CL_enzymatic_processed_ac.csv', index=False)"
   ]
  },
  {
   "cell_type": "code",
   "execution_count": 7,
   "metadata": {},
   "outputs": [
    {
     "data": {
      "text/plain": [
       "50"
      ]
     },
     "execution_count": 7,
     "metadata": {},
     "output_type": "execute_result"
    }
   ],
   "source": [
    "smiles_list = df_mix['smiles'].values\n",
    "y = df_mix['label'].values\n",
    "sum(y==1)"
   ]
  },
  {
   "cell_type": "code",
   "execution_count": 8,
   "metadata": {},
   "outputs": [
    {
     "data": {
      "text/plain": [
       "(100, 167)"
      ]
     },
     "execution_count": 8,
     "metadata": {},
     "output_type": "execute_result"
    }
   ],
   "source": [
    "x = []\n",
    "for smiles in smiles_list:\n",
    "    mol=Chem.MolFromSmiles(smiles)\n",
    "    fp = MACCSkeys.GenMACCSKeys(mol)\n",
    "    # fp_bits = fp.ToBitString()\n",
    "    fp_bits = fp.ToList()\n",
    "    x.append(fp_bits)\n",
    "x = np.array(x)\n",
    "x.shape"
   ]
  },
  {
   "cell_type": "code",
   "execution_count": 9,
   "metadata": {},
   "outputs": [],
   "source": [
    "sfolder = StratifiedKFold(n_splits=3,random_state=5,shuffle=True)\n",
    "# sfolder = StratifiedKFold(n_splits=3,random_state=5,shuffle=True)"
   ]
  },
  {
   "cell_type": "code",
   "execution_count": 10,
   "metadata": {},
   "outputs": [],
   "source": [
    "splits = list(sfolder.split(x,y))"
   ]
  },
  {
   "cell_type": "code",
   "execution_count": 11,
   "metadata": {},
   "outputs": [
    {
     "name": "stdout",
     "output_type": "stream",
     "text": [
      "f1: 0.735294117647059; precision: 0.7352941176470589.\n",
      "f1: 0.48484848484848486; precision: 0.48484848484848486.\n",
      "f1: 0.5151515151515151; precision: 0.5151515151515151.\n",
      "F1 mean: 0.5784313678741455, std: 0.1366894543170929.\n",
      "Precision mean: 0.5784313678741455, std: 0.1366894543170929.\n"
     ]
    }
   ],
   "source": [
    "f1_list = []\n",
    "precision_list =  []\n",
    "\n",
    "# idx = 2\n",
    "# train = splits[idx][0]\n",
    "# test = splits[idx][1]\n",
    "\n",
    "for train, test in sfolder.split(x,y):\n",
    "    regr = make_pipeline(SVC(probability = True))\n",
    "    regr.fit(x[train], y[train])\n",
    "    pred = regr.predict(x[test])\n",
    "    f1 = f1_score(y[test].reshape(-1,1), pred.reshape(-1,1), average='micro')\n",
    "    p_score = precision_score(y[test], pred, average='micro')\n",
    "    f1_list.append(f1)\n",
    "    precision_list.append(p_score)\n",
    "    print(f\"f1: {f1}; precision: {p_score}.\")\n",
    "\n",
    "    # train_data = []\n",
    "    # for idx in train:\n",
    "    #     train_data.append(f\"{df_mix['index'].values[idx]}.png\")\n",
    "    # train_data = pd.DataFrame(data=train_data, columns=['name'])\n",
    "    # train_data.to_csv(f'./data/3CL_enzymatic/train.csv', index=False)\n",
    "\n",
    "    # test_data = []\n",
    "    # for idx in test:\n",
    "    #     test_data.append(f\"{df_mix['index'].values[idx]}.png\")\n",
    "    # test_data = pd.DataFrame(data=test_data, columns=['name'])\n",
    "    # test_data.to_csv(f'./data/3CL_enzymatic/test.csv', index=False)\n",
    "\n",
    "f1_ts = torch.Tensor(f1_list)\n",
    "precision_ts = torch.Tensor(precision_list)\n",
    "\n",
    "print(f\"F1 mean: {f1_ts.mean()}, std: {f1_ts.std()}.\")\n",
    "print(f\"Precision mean: {precision_ts.mean()}, std: {precision_ts.std()}.\")\n"
   ]
  },
  {
   "cell_type": "code",
   "execution_count": null,
   "metadata": {},
   "outputs": [],
   "source": [
    "import joblib\n",
    "joblib.dump(regr, \"SVC.m\")"
   ]
  },
  {
   "attachments": {},
   "cell_type": "markdown",
   "metadata": {},
   "source": [
    "# 加入额外的数据"
   ]
  },
  {
   "cell_type": "code",
   "execution_count": 12,
   "metadata": {},
   "outputs": [],
   "source": [
    "df_positive = pd.read_csv('./data/positive.csv')\n",
    "smiles_positive = df_positive['smiles'].values\n",
    "y_positive = df_positive['label'].values\n",
    "\n",
    "df_negtive = pd.read_csv('./data/negtive.csv')\n",
    "smiles_negtive = df_negtive['smiles'].values\n",
    "y_negtive = df_negtive['label'].values"
   ]
  },
  {
   "cell_type": "code",
   "execution_count": 13,
   "metadata": {},
   "outputs": [],
   "source": [
    "x_positive = []\n",
    "y_positive = []\n",
    "################# 正样本\n",
    "for smiles in smiles_positive:\n",
    "    mol=Chem.MolFromSmiles(smiles)\n",
    "    fp = MACCSkeys.GenMACCSKeys(mol)\n",
    "    # fp_bits = fp.ToBitString()\n",
    "    fp_bits = fp.ToList()\n",
    "    x_positive.append(fp_bits)\n",
    "    y_positive.append(1)\n",
    "x_positive = np.array(x_positive)\n",
    "y_positive = np.array(y_positive)\n",
    "\n",
    "x_negtive = []\n",
    "y_negtive = []\n",
    "################# 负样本\n",
    "for smiles in smiles_negtive:\n",
    "    mol=Chem.MolFromSmiles(smiles)\n",
    "    fp = MACCSkeys.GenMACCSKeys(mol)\n",
    "    # fp_bits = fp.ToBitString()\n",
    "    fp_bits = fp.ToList()\n",
    "    x_negtive.append(fp_bits)\n",
    "    y_negtive.append(0)\n",
    "x_negtive = np.array(x_negtive)\n",
    "y_negtive = np.array(y_negtive)"
   ]
  },
  {
   "cell_type": "code",
   "execution_count": 14,
   "metadata": {},
   "outputs": [],
   "source": [
    "idx_positive = [i for i in range(len(x_positive))]\n",
    "idx_negtive = [i for i in range(len(x_negtive))]"
   ]
  },
  {
   "cell_type": "code",
   "execution_count": null,
   "metadata": {},
   "outputs": [],
   "source": [
    "sample_list = [5,10,15,20,25,30,35,40,45,50]\n",
    "\n",
    "f1_score_mean = []\n",
    "f1_score_std = []\n",
    "for i in range(len(sample_list)):\n",
    "    sample_num = sample_list[i]\n",
    "\n",
    "    f1_list = []\n",
    "    precision_list =  []\n",
    "    for train, test in sfolder.split(x,y):\n",
    "        random.seed(100)\n",
    "\n",
    "        idx_p = random.sample(idx_positive, sample_num)\n",
    "        idx_n = random.sample(idx_negtive, sample_num)\n",
    "\n",
    "        x_extra = np.concatenate([x_positive[idx_p],x_negtive[idx_n]])\n",
    "        y_extra = np.concatenate([y_positive[idx_p],y_negtive[idx_n]])\n",
    "\n",
    "        idx_s = [i for i in range(len(y_extra))]\n",
    "        random.shuffle(idx_s)\n",
    "        x_extra = x_extra[idx_s]\n",
    "        y_extra = y_extra[idx_s]\n",
    "\n",
    "\n",
    "\n",
    "        regr = make_pipeline(SVC(probability = True))\n",
    "        regr.fit(np.concatenate([x[train], x_extra]), np.concatenate([y[train], y_extra]))\n",
    "        pred = regr.predict(x[test])\n",
    "        f1 = f1_score(y[test].reshape(-1,1), pred.reshape(-1,1), average='micro')\n",
    "        p_score = precision_score(y[test], pred, average='micro')\n",
    "\n",
    "        f1_list.append(f1)\n",
    "        precision_list.append(p_score)\n",
    "        # print(f\"f1: {f1}; precision: {p_score}.\")\n",
    "\n",
    "    f1_ts = torch.Tensor(f1_list)\n",
    "    precision_ts = torch.Tensor(precision_list)\n",
    "\n",
    "    f1_score_mean.append(round(f1_ts.mean().item(),4))\n",
    "    f1_score_std.append(round(f1_ts.std().item(),4))\n",
    "\n",
    "print(f1_score_mean)\n",
    "print(f1_score_std)"
   ]
  },
  {
   "cell_type": "code",
   "execution_count": 15,
   "metadata": {},
   "outputs": [
    {
     "name": "stdout",
     "output_type": "stream",
     "text": [
      "[0.7312, 0.7553, 0.7644, 0.7821, 0.7859, 0.7862, 0.7882, 0.79, 0.7909, 0.7947, 0.8015, 0.8024, 0.7991, 0.8009, 0.8021, 0.8041, 0.8053, 0.8065, 0.8038, 0.8065]\n",
      "[0.0364, 0.0364, 0.0343, 0.0369, 0.0327, 0.0347, 0.0418, 0.0372, 0.0334, 0.0321, 0.0291, 0.0281, 0.029, 0.0301, 0.0295, 0.0293, 0.0277, 0.0296, 0.0277, 0.0265]\n"
     ]
    }
   ],
   "source": [
    "# sample_list = [5,10,15,20,25,30,35,40,45,50,55,60,65,70,75,80,85,90,95,100]\n",
    "sample_list = [10,20,30,40,50,60,70,80,90,100,110,120,130,140,150,160,170,180,190,200]\n",
    "# sample_list = [20,40,60,80,100,120,140,160,180,200]\n",
    "\n",
    "idx = 0\n",
    "train = splits[idx][0]\n",
    "test = splits[idx][1]\n",
    "\n",
    "f1_score_mean = []\n",
    "f1_score_std = []\n",
    "for i in range(len(sample_list)):\n",
    "    sample_num = sample_list[i]\n",
    "\n",
    "    f1_list = []\n",
    "    precision_list =  []\n",
    "    for seed in range(50,150):\n",
    "        random.seed(seed)\n",
    "\n",
    "        idx_p = random.sample(idx_positive, sample_num)\n",
    "        idx_n = random.sample(idx_negtive, sample_num)\n",
    "\n",
    "        x_extra = np.concatenate([x_positive[idx_p],x_negtive[idx_n]])\n",
    "        y_extra = np.concatenate([y_positive[idx_p],y_negtive[idx_n]])\n",
    "\n",
    "        idx_s = [i for i in range(len(y_extra))]\n",
    "        random.shuffle(idx_s)\n",
    "        x_extra = x_extra[idx_s]\n",
    "        y_extra = y_extra[idx_s]\n",
    "\n",
    "\n",
    "\n",
    "        regr = make_pipeline(SVC(probability = True))\n",
    "        regr.fit(np.concatenate([x[train], x_extra]), np.concatenate([y[train], y_extra]))\n",
    "        pred = regr.predict(x[test])\n",
    "        f1 = f1_score(y[test].reshape(-1,1), pred.reshape(-1,1), average='micro')\n",
    "        p_score = precision_score(y[test], pred, average='micro')\n",
    "\n",
    "        f1_list.append(f1)\n",
    "        precision_list.append(p_score)\n",
    "        # print(f\"f1: {f1}; precision: {p_score}.\")\n",
    "\n",
    "    f1_ts = torch.Tensor(f1_list)\n",
    "    precision_ts = torch.Tensor(precision_list)\n",
    "\n",
    "    f1_score_mean.append(round(f1_ts.mean().item(),4))\n",
    "    f1_score_std.append(round(f1_ts.std().item(),4))\n",
    "\n",
    "print(f1_score_mean)\n",
    "print(f1_score_std)"
   ]
  },
  {
   "cell_type": "code",
   "execution_count": 16,
   "metadata": {},
   "outputs": [],
   "source": [
    "outputs = []\n",
    "for i in range(len(sample_list)):\n",
    "    outputs.append([sample_list[i],f1_score_mean[i],f1_score_std])\n",
    "outputs = pd.DataFrame(data=outputs, columns=['sample', 'mean','std'])\n",
    "outputs.to_csv('../log/SD_3CL.csv', index=False)"
   ]
  }
 ],
 "metadata": {
  "kernelspec": {
   "display_name": "base",
   "language": "python",
   "name": "python3"
  },
  "language_info": {
   "codemirror_mode": {
    "name": "ipython",
    "version": 3
   },
   "file_extension": ".py",
   "mimetype": "text/x-python",
   "name": "python",
   "nbconvert_exporter": "python",
   "pygments_lexer": "ipython3",
   "version": "3.9.7"
  },
  "orig_nbformat": 4
 },
 "nbformat": 4,
 "nbformat_minor": 2
}
