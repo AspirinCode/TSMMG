{
 "cells": [
  {
   "cell_type": "code",
   "execution_count": 45,
   "metadata": {},
   "outputs": [],
   "source": [
    "import matplotlib.pyplot as plt\n",
    "from sklearn.svm import SVC\n",
    "from sklearn.pipeline import make_pipeline\n",
    "from sklearn.preprocessing import StandardScaler\n",
    "import numpy as np\n",
    "import pandas as pd\n",
    "from sklearn.model_selection import KFold,StratifiedKFold\n",
    "from rdkit import Chem\n",
    "from rdkit.Chem import MACCSkeys\n",
    "from sklearn.metrics import precision_score\n",
    "from sklearn.metrics import f1_score\n",
    "import random\n",
    "import re\n",
    "import torch"
   ]
  },
  {
   "cell_type": "code",
   "execution_count": 36,
   "metadata": {},
   "outputs": [],
   "source": [
    "def fetch(target):\n",
    "    fname_human = f'{target}_HUMAN.csv'\n",
    "    df_human = pd.read_csv(fname_human, sep=';')\n",
    "\n",
    "    fname_rat = f'{target}_RAT.csv'\n",
    "    df_rat = pd.read_csv(fname_rat, sep=';')\n",
    "\n",
    "    fname_mouse = f'{target}_MOUSE.csv'\n",
    "    df_mouse = pd.read_csv(fname_mouse, sep=';')\n",
    "\n",
    "    df = pd.concat([df_human, df_rat, df_mouse])\n",
    "\n",
    "    mask = df['Standard Type'] == 'IC50'\n",
    "\n",
    "    td = 10\n",
    "    pmask = (df[mask]['Standard Value'] < td) & (df[mask]['Standard Value'] > 0)\n",
    "    nmask = df[mask]['Standard Value'] > td\n",
    "\n",
    "    len_p = sum(pmask)\n",
    "    len_n = sum(nmask)\n",
    "\n",
    "    print(f'靶点：{target}, 正样本数量：', len_p)\n",
    "    print(f'靶点：{target}, 负样本数量：', len_n)\n",
    "\n",
    "    df_p = df[mask][pmask]\n",
    "    df_n = df[mask][nmask]\n",
    "\n",
    "    return df_p, df_n, len_p"
   ]
  },
  {
   "cell_type": "code",
   "execution_count": 37,
   "metadata": {},
   "outputs": [
    {
     "name": "stdout",
     "output_type": "stream",
     "text": [
      "靶点：EP4, 正样本数量： 161\n",
      "靶点：EP4, 负样本数量： 482\n"
     ]
    }
   ],
   "source": [
    "df_ep4_p, df_ep4_n, len_ep4_p = fetch('EP4')"
   ]
  },
  {
   "cell_type": "code",
   "execution_count": null,
   "metadata": {},
   "outputs": [],
   "source": [
    "n, bins, patches = plt.hist(df_ep4_p['Standard Value'], 50, density=False)\n",
    "plt.show()"
   ]
  },
  {
   "cell_type": "code",
   "execution_count": 42,
   "metadata": {},
   "outputs": [
    {
     "data": {
      "text/plain": [
       "314"
      ]
     },
     "execution_count": 42,
     "metadata": {},
     "output_type": "execute_result"
    }
   ],
   "source": [
    "outputs = []\n",
    "data_mix = []\n",
    "\n",
    "for i in range(len_ep4_p):\n",
    "    index = df_ep4_p.index[i]\n",
    "    smiles = df_ep4_p['Smiles'][index]\n",
    "    ic50 = df_ep4_p['Standard Value'][index]\n",
    "\n",
    "    try:\n",
    "        m=Chem.MolFromSmiles(smiles)\n",
    "        # print(smiles)\n",
    "    except Exception as e:              # 不能解析的话跳过\n",
    "        continue\n",
    "\n",
    "    desc = 'It can bind to Prostanoid EP4 receptor.'\n",
    "    outputs.append(['None', 'None', desc, smiles])\n",
    "    data_mix.append([smiles,ic50,1])\n",
    "\n",
    "for i in range(len_ep4_p):\n",
    "    index = df_ep4_n.index[i]\n",
    "    smiles = df_ep4_n['Smiles'][index]\n",
    "    ic50 = df_ep4_n['Standard Value'][index]\n",
    "\n",
    "    try:\n",
    "        m=Chem.MolFromSmiles(smiles)\n",
    "        # print(smiles)\n",
    "    except Exception as e:              # 不能解析的话跳过\n",
    "        continue\n",
    "\n",
    "    desc = 'It can not bind to Prostanoid EP4 receptor.'\n",
    "    outputs.append(['None', 'None', desc, smiles])\n",
    "    data_mix.append([smiles,ic50,0])\n",
    "\n",
    "len(outputs)"
   ]
  },
  {
   "cell_type": "code",
   "execution_count": 35,
   "metadata": {},
   "outputs": [
    {
     "name": "stdout",
     "output_type": "stream",
     "text": [
      "Saved.\n"
     ]
    }
   ],
   "source": [
    "outputs = pd.DataFrame(data=outputs, columns=['cid','iupac','desc','smiles'])\n",
    "outputs.to_csv(f'../data/train/EP4.csv', index=False)\n",
    "print('Saved.')"
   ]
  },
  {
   "attachments": {},
   "cell_type": "markdown",
   "metadata": {},
   "source": [
    "# 分类器"
   ]
  },
  {
   "cell_type": "code",
   "execution_count": 43,
   "metadata": {},
   "outputs": [
    {
     "data": {
      "text/html": [
       "<div>\n",
       "<style scoped>\n",
       "    .dataframe tbody tr th:only-of-type {\n",
       "        vertical-align: middle;\n",
       "    }\n",
       "\n",
       "    .dataframe tbody tr th {\n",
       "        vertical-align: top;\n",
       "    }\n",
       "\n",
       "    .dataframe thead th {\n",
       "        text-align: right;\n",
       "    }\n",
       "</style>\n",
       "<table border=\"1\" class=\"dataframe\">\n",
       "  <thead>\n",
       "    <tr style=\"text-align: right;\">\n",
       "      <th></th>\n",
       "      <th>smiles</th>\n",
       "      <th>IC50</th>\n",
       "      <th>label</th>\n",
       "    </tr>\n",
       "  </thead>\n",
       "  <tbody>\n",
       "    <tr>\n",
       "      <th>110</th>\n",
       "      <td>Cc1ccc(-c2cccc(CO)c2)nc1C(=O)Nc1c(C)ccc(C(=O)O...</td>\n",
       "      <td>2.36</td>\n",
       "      <td>1</td>\n",
       "    </tr>\n",
       "    <tr>\n",
       "      <th>97</th>\n",
       "      <td>Cc1ccc(C(=O)O)c(C)c1NC(=O)c1cc(-c2ccccc2)cc2cc...</td>\n",
       "      <td>5.65</td>\n",
       "      <td>1</td>\n",
       "    </tr>\n",
       "    <tr>\n",
       "      <th>88</th>\n",
       "      <td>C[C@H](NC(=O)c1cc(Cl)cc2ccn(Cc3cccc(Cl)c3)c12)...</td>\n",
       "      <td>1.50</td>\n",
       "      <td>1</td>\n",
       "    </tr>\n",
       "    <tr>\n",
       "      <th>144</th>\n",
       "      <td>C[C@H](NC(=O)c1c(Cc2ccc(OC(F)(F)F)c(Cl)c2)sc2c...</td>\n",
       "      <td>6.60</td>\n",
       "      <td>1</td>\n",
       "    </tr>\n",
       "    <tr>\n",
       "      <th>107</th>\n",
       "      <td>C[C@H](NC(=O)c1c(C(F)F)nn(C)c1Oc1cccc(C(F)(F)F...</td>\n",
       "      <td>7.50</td>\n",
       "      <td>1</td>\n",
       "    </tr>\n",
       "    <tr>\n",
       "      <th>...</th>\n",
       "      <td>...</td>\n",
       "      <td>...</td>\n",
       "      <td>...</td>\n",
       "    </tr>\n",
       "    <tr>\n",
       "      <th>172</th>\n",
       "      <td>O=C(O)Cn1c2c(c3cc(C(F)(F)F)ccc31)CN(C(=O)c1ccc...</td>\n",
       "      <td>10000.00</td>\n",
       "      <td>0</td>\n",
       "    </tr>\n",
       "    <tr>\n",
       "      <th>291</th>\n",
       "      <td>CCCCC[C@H](O)/C=C/[C@@H]1[C@@H](C/C=C\\CCCC(=O)...</td>\n",
       "      <td>400.00</td>\n",
       "      <td>0</td>\n",
       "    </tr>\n",
       "    <tr>\n",
       "      <th>132</th>\n",
       "      <td>C[C@@H](CCCc1ccccc1)[C@H](O)/C=C/[C@H]1CC(F)(F...</td>\n",
       "      <td>0.74</td>\n",
       "      <td>1</td>\n",
       "    </tr>\n",
       "    <tr>\n",
       "      <th>209</th>\n",
       "      <td>Cc1oc(C(=O)O)cc1COc1cccc(-c2ccccc2)c1</td>\n",
       "      <td>10000.00</td>\n",
       "      <td>0</td>\n",
       "    </tr>\n",
       "    <tr>\n",
       "      <th>122</th>\n",
       "      <td>C[C@H](NC(=O)c1c(Cc2cccc(C(F)(F)F)c2)sc2c1CCOC...</td>\n",
       "      <td>1.70</td>\n",
       "      <td>1</td>\n",
       "    </tr>\n",
       "  </tbody>\n",
       "</table>\n",
       "<p>314 rows × 3 columns</p>\n",
       "</div>"
      ],
      "text/plain": [
       "                                                smiles      IC50  label\n",
       "110  Cc1ccc(-c2cccc(CO)c2)nc1C(=O)Nc1c(C)ccc(C(=O)O...      2.36      1\n",
       "97   Cc1ccc(C(=O)O)c(C)c1NC(=O)c1cc(-c2ccccc2)cc2cc...      5.65      1\n",
       "88   C[C@H](NC(=O)c1cc(Cl)cc2ccn(Cc3cccc(Cl)c3)c12)...      1.50      1\n",
       "144  C[C@H](NC(=O)c1c(Cc2ccc(OC(F)(F)F)c(Cl)c2)sc2c...      6.60      1\n",
       "107  C[C@H](NC(=O)c1c(C(F)F)nn(C)c1Oc1cccc(C(F)(F)F...      7.50      1\n",
       "..                                                 ...       ...    ...\n",
       "172  O=C(O)Cn1c2c(c3cc(C(F)(F)F)ccc31)CN(C(=O)c1ccc...  10000.00      0\n",
       "291  CCCCC[C@H](O)/C=C/[C@@H]1[C@@H](C/C=C\\CCCC(=O)...    400.00      0\n",
       "132  C[C@@H](CCCc1ccccc1)[C@H](O)/C=C/[C@H]1CC(F)(F...      0.74      1\n",
       "209              Cc1oc(C(=O)O)cc1COc1cccc(-c2ccccc2)c1  10000.00      0\n",
       "122  C[C@H](NC(=O)c1c(Cc2cccc(C(F)(F)F)c2)sc2c1CCOC...      1.70      1\n",
       "\n",
       "[314 rows x 3 columns]"
      ]
     },
     "execution_count": 43,
     "metadata": {},
     "output_type": "execute_result"
    }
   ],
   "source": [
    "df_mix = pd.DataFrame(data=data_mix, columns=['smiles','IC50','label'])\n",
    "df_mix = df_mix.sample(frac=1)\n",
    "df_mix"
   ]
  },
  {
   "cell_type": "code",
   "execution_count": 44,
   "metadata": {},
   "outputs": [
    {
     "data": {
      "text/plain": [
       "153"
      ]
     },
     "execution_count": 44,
     "metadata": {},
     "output_type": "execute_result"
    }
   ],
   "source": [
    "smiles_list = df_mix['smiles'].values\n",
    "y = df_mix['label'].values\n",
    "ic50s = df_mix['IC50'].values\n",
    "sum(y==0)"
   ]
  },
  {
   "cell_type": "code",
   "execution_count": 49,
   "metadata": {},
   "outputs": [
    {
     "data": {
      "text/plain": [
       "(314, 167)"
      ]
     },
     "execution_count": 49,
     "metadata": {},
     "output_type": "execute_result"
    }
   ],
   "source": [
    "x = []\n",
    "for smiles in smiles_list:\n",
    "    mol=Chem.MolFromSmiles(smiles)\n",
    "    fp = MACCSkeys.GenMACCSKeys(mol)\n",
    "    # fp_bits = fp.ToBitString()\n",
    "    fp_bits = fp.ToList()\n",
    "    x.append(fp_bits)\n",
    "x = np.array(x)\n",
    "x.shape"
   ]
  },
  {
   "cell_type": "code",
   "execution_count": 50,
   "metadata": {},
   "outputs": [],
   "source": [
    "sfolder = StratifiedKFold(n_splits=10,random_state=0,shuffle=True)"
   ]
  },
  {
   "cell_type": "code",
   "execution_count": 52,
   "metadata": {},
   "outputs": [
    {
     "name": "stdout",
     "output_type": "stream",
     "text": [
      "f1: 0.84375; precision: 0.84375.\n",
      "f1: 0.6875; precision: 0.6875.\n",
      "f1: 0.71875; precision: 0.71875.\n",
      "f1: 0.65625; precision: 0.65625.\n",
      "f1: 0.7741935483870968; precision: 0.7741935483870968.\n",
      "f1: 0.7096774193548389; precision: 0.7096774193548387.\n",
      "f1: 0.7096774193548389; precision: 0.7096774193548387.\n",
      "f1: 0.9032258064516129; precision: 0.9032258064516129.\n",
      "f1: 0.7741935483870968; precision: 0.7741935483870968.\n",
      "f1: 0.8709677419354839; precision: 0.8709677419354839.\n",
      "F1 mean: 0.7648184895515442, std: 0.08353233337402344.\n",
      "Precision mean: 0.7648184895515442, std: 0.08353233337402344.\n"
     ]
    }
   ],
   "source": [
    "f1_list = []\n",
    "precision_list =  []\n",
    "regr_list = []\n",
    "for train, test in sfolder.split(x,y,ic50s):\n",
    "    # print(sum(y[test]==0))\n",
    "    # print(sum(y[test]==1))\n",
    "    regr = make_pipeline(SVC(kernel='rbf', probability = True))\n",
    "    regr.fit(x[train], y[train])\n",
    "    pred = regr.predict(x[test])\n",
    "\n",
    "    # for i in range(len(pred)):\n",
    "    #     if pred[i] != y[test][i]:\n",
    "    #         print(f\"预测值: {pred[i]}, 实际值: {y[test][i]}, IC50: {ic50s[test][i]}\")\n",
    "\n",
    "    # print(pred)\n",
    "    # print(y[test])\n",
    "    f1 = f1_score(y[test].reshape(-1,1), pred.reshape(-1,1), average='micro')\n",
    "    p_score = precision_score(y[test], pred, average='micro')\n",
    "    f1_list.append(f1)\n",
    "    precision_list.append(p_score)\n",
    "    print(f\"f1: {f1}; precision: {p_score}.\")\n",
    "\n",
    "    regr_list.append(regr)\n",
    "\n",
    "f1_ts = torch.Tensor(f1_list)\n",
    "precision_ts = torch.Tensor(precision_list)\n",
    "\n",
    "print(f\"F1 mean: {f1_ts.mean()}, std: {f1_ts.std()}.\")\n",
    "print(f\"Precision mean: {precision_ts.mean()}, std: {precision_ts.std()}.\")"
   ]
  },
  {
   "cell_type": "code",
   "execution_count": 53,
   "metadata": {},
   "outputs": [
    {
     "data": {
      "text/plain": [
       "['SVC_EP4.m']"
      ]
     },
     "execution_count": 53,
     "metadata": {},
     "output_type": "execute_result"
    }
   ],
   "source": [
    "import joblib\n",
    "joblib.dump(regr_list[7], \"SVC_EP4.m\")"
   ]
  }
 ],
 "metadata": {
  "kernelspec": {
   "display_name": "base",
   "language": "python",
   "name": "python3"
  },
  "language_info": {
   "codemirror_mode": {
    "name": "ipython",
    "version": 3
   },
   "file_extension": ".py",
   "mimetype": "text/x-python",
   "name": "python",
   "nbconvert_exporter": "python",
   "pygments_lexer": "ipython3",
   "version": "3.9.7"
  },
  "orig_nbformat": 4
 },
 "nbformat": 4,
 "nbformat_minor": 2
}
