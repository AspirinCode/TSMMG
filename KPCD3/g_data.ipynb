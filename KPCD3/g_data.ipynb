{
 "cells": [
  {
   "cell_type": "code",
   "execution_count": 1,
   "metadata": {},
   "outputs": [],
   "source": [
    "import numpy as np\n",
    "import pandas as pd\n",
    "from rdkit import Chem\n",
    "from rdkit.Chem import MACCSkeys\n",
    "import random\n",
    "import re\n",
    "import joblib"
   ]
  },
  {
   "cell_type": "code",
   "execution_count": 2,
   "metadata": {},
   "outputs": [],
   "source": [
    "clf = joblib.load(\"SVC.m\")"
   ]
  },
  {
   "attachments": {},
   "cell_type": "markdown",
   "metadata": {},
   "source": [
    "# 生成训练数据"
   ]
  },
  {
   "cell_type": "code",
   "execution_count": 3,
   "metadata": {},
   "outputs": [],
   "source": [
    "df_source = pd.read_csv('../data/n2.csv')\n",
    "posotive = []\n",
    "negtive = []\n",
    "for item in df_source.values:\n",
    "    smiles = item[3]\n",
    "    iupac = item[1]\n",
    "\n",
    "    mol=Chem.MolFromSmiles(smiles)\n",
    "    fp = MACCSkeys.GenMACCSKeys(mol)\n",
    "    fp_bits = fp.ToList()\n",
    "    label = clf.predict(np.array(fp_bits).reshape(1,-1)).item()\n",
    "\n",
    "    word_list = re.split(\"[\\s\\[\\],\\(\\)-.;]\",iupac)\n",
    "    # filtered_word_list = [item for item in word_list if len(item)>1 and item[0].isnumeric() is False]\n",
    "    filtered_word_list = [item for item in word_list if len(item)>2 and item[0].isnumeric() is False]\n",
    "    if len(filtered_word_list) == 0:\n",
    "        continue\n",
    "\n",
    "    used_fg = []\n",
    "    for i in range(4):\n",
    "        fg = random.choice(filtered_word_list)\n",
    "\n",
    "        if fg in used_fg:\n",
    "            continue\n",
    "        \n",
    "        if label == 1:\n",
    "            desc = f\"The molecule contains {fg}. It can bind to KPCD3.\"\n",
    "            posotive.append([0,0,desc,smiles])\n",
    "        elif label == 0:\n",
    "            desc = f\"The molecule contains {fg}. It can not bind to KPCD3.\"\n",
    "            negtive.append([0,0,desc,smiles])\n",
    "\n",
    "        used_fg.append(fg)"
   ]
  },
  {
   "cell_type": "code",
   "execution_count": 4,
   "metadata": {},
   "outputs": [
    {
     "name": "stdout",
     "output_type": "stream",
     "text": [
      "1415974\n",
      "38974\n"
     ]
    }
   ],
   "source": [
    "print(len(posotive))\n",
    "print(len(negtive))"
   ]
  },
  {
   "cell_type": "code",
   "execution_count": 5,
   "metadata": {},
   "outputs": [
    {
     "data": {
      "text/plain": [
       "5000"
      ]
     },
     "execution_count": 5,
     "metadata": {},
     "output_type": "execute_result"
    }
   ],
   "source": [
    "outputs = posotive[:2500]\n",
    "outputs.extend(negtive[:2500])\n",
    "len(outputs)"
   ]
  },
  {
   "cell_type": "code",
   "execution_count": 6,
   "metadata": {},
   "outputs": [
    {
     "name": "stdout",
     "output_type": "stream",
     "text": [
      "Saved.\n"
     ]
    }
   ],
   "source": [
    "outputs = pd.DataFrame(data=outputs, columns=['cid', 'iupac', 'desc', 'smiles'])\n",
    "outputs.to_csv(f'../data/KPCD3.csv', index=False)\n",
    "print('Saved.')"
   ]
  },
  {
   "attachments": {},
   "cell_type": "markdown",
   "metadata": {},
   "source": [
    "# 生成测试数据"
   ]
  },
  {
   "cell_type": "code",
   "execution_count": 7,
   "metadata": {},
   "outputs": [
    {
     "name": "stdout",
     "output_type": "stream",
     "text": [
      "Saved.\n"
     ]
    }
   ],
   "source": [
    "df_source = pd.read_csv('../data/n1.csv')\n",
    "outputs = []\n",
    "used_fg = []\n",
    "for item in df_source.values:\n",
    "    iupac = item[1]\n",
    "\n",
    "    word_list = re.split(\"[\\s\\[\\],\\(\\)-.;]\",iupac)\n",
    "    filtered_word_list = [item for item in word_list if len(item)>3 and item[0].isnumeric() is False]\n",
    "\n",
    "    for i in range(4):\n",
    "        fg = random.choice(filtered_word_list)\n",
    "\n",
    "        if fg in used_fg:\n",
    "            continue\n",
    "\n",
    "        desc = f\"The molecule contains {fg}. It can bind to KPCD3.\"\n",
    "        desc2 = f\"The molecule contains {fg}. It can not bind to KPCD3.\"\n",
    "        used_fg.append(fg)\n",
    "\n",
    "        outputs.append([0,0,desc,0])\n",
    "        outputs.append([0,0,desc2,0])\n",
    "\n",
    "    if len(outputs) > 1000:\n",
    "        break\n",
    "\n",
    "outputs = pd.DataFrame(data=outputs, columns=['cid', 'iupac', 'desc', 'smiles'])\n",
    "outputs.to_csv(f'../data/eval_KPCD3.csv', index=False)\n",
    "print('Saved.')"
   ]
  }
 ],
 "metadata": {
  "kernelspec": {
   "display_name": "base",
   "language": "python",
   "name": "python3"
  },
  "language_info": {
   "codemirror_mode": {
    "name": "ipython",
    "version": 3
   },
   "file_extension": ".py",
   "mimetype": "text/x-python",
   "name": "python",
   "nbconvert_exporter": "python",
   "pygments_lexer": "ipython3",
   "version": "3.9.7"
  },
  "orig_nbformat": 4
 },
 "nbformat": 4,
 "nbformat_minor": 2
}
