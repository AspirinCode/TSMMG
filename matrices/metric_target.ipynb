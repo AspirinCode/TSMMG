{
 "cells": [
  {
   "cell_type": "code",
   "execution_count": 1,
   "metadata": {},
   "outputs": [
    {
     "name": "stderr",
     "output_type": "stream",
     "text": [
      "/home/zhoup/anaconda3/envs/drd2/lib/python3.6/site-packages/tqdm/auto.py:22: TqdmWarning: IProgress not found. Please update jupyter and ipywidgets. See https://ipywidgets.readthedocs.io/en/stable/user_install.html\n",
      "  from .autonotebook import tqdm as notebook_tqdm\n"
     ]
    }
   ],
   "source": [
    "from matrices import matrix\n",
    "import matplotlib.pyplot as plt\n",
    "import pandas as pd\n",
    "import torch\n",
    "import numpy as np"
   ]
  },
  {
   "cell_type": "markdown",
   "metadata": {},
   "source": [
    "# DRD2"
   ]
  },
  {
   "cell_type": "code",
   "execution_count": null,
   "metadata": {},
   "outputs": [],
   "source": [
    "fname = './outputs/drd2_0_100.csv'\n",
    "\n",
    "task = 'target'          #normal/admet/target\n",
    "\n",
    "# task_list = ['IsValid','QED','LogP','SAs','BBB']\n",
    "task_list = ['IsValid','DRD2']\n",
    "target_list = ['Valid','CAN']\n",
    "valid_ratio, unique_ratio, novel_ratio, success_ratio = matrix(fname, task, task_list, target_list)"
   ]
  },
  {
   "cell_type": "code",
   "execution_count": 47,
   "metadata": {},
   "outputs": [
    {
     "name": "stdout",
     "output_type": "stream",
     "text": [
      "Valid: 0.9966\n",
      "Unique: 0.8694\n",
      "Novelty: 0.664\n",
      "SR: 0.841\n"
     ]
    }
   ],
   "source": [
    "print(f\"Valid: {valid_ratio}\")\n",
    "print(f\"Unique: {unique_ratio}\")\n",
    "print(f\"Novelty: {novel_ratio}\")\n",
    "print(f\"SR: {success_ratio}\")"
   ]
  },
  {
   "cell_type": "code",
   "execution_count": 64,
   "metadata": {},
   "outputs": [
    {
     "name": "stderr",
     "output_type": "stream",
     "text": [
      "RDKit ERROR: [09:41:18] SMILES Parse Error: unclosed ring for input: 'COc1ccccc1N1CCN(CCCCC(=O)c2cc3c4c(c2)C(C)(O)CC(=O)N4)CC1'\n",
      "RDKit ERROR: [09:41:18] SMILES Parse Error: extra close parentheses while parsing: C1=CC2=CC(CCCN3CCN(c4ccccc4)CC3)c3cccc4c3N2C=CC4)C=C1\n",
      "RDKit ERROR: [09:41:18] SMILES Parse Error: Failed parsing SMILES 'C1=CC2=CC(CCCN3CCN(c4ccccc4)CC3)c3cccc4c3N2C=CC4)C=C1' for input: 'C1=CC2=CC(CCCN3CCN(c4ccccc4)CC3)c3cccc4c3N2C=CC4)C=C1'\n",
      "RDKit ERROR: [09:41:18] SMILES Parse Error: unclosed ring for input: 'NCCN1CCN(c2ccc3c4c2Sc2ccccc2C4=O)CC1'\n",
      "RDKit ERROR: [09:41:18] Can't kekulize mol.  Unkekulized atoms: 2 4 5 6 7 8 9\n",
      "RDKit ERROR: \n",
      "RDKit ERROR: [09:41:18] Can't kekulize mol.  Unkekulized atoms: 1 2 24 25 27\n",
      "RDKit ERROR: \n",
      "RDKit ERROR: [09:41:18] SMILES Parse Error: extra close parentheses while parsing: CN1CCc2c3c(cc4nc(-c5ccccc5)nn24)C3)C1\n",
      "RDKit ERROR: [09:41:18] SMILES Parse Error: Failed parsing SMILES 'CN1CCc2c3c(cc4nc(-c5ccccc5)nn24)C3)C1' for input: 'CN1CCc2c3c(cc4nc(-c5ccccc5)nn24)C3)C1'\n",
      "RDKit ERROR: [09:41:18] SMILES Parse Error: unclosed ring for input: 'c1ccc(N2CCN(CCC3OCCc4c3cc3c5c4CCN5)CC2)cc1'\n",
      "RDKit ERROR: [09:41:18] SMILES Parse Error: unclosed ring for input: 'COc1ccccc1N1CCN(CCCCn2ccc3c4c(c5ccccc53)C(=O)NC4=O)CC1'\n"
     ]
    }
   ],
   "source": [
    "fname = './outputs/drd2_qed_0_10.csv'\n",
    "task = 'target'          #normal/admet/target\n",
    "\n",
    "# task_list = ['IsValid','QED','LogP','SAs','BBB']\n",
    "task_list = ['IsValid','DRD2','QED']\n",
    "target_list = ['Valid','CAN','HIGH']\n",
    "valid_ratio, unique_ratio, novel_ratio, success_ratio = matrix(fname, task, task_list, target_list)"
   ]
  },
  {
   "cell_type": "code",
   "execution_count": 65,
   "metadata": {},
   "outputs": [
    {
     "name": "stdout",
     "output_type": "stream",
     "text": [
      "Valid: 0.9984\n",
      "Unique: 0.7424\n",
      "Novelty: 0.5186\n",
      "SR: 0.7314\n"
     ]
    }
   ],
   "source": [
    "print(f\"Valid: {valid_ratio}\")\n",
    "print(f\"Unique: {unique_ratio}\")\n",
    "print(f\"Novelty: {novel_ratio}\")\n",
    "print(f\"SR: {success_ratio}\")"
   ]
  },
  {
   "cell_type": "code",
   "execution_count": 58,
   "metadata": {},
   "outputs": [
    {
     "name": "stderr",
     "output_type": "stream",
     "text": [
      "RDKit ERROR: [05:04:12] SMILES Parse Error: extra open parentheses for input: 'O=C1CCc2ccc(OCCCCN3CCC(C4=CC5=C(CCCC5=Cc5ccccc5C4)C3)nc2N1'\n",
      "RDKit ERROR: [05:04:12] SMILES Parse Error: unclosed ring for input: 'COc1cc2c3c(c1O)-c1cccc4c1C(C2)N(C)CC4'\n",
      "RDKit ERROR: [05:04:12] SMILES Parse Error: unclosed ring for input: 'c1ccc2c(c1)C1c3cc4c(cc3CCN(CCOCCN3CCCCCC3)C2)OCO4'\n",
      "RDKit ERROR: [05:04:12] SMILES Parse Error: unclosed ring for input: 'O=c1ccc2c(N3CCN(CCc4cccc5c4OCC4C5CCC4C4(CCCCC4)N5)CC3)cccc2o1'\n",
      "RDKit ERROR: [05:04:12] Can't kekulize mol.  Unkekulized atoms: 6 7 8 9 10 11 14 15 26\n",
      "RDKit ERROR: \n",
      "RDKit ERROR: [05:04:12] SMILES Parse Error: extra close parentheses while parsing: O=C(CCCN1CCN(c2cccc(Cl)c2Cl)CC1)NC1=CC2=CNC3=C(C2)C(=Cc2ccc[nH]2)NC=C3)C1\n",
      "RDKit ERROR: [05:04:12] SMILES Parse Error: Failed parsing SMILES 'O=C(CCCN1CCN(c2cccc(Cl)c2Cl)CC1)NC1=CC2=CNC3=C(C2)C(=Cc2ccc[nH]2)NC=C3)C1' for input: 'O=C(CCCN1CCN(c2cccc(Cl)c2Cl)CC1)NC1=CC2=CNC3=C(C2)C(=Cc2ccc[nH]2)NC=C3)C1'\n",
      "RDKit ERROR: [05:04:12] SMILES Parse Error: unclosed ring for input: 'c1cc2c3c(c1)c1c(n3CCc3ccsc3)CCNC1'\n",
      "RDKit ERROR: [05:04:12] SMILES Parse Error: unclosed ring for input: 'COc1cc2c(cc1O)C1Cc3sc(CC4(CCCCC4)CNC4=O)cc3CN1CC2'\n"
     ]
    }
   ],
   "source": [
    "fname = './outputs/drd2_qed_sa_0_10.csv'\n",
    "task = 'target'          #normal/admet/target\n",
    "\n",
    "task_list = ['IsValid','DRD2','QED','SAs']\n",
    "target_list = ['Valid','CAN','HIGH','HIGH']\n",
    "\n",
    "valid_ratio, unique_ratio, novel_ratio, success_ratio = matrix(fname, task, task_list, target_list)"
   ]
  },
  {
   "cell_type": "code",
   "execution_count": 59,
   "metadata": {},
   "outputs": [
    {
     "name": "stdout",
     "output_type": "stream",
     "text": [
      "Valid: 0.9984\n",
      "Unique: 0.7464\n",
      "Novelty: 0.5234\n",
      "SR: 0.731\n"
     ]
    }
   ],
   "source": [
    "print(f\"Valid: {valid_ratio}\")\n",
    "print(f\"Unique: {unique_ratio}\")\n",
    "print(f\"Novelty: {novel_ratio}\")\n",
    "print(f\"SR: {success_ratio}\")"
   ]
  },
  {
   "cell_type": "markdown",
   "metadata": {},
   "source": [
    "# GSK3"
   ]
  },
  {
   "cell_type": "code",
   "execution_count": 2,
   "metadata": {},
   "outputs": [
    {
     "name": "stderr",
     "output_type": "stream",
     "text": [
      "RDKit ERROR: [16:12:40] SMILES Parse Error: unclosed ring for input: 'Nc1cc(-c2c[nH]c3ncccc23)cc(NCC2CN2CCCO2)n1'\n",
      "RDKit ERROR: [16:12:40] Explicit valence for atom # 30 O, 3, is greater than permitted\n",
      "RDKit ERROR: [16:12:40] Can't kekulize mol.  Unkekulized atoms: 2 10 20\n",
      "RDKit ERROR: \n",
      "RDKit ERROR: [16:12:40] Can't kekulize mol.  Unkekulized atoms: 2 3 4 5 6 7 17 18 19\n",
      "RDKit ERROR: \n",
      "RDKit ERROR: [16:12:40] Can't kekulize mol.  Unkekulized atoms: 3 4 5 6 7 13 14\n",
      "RDKit ERROR: \n",
      "RDKit ERROR: [16:12:40] Can't kekulize mol.  Unkekulized atoms: 2 12 13 17 18 19 20 21 22\n",
      "RDKit ERROR: \n",
      "RDKit ERROR: [16:12:40] Can't kekulize mol.  Unkekulized atoms: 7 8 14 15 16 17 18 36 37\n",
      "RDKit ERROR: \n",
      "RDKit ERROR: [16:12:40] SMILES Parse Error: unclosed ring for input: 'CN1CCN(C2CCN(C(=O)c3ccc(Nc4ncc5c(n4)C4=CN=C(Cl)C=C(c4c(F)cccc4F)C4CC4(F)C5)cc3)CC2)CC1'\n",
      "RDKit ERROR: [16:12:40] SMILES Parse Error: unclosed ring for input: 'Nc1cccc(-c2ccc3c(c2)NC(=O)c2cc4cccnc4n2-c2ccc(N3CCOCC3)cc2OCCF)c1'\n",
      "RDKit ERROR: [16:12:40] SMILES Parse Error: unclosed ring for input: 'O=C1NC(=O)C(c2cc3ccc2OC2CC2)=C1c1c[nH]c2ccccc12'\n",
      "RDKit ERROR: [16:12:40] Can't kekulize mol.  Unkekulized atoms: 3 4 5 21 22 23 24\n",
      "RDKit ERROR: \n",
      "RDKit ERROR: [16:12:40] SMILES Parse Error: unclosed ring for input: 'Nc1ncnc2c1c(I)nn2C1CCC2CC1'\n",
      "RDKit ERROR: [16:12:40] Can't kekulize mol.  Unkekulized atoms: 12 13 14 16 17\n",
      "RDKit ERROR: \n",
      "RDKit ERROR: [16:12:40] Can't kekulize mol.  Unkekulized atoms: 5 6 7 8 9 10 11 12 13 14 15 16 17\n",
      "RDKit ERROR: \n",
      "RDKit ERROR: [16:12:40] SMILES Parse Error: unclosed ring for input: 'CCc1n[nH]c(C)c1Nc1ncc(C(N)=O)c(NC2C3CC3CC2CC3)n1'\n",
      "RDKit ERROR: [16:12:40] Can't kekulize mol.  Unkekulized atoms: 7 8 9\n",
      "RDKit ERROR: \n",
      "RDKit ERROR: [16:12:41] Can't kekulize mol.  Unkekulized atoms: 6 7 8 9 11 12 13 14 15 16 17\n",
      "RDKit ERROR: \n",
      "RDKit ERROR: [16:12:41] Can't kekulize mol.  Unkekulized atoms: 18 19 20 21 22 23 25 26 27\n",
      "RDKit ERROR: \n",
      "RDKit ERROR: [16:12:41] SMILES Parse Error: unclosed ring for input: 'CCN1CCN(Cc2ccc(C(=O)Nc3n[nH]c4c3CN(c3ncnc5[nH]ccc45)CC5)c(F)c2)CC1'\n",
      "RDKit ERROR: [16:12:41] Can't kekulize mol.  Unkekulized atoms: 2 3 4 5 6 7 21\n",
      "RDKit ERROR: \n",
      "RDKit ERROR: [16:12:41] Can't kekulize mol.  Unkekulized atoms: 12 13 14 15 39\n",
      "RDKit ERROR: \n",
      "RDKit ERROR: [16:12:41] Can't kekulize mol.  Unkekulized atoms: 9 10 11 12 13 14 16 17 21\n",
      "RDKit ERROR: \n",
      "RDKit ERROR: [16:12:41] Explicit valence for atom # 5 C, 5, is greater than permitted\n",
      "RDKit ERROR: [16:12:41] SMILES Parse Error: ring closure 2 duplicates bond between atom 15 and atom 17 for input: 'COc1cc(Nc2ncc3c(n2)CN(C)C2(C3)O2)ccc1-n1cnc(C)c1'\n",
      "RDKit ERROR: [16:12:41] SMILES Parse Error: ring closure 1 duplicates bond between atom 14 and atom 15 for input: 'O=C1NC(=O)c2c1c1c(O)ccc3c1c1c1c(c4c2OCCC42)OCCC1CO3'\n",
      "/home/zhoup/anaconda3/envs/drd2/lib/python3.6/site-packages/sklearn/utils/deprecation.py:143: FutureWarning: The sklearn.ensemble.forest module is  deprecated in version 0.22 and will be removed in version 0.24. The corresponding classes / functions should instead be imported from sklearn.ensemble. Anything that cannot be imported from sklearn.ensemble is now part of the private API.\n",
      "  warnings.warn(message, FutureWarning)\n",
      "/home/zhoup/anaconda3/envs/drd2/lib/python3.6/site-packages/sklearn/utils/deprecation.py:143: FutureWarning: The sklearn.tree.tree module is  deprecated in version 0.22 and will be removed in version 0.24. The corresponding classes / functions should instead be imported from sklearn.tree. Anything that cannot be imported from sklearn.tree is now part of the private API.\n",
      "  warnings.warn(message, FutureWarning)\n",
      "/home/zhoup/anaconda3/envs/drd2/lib/python3.6/site-packages/sklearn/base.py:334: UserWarning: Trying to unpickle estimator DecisionTreeClassifier from version 0.21.3 when using version 0.23.1. This might lead to breaking code or invalid results. Use at your own risk.\n",
      "  UserWarning)\n",
      "/home/zhoup/anaconda3/envs/drd2/lib/python3.6/site-packages/sklearn/base.py:334: UserWarning: Trying to unpickle estimator RandomForestClassifier from version 0.21.3 when using version 0.23.1. This might lead to breaking code or invalid results. Use at your own risk.\n",
      "  UserWarning)\n"
     ]
    }
   ],
   "source": [
    "fname = './outputs/gsk3_0_10.csv'\n",
    "task = 'target'          #normal/admet/target\n",
    "\n",
    "task_list = ['IsValid','GSK3']\n",
    "target_list = ['Valid','CAN']\n",
    "\n",
    "valid_ratio, unique_ratio, novel_ratio, success_ratio = matrix(fname, task, task_list, target_list)"
   ]
  },
  {
   "cell_type": "code",
   "execution_count": 3,
   "metadata": {},
   "outputs": [
    {
     "name": "stdout",
     "output_type": "stream",
     "text": [
      "Valid: 0.995\n",
      "Unique: 0.9861\n",
      "Novelty: 0.9374\n",
      "SR: 0.7692\n"
     ]
    }
   ],
   "source": [
    "print(f\"Valid: {valid_ratio}\")\n",
    "print(f\"Unique: {unique_ratio}\")\n",
    "print(f\"Novelty: {novel_ratio}\")\n",
    "print(f\"SR: {success_ratio}\")"
   ]
  },
  {
   "cell_type": "code",
   "execution_count": 6,
   "metadata": {},
   "outputs": [
    {
     "name": "stderr",
     "output_type": "stream",
     "text": [
      "RDKit ERROR: [16:19:46] Can't kekulize mol.  Unkekulized atoms: 2 3 10 11 12 16 17\n",
      "RDKit ERROR: \n",
      "RDKit ERROR: [16:19:46] Can't kekulize mol.  Unkekulized atoms: 0 1 2 10 18\n",
      "RDKit ERROR: \n",
      "RDKit ERROR: [16:19:46] Can't kekulize mol.  Unkekulized atoms: 1 2 3 4 5 17 18 19 27\n",
      "RDKit ERROR: \n",
      "RDKit ERROR: [16:19:46] SMILES Parse Error: unclosed ring for input: 'CC1(CNc2nccc(-c3c[nH]c4c3=CCCCC=3=CCC4)n2)CCOCC1'\n",
      "RDKit ERROR: [16:19:47] Can't kekulize mol.  Unkekulized atoms: 8 9 10 12 13 14 15 16 17 18 19 20 21 22 23\n",
      "RDKit ERROR: \n",
      "RDKit ERROR: [16:19:47] Can't kekulize mol.  Unkekulized atoms: 2 3 4 5 7 8 9\n",
      "RDKit ERROR: \n",
      "RDKit ERROR: [16:19:47] Can't kekulize mol.  Unkekulized atoms: 9 10 17 25 29\n",
      "RDKit ERROR: \n",
      "RDKit ERROR: [16:19:47] SMILES Parse Error: extra open parentheses for input: 'COc1cccc(C2(C3=C(c4ccncn4)NC4(C5=C(C6=C5CN(C(=O)OC(C)(C)C)C6)C=CC=CC4=N3)CC2)c1'\n",
      "RDKit ERROR: [16:19:47] Can't kekulize mol.  Unkekulized atoms: 1 2 3 4 5 6 7 8 9 10 11\n",
      "RDKit ERROR: \n",
      "RDKit ERROR: [16:19:47] SMILES Parse Error: extra open parentheses for input: 'COc1ccc(Nc2nccc(C3=C(C4=NC=CC4C)NC4=C(C5=C(C=CC=CC5)CN=CC4=C3)n2)cn1'\n",
      "RDKit ERROR: [16:19:47] SMILES Parse Error: unclosed ring for input: 'Nc1ncnc2c1c(Br)cn2C1C(O)C(CO)OC12CCN(CC1CC2)CC2'\n",
      "RDKit ERROR: [16:19:47] SMILES Parse Error: unclosed ring for input: 'c1cc2c3c[nH]c4cccc(c4c3c1)CNC4=C1CCCCN1C2'\n",
      "RDKit ERROR: [16:19:47] SMILES Parse Error: ring closure 3 duplicates bond between atom 24 and atom 25 for input: 'CN(c1ncnc2[nH]ccc12)C1CC2CN(Cc3nc3ccccc3[nH]3)CC2C1'\n",
      "RDKit ERROR: [16:19:47] SMILES Parse Error: unclosed ring for input: 'COC1C(N(C)C(=O)OCc2ccccc2)CC2OC1(C)n1nc(-c3ccc(F)cc3)c3c(N)ncnc31'\n",
      "RDKit ERROR: [16:19:47] Can't kekulize mol.  Unkekulized atoms: 2 3 4 5 7 15 16\n",
      "RDKit ERROR: \n",
      "/home/zhoup/anaconda3/envs/drd2/lib/python3.6/site-packages/sklearn/base.py:334: UserWarning: Trying to unpickle estimator DecisionTreeClassifier from version 0.21.3 when using version 0.23.1. This might lead to breaking code or invalid results. Use at your own risk.\n",
      "  UserWarning)\n",
      "/home/zhoup/anaconda3/envs/drd2/lib/python3.6/site-packages/sklearn/base.py:334: UserWarning: Trying to unpickle estimator RandomForestClassifier from version 0.21.3 when using version 0.23.1. This might lead to breaking code or invalid results. Use at your own risk.\n",
      "  UserWarning)\n"
     ]
    }
   ],
   "source": [
    "fname = './outputs/gsk3_qed_0_10.csv'\n",
    "task = 'target'          #normal/admet/target\n",
    "\n",
    "task_list = ['IsValid','GSK3','QED']\n",
    "target_list = ['Valid','CAN','HIGH']\n",
    "\n",
    "valid_ratio, unique_ratio, novel_ratio, success_ratio = matrix(fname, task, task_list, target_list)"
   ]
  },
  {
   "cell_type": "code",
   "execution_count": 7,
   "metadata": {},
   "outputs": [
    {
     "name": "stdout",
     "output_type": "stream",
     "text": [
      "Valid: 0.997\n",
      "Unique: 0.9783\n",
      "Novelty: 0.9336\n",
      "SR: 0.5032\n"
     ]
    }
   ],
   "source": [
    "print(f\"Valid: {valid_ratio}\")\n",
    "print(f\"Unique: {unique_ratio}\")\n",
    "print(f\"Novelty: {novel_ratio}\")\n",
    "print(f\"SR: {success_ratio}\")"
   ]
  },
  {
   "cell_type": "code",
   "execution_count": 8,
   "metadata": {},
   "outputs": [
    {
     "name": "stderr",
     "output_type": "stream",
     "text": [
      "RDKit ERROR: [16:22:23] Can't kekulize mol.  Unkekulized atoms: 0 1 2 10 18\n",
      "RDKit ERROR: \n",
      "RDKit ERROR: [16:22:23] SMILES Parse Error: unclosed ring for input: 'CN1CCCN(c2cccc(Nc3ncc4c(n3)N=C3N=CCC3C(=O)N3CCCC3)c2)CC1'\n",
      "RDKit ERROR: [16:22:23] Can't kekulize mol.  Unkekulized atoms: 1 2 11 17 18 19 20\n",
      "RDKit ERROR: \n",
      "RDKit ERROR: [16:22:23] Can't kekulize mol.  Unkekulized atoms: 4 5 6 14 15\n",
      "RDKit ERROR: \n",
      "RDKit ERROR: [16:22:23] Can't kekulize mol.  Unkekulized atoms: 0 1 2 10 21\n",
      "RDKit ERROR: \n",
      "RDKit ERROR: [16:22:23] Can't kekulize mol.  Unkekulized atoms: 1 2 12 13 24\n",
      "RDKit ERROR: \n",
      "RDKit ERROR: [16:22:23] SMILES Parse Error: unclosed ring for input: 'COc1ccc2c(c1)N(CCCN(C)C)c1ccccc1C(C2=CCN(C)C)=C2'\n",
      "RDKit ERROR: [16:22:23] Can't kekulize mol.  Unkekulized atoms: 1 2 3 4 5 13 15\n",
      "RDKit ERROR: \n",
      "RDKit ERROR: [16:22:23] SMILES Parse Error: unclosed ring for input: 'O=C1NC(=O)c2c1c1c(c3ccccc13)OCO1'\n",
      "RDKit ERROR: [16:22:23] SMILES Parse Error: unclosed ring for input: 'C#Cc1cccc(Nc2ncnc3ccc(OCCCN4CCC5C4)cc23)c1'\n",
      "RDKit ERROR: [16:22:23] Can't kekulize mol.  Unkekulized atoms: 2 3 4 6 7 15 16\n",
      "RDKit ERROR: \n",
      "/home/zhoup/anaconda3/envs/drd2/lib/python3.6/site-packages/sklearn/base.py:334: UserWarning: Trying to unpickle estimator DecisionTreeClassifier from version 0.21.3 when using version 0.23.1. This might lead to breaking code or invalid results. Use at your own risk.\n",
      "  UserWarning)\n",
      "/home/zhoup/anaconda3/envs/drd2/lib/python3.6/site-packages/sklearn/base.py:334: UserWarning: Trying to unpickle estimator RandomForestClassifier from version 0.21.3 when using version 0.23.1. This might lead to breaking code or invalid results. Use at your own risk.\n",
      "  UserWarning)\n"
     ]
    }
   ],
   "source": [
    "fname = './outputs/gsk3_qed_sa_0_10.csv'\n",
    "task = 'target'          #normal/admet/target\n",
    "\n",
    "task_list = ['IsValid','GSK3','QED','SAs']\n",
    "target_list = ['Valid','CAN','HIGH','HIGH']\n",
    "\n",
    "valid_ratio, unique_ratio, novel_ratio, success_ratio = matrix(fname, task, task_list, target_list)"
   ]
  },
  {
   "cell_type": "code",
   "execution_count": 9,
   "metadata": {},
   "outputs": [
    {
     "name": "stdout",
     "output_type": "stream",
     "text": [
      "Valid: 0.9978\n",
      "Unique: 0.9767\n",
      "Novelty: 0.9334\n",
      "SR: 0.5056\n"
     ]
    }
   ],
   "source": [
    "print(f\"Valid: {valid_ratio}\")\n",
    "print(f\"Unique: {unique_ratio}\")\n",
    "print(f\"Novelty: {novel_ratio}\")\n",
    "print(f\"SR: {success_ratio}\")"
   ]
  }
 ],
 "metadata": {
  "kernelspec": {
   "display_name": "drd2",
   "language": "python",
   "name": "python3"
  },
  "language_info": {
   "codemirror_mode": {
    "name": "ipython",
    "version": 3
   },
   "file_extension": ".py",
   "mimetype": "text/x-python",
   "name": "python",
   "nbconvert_exporter": "python",
   "pygments_lexer": "ipython3",
   "version": "3.6.15"
  },
  "orig_nbformat": 4
 },
 "nbformat": 4,
 "nbformat_minor": 2
}
