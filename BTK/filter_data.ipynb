{
 "cells": [
  {
   "cell_type": "code",
   "execution_count": 13,
   "metadata": {},
   "outputs": [],
   "source": [
    "from rdkit import Chem\n",
    "from rdkit.Chem import QED\n",
    "import pandas as pd\n",
    "from tqdm import tqdm\n",
    "import time\n",
    "from rdkit.Chem import RDConfig\n",
    "import os\n",
    "import sys\n",
    "sys.path.append(os.path.join(RDConfig.RDContribDir, 'SA_Score'))\n",
    "# now you can import sascore!\n",
    "import sascorer\n",
    "import numpy as np\n",
    "from rdkit.Chem import MACCSkeys"
   ]
  },
  {
   "cell_type": "code",
   "execution_count": 14,
   "metadata": {},
   "outputs": [],
   "source": [
    "# fname = './eval_gtp2_20002_BTK_150.log'\n",
    "fname = './eval_gtp2_1316_BTK_150.log'\n",
    "f =  open(fname,'r')\n",
    "lines = f.readlines()\n",
    "\n",
    "predicts = []\n",
    "truth = []\n",
    "for line in lines:\n",
    "    if 'startofsmiles' in line:\n",
    "        # tmp = line.split('>')[1].strip()\n",
    "        tmp = line.split('<|startofsmiles|>')\n",
    "        # predicts.append(tmp[1].split(' ')[0].strip())\n",
    "        predicts.append(tmp[-1].strip())\n",
    "\n",
    "        # break\n",
    "    elif 'Reference' in line:\n",
    "        tmp = line.split('Reference smiles: ')[1].strip()\n",
    "        truth.append(tmp)\n",
    "    else:\n",
    "        pass\n",
    "\n",
    "nums = len(predicts)"
   ]
  },
  {
   "cell_type": "code",
   "execution_count": 15,
   "metadata": {},
   "outputs": [],
   "source": [
    "import joblib\n",
    "clf = joblib.load(\"SVC.m\")"
   ]
  },
  {
   "cell_type": "code",
   "execution_count": 16,
   "metadata": {},
   "outputs": [],
   "source": [
    "fname = f'../data/train/BTK.csv'\n",
    "df_train = pd.read_csv(fname)\n",
    "smiles_train_list = df_train['smiles'].values"
   ]
  },
  {
   "cell_type": "code",
   "execution_count": null,
   "metadata": {},
   "outputs": [],
   "source": [
    "positive = []\n",
    "negtive = []\n",
    "for i in range(nums):\n",
    "    smile = predicts[i]\n",
    "    if smile in smiles_train_list:\n",
    "        continue\n",
    "    try:\n",
    "        mol=Chem.MolFromSmiles(smile)\n",
    "    except Exception as e:\n",
    "        continue\n",
    "\n",
    "    if mol is None:\n",
    "        continue\n",
    "\n",
    "    fp = MACCSkeys.GenMACCSKeys(mol)\n",
    "    fp_bits = fp.ToList()\n",
    "    label = clf.predict(np.array(fp_bits).reshape(1,-1)).item()\n",
    "    if label == 1:\n",
    "        positive.append(smile)\n",
    "    elif label == 0:\n",
    "        negtive.append(smile)"
   ]
  },
  {
   "cell_type": "code",
   "execution_count": 18,
   "metadata": {},
   "outputs": [
    {
     "name": "stdout",
     "output_type": "stream",
     "text": [
      "1010\n",
      "901\n"
     ]
    }
   ],
   "source": [
    "print(len(positive))\n",
    "print(len(negtive))"
   ]
  },
  {
   "cell_type": "code",
   "execution_count": 19,
   "metadata": {},
   "outputs": [
    {
     "name": "stdout",
     "output_type": "stream",
     "text": [
      "Saved.\n"
     ]
    }
   ],
   "source": [
    "output_positive = []\n",
    "for smile in positive:\n",
    "    output_positive.append([smile, 1])\n",
    "\n",
    "output_negtive = []\n",
    "for smile in negtive:\n",
    "    output_negtive.append([smile, 0])\n",
    "\n",
    "output_positive = pd.DataFrame(data=output_positive, columns=['smiles', 'label'])\n",
    "output_positive.to_csv(f'./data/positive.csv', index=False)\n",
    "\n",
    "output_negtive = pd.DataFrame(data=output_negtive, columns=['smiles', 'label'])\n",
    "output_negtive.to_csv(f'./data/negtive.csv', index=False)\n",
    "print('Saved.')"
   ]
  }
 ],
 "metadata": {
  "kernelspec": {
   "display_name": "base",
   "language": "python",
   "name": "python3"
  },
  "language_info": {
   "codemirror_mode": {
    "name": "ipython",
    "version": 3
   },
   "file_extension": ".py",
   "mimetype": "text/x-python",
   "name": "python",
   "nbconvert_exporter": "python",
   "pygments_lexer": "ipython3",
   "version": "3.9.7"
  },
  "orig_nbformat": 4
 },
 "nbformat": 4,
 "nbformat_minor": 2
}
