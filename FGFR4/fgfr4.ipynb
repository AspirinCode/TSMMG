{
 "cells": [
  {
   "cell_type": "code",
   "execution_count": 18,
   "metadata": {},
   "outputs": [],
   "source": [
    "from sklearn.svm import SVC\n",
    "from sklearn.pipeline import make_pipeline\n",
    "from sklearn.preprocessing import StandardScaler\n",
    "import numpy as np\n",
    "import pandas as pd\n",
    "from sklearn.model_selection import KFold,StratifiedKFold\n",
    "from rdkit import Chem\n",
    "from rdkit.Chem import MACCSkeys\n",
    "from sklearn.metrics import precision_score\n",
    "from sklearn.metrics import f1_score\n",
    "import random\n",
    "import re\n",
    "import torch\n",
    "import joblib"
   ]
  },
  {
   "cell_type": "code",
   "execution_count": 19,
   "metadata": {},
   "outputs": [],
   "source": [
    "fname = './data/processed/FGFR4_processed_ac.csv'\n",
    "df = pd.read_csv(fname)"
   ]
  },
  {
   "cell_type": "code",
   "execution_count": 20,
   "metadata": {},
   "outputs": [
    {
     "name": "stdout",
     "output_type": "stream",
     "text": [
      "59\n",
      "48\n"
     ]
    }
   ],
   "source": [
    "p_mask = df['label'] == 1\n",
    "n_mask = df['label'] == 0\n",
    "print(sum(p_mask))\n",
    "print(sum(n_mask))"
   ]
  },
  {
   "cell_type": "code",
   "execution_count": 21,
   "metadata": {},
   "outputs": [],
   "source": [
    "seed = 10\n",
    "random.seed(seed)\n",
    "np.random.seed(seed)\n",
    "df_mix = pd.concat([df[p_mask].sample(48),df[n_mask].sample(48)])\n",
    "# df_mix = pd.concat([df[p_mask],df[n_mask]])"
   ]
  },
  {
   "cell_type": "code",
   "execution_count": 22,
   "metadata": {},
   "outputs": [],
   "source": [
    "df_mix = df_mix.sample(frac=1)"
   ]
  },
  {
   "cell_type": "code",
   "execution_count": 23,
   "metadata": {},
   "outputs": [
    {
     "data": {
      "text/plain": [
       "48"
      ]
     },
     "execution_count": 23,
     "metadata": {},
     "output_type": "execute_result"
    }
   ],
   "source": [
    "smiles_list = df_mix['smiles'].values\n",
    "y = df_mix['label'].values\n",
    "sum(y==1)"
   ]
  },
  {
   "cell_type": "code",
   "execution_count": 24,
   "metadata": {},
   "outputs": [
    {
     "data": {
      "text/plain": [
       "(96, 167)"
      ]
     },
     "execution_count": 24,
     "metadata": {},
     "output_type": "execute_result"
    }
   ],
   "source": [
    "x = []\n",
    "for smiles in smiles_list:\n",
    "    mol=Chem.MolFromSmiles(smiles)\n",
    "    fp = MACCSkeys.GenMACCSKeys(mol)\n",
    "    # fp_bits = fp.ToBitString()\n",
    "    fp_bits = fp.ToList()\n",
    "    x.append(fp_bits)\n",
    "x = np.array(x)\n",
    "x.shape"
   ]
  },
  {
   "cell_type": "code",
   "execution_count": 25,
   "metadata": {},
   "outputs": [
    {
     "name": "stdout",
     "output_type": "stream",
     "text": [
      "f1: 0.46875; precision: 0.46875.\n",
      "f1: 0.5; precision: 0.5.\n",
      "f1: 0.625; precision: 0.625.\n",
      "=======> 116\n",
      "F1 mean: 0.53125, std: 0.08267972618341446.\n",
      "Precision mean: 0.53125, std: 0.08267972618341446.\n"
     ]
    }
   ],
   "source": [
    "for s in range(116,117):\n",
    "    sfolder = StratifiedKFold(n_splits=3,random_state=s,shuffle=True)\n",
    "    splits = list(sfolder.split(x,y))\n",
    "\n",
    "    f1_list = []\n",
    "    precision_list =  []\n",
    "    for train, test in sfolder.split(x,y):\n",
    "        regr = make_pipeline(SVC(probability = True))\n",
    "        regr.fit(x[train], y[train])\n",
    "        pred = regr.predict(x[test])\n",
    "        f1 = f1_score(y[test].reshape(-1,1), pred.reshape(-1,1), average='micro')\n",
    "        p_score = precision_score(y[test], pred, average='micro')\n",
    "        f1_list.append(f1)\n",
    "        precision_list.append(p_score)\n",
    "        print(f\"f1: {f1}; precision: {p_score}.\")\n",
    "\n",
    "    f1_ts = torch.Tensor(f1_list)\n",
    "    precision_ts = torch.Tensor(precision_list)\n",
    "\n",
    "    print(\"=======>\",s)\n",
    "    print(f\"F1 mean: {f1_ts.mean()}, std: {f1_ts.std()}.\")\n",
    "    print(f\"Precision mean: {precision_ts.mean()}, std: {precision_ts.std()}.\")\n"
   ]
  },
  {
   "cell_type": "code",
   "execution_count": null,
   "metadata": {},
   "outputs": [],
   "source": [
    "idx = 2\n",
    "train = splits[idx][0]\n",
    "test = splits[idx][1]\n",
    "\n",
    "regr = make_pipeline(SVC(probability = True))\n",
    "regr.fit(x[train], y[train])\n",
    "pred = regr.predict(x[test])\n",
    "f1 = f1_score(y[test].reshape(-1,1), pred.reshape(-1,1), average='micro')\n",
    "p_score = precision_score(y[test], pred, average='micro')\n",
    "f1_list.append(f1)\n",
    "precision_list.append(p_score)\n",
    "print(f\"f1: {f1}; precision: {p_score}.\")\n",
    "\n",
    "joblib.dump(regr, \"SVC.m\")"
   ]
  },
  {
   "attachments": {},
   "cell_type": "markdown",
   "metadata": {},
   "source": [
    "# 加入额外的数据"
   ]
  },
  {
   "cell_type": "code",
   "execution_count": 26,
   "metadata": {},
   "outputs": [],
   "source": [
    "df_positive = pd.read_csv('./data/positive.csv')\n",
    "smiles_positive = df_positive['smiles'].values\n",
    "y_positive = df_positive['label'].values\n",
    "\n",
    "df_negtive = pd.read_csv('./data/negtive.csv')\n",
    "smiles_negtive = df_negtive['smiles'].values\n",
    "y_negtive = df_negtive['label'].values"
   ]
  },
  {
   "cell_type": "code",
   "execution_count": 27,
   "metadata": {},
   "outputs": [
    {
     "name": "stdout",
     "output_type": "stream",
     "text": [
      "624\n",
      "600\n"
     ]
    }
   ],
   "source": [
    "x_positive = []\n",
    "y_positive = []\n",
    "################# 正样本\n",
    "for smiles in smiles_positive:\n",
    "    mol=Chem.MolFromSmiles(smiles)\n",
    "    fp = MACCSkeys.GenMACCSKeys(mol)\n",
    "    # fp_bits = fp.ToBitString()\n",
    "    fp_bits = fp.ToList()\n",
    "    x_positive.append(fp_bits)\n",
    "    y_positive.append(1)\n",
    "x_positive = np.array(x_positive)\n",
    "y_positive = np.array(y_positive)\n",
    "\n",
    "x_negtive = []\n",
    "y_negtive = []\n",
    "################# 负样本\n",
    "for smiles in smiles_negtive:\n",
    "    mol=Chem.MolFromSmiles(smiles)\n",
    "    fp = MACCSkeys.GenMACCSKeys(mol)\n",
    "    # fp_bits = fp.ToBitString()\n",
    "    fp_bits = fp.ToList()\n",
    "    x_negtive.append(fp_bits)\n",
    "    y_negtive.append(0)\n",
    "x_negtive = np.array(x_negtive)\n",
    "y_negtive = np.array(y_negtive)\n",
    "\n",
    "print(len(x_positive))\n",
    "print(len(x_negtive))"
   ]
  },
  {
   "cell_type": "code",
   "execution_count": 28,
   "metadata": {},
   "outputs": [],
   "source": [
    "idx_positive = [i for i in range(len(x_positive))]\n",
    "idx_negtive = [i for i in range(len(x_negtive))]"
   ]
  },
  {
   "cell_type": "code",
   "execution_count": null,
   "metadata": {},
   "outputs": [],
   "source": [
    "sample_list = [5,10,15,20,25,30,35,40,45,50]\n",
    "\n",
    "f1_score_mean = []\n",
    "f1_score_std = []\n",
    "for sample_num in sample_list:\n",
    "    random.seed(101)\n",
    "\n",
    "    idx_p = random.sample(idx_positive, sample_num)\n",
    "    idx_n = random.sample(idx_negtive, sample_num)\n",
    "\n",
    "    x_extra = np.concatenate([x_positive[idx_p],x_negtive[idx_n]])\n",
    "    y_extra = np.concatenate([y_positive[idx_p],y_negtive[idx_n]])\n",
    "\n",
    "    idx_s = [i for i in range(len(y_extra))]\n",
    "    random.shuffle(idx_s)\n",
    "    x_extra = x_extra[idx_s]\n",
    "    y_extra = y_extra[idx_s]\n",
    "\n",
    "    f1_list = []\n",
    "    precision_list =  []\n",
    "    for train, test in sfolder.split(x,y):\n",
    "        regr = make_pipeline(SVC(probability = True))\n",
    "        regr.fit(np.concatenate([x[train], x_extra]), np.concatenate([y[train], y_extra]))\n",
    "        pred = regr.predict(x[test])\n",
    "        f1 = f1_score(y[test].reshape(-1,1), pred.reshape(-1,1), average='micro')\n",
    "        p_score = precision_score(y[test], pred, average='micro')\n",
    "\n",
    "        f1_list.append(f1)\n",
    "        precision_list.append(p_score)\n",
    "        # print(f\"f1: {f1}; precision: {p_score}.\")\n",
    "\n",
    "    f1_ts = torch.Tensor(f1_list)\n",
    "    precision_ts = torch.Tensor(precision_list)\n",
    "\n",
    "    f1_score_mean.append(round(f1_ts.mean().item(),4))\n",
    "    f1_score_std.append(round(f1_ts.std().item(),4))\n",
    "\n",
    "f1_score_mean"
   ]
  },
  {
   "cell_type": "code",
   "execution_count": 29,
   "metadata": {},
   "outputs": [
    {
     "name": "stdout",
     "output_type": "stream",
     "text": [
      "[0.6212, 0.6953, 0.7056, 0.7163, 0.7234, 0.7325, 0.7444, 0.7472, 0.75, 0.7553, 0.7603, 0.7656, 0.7694, 0.77, 0.7759, 0.7803, 0.7759, 0.7841, 0.7897, 0.7925]\n",
      "[0.0595, 0.0548, 0.0503, 0.0498, 0.0452, 0.0467, 0.0429, 0.0433, 0.0421, 0.0407, 0.041, 0.0436, 0.0441, 0.0425, 0.0385, 0.0386, 0.0412, 0.0402, 0.0404, 0.0348]\n"
     ]
    }
   ],
   "source": [
    "sample_list = [10,20,30,40,50,60,70,80,90,100,110,120,130,140,150,160,170,180,190,200]\n",
    "\n",
    "f1_score_mean = []\n",
    "f1_score_std = []\n",
    "\n",
    "idx = 1\n",
    "train = splits[idx][0]\n",
    "test = splits[idx][1]\n",
    "\n",
    "for sample_num in sample_list:\n",
    "    f1_list = []\n",
    "    precision_list =  []\n",
    "    for seed in range(0,100):\n",
    "\n",
    "        random.seed(seed)\n",
    "\n",
    "        idx_p = random.sample(idx_positive, sample_num)\n",
    "        idx_n = random.sample(idx_negtive, sample_num)\n",
    "\n",
    "        x_extra = np.concatenate([x_positive[idx_p],x_negtive[idx_n]])\n",
    "        y_extra = np.concatenate([y_positive[idx_p],y_negtive[idx_n]])\n",
    "\n",
    "        idx_s = [i for i in range(len(y_extra))]\n",
    "        random.shuffle(idx_s)\n",
    "        x_extra = x_extra[idx_s]\n",
    "        y_extra = y_extra[idx_s]\n",
    "\n",
    "        regr = make_pipeline(SVC(probability = True))\n",
    "        regr.fit(np.concatenate([x[train], x_extra]), np.concatenate([y[train], y_extra]))\n",
    "        pred = regr.predict(x[test])\n",
    "        f1 = f1_score(y[test].reshape(-1,1), pred.reshape(-1,1), average='micro')\n",
    "        p_score = precision_score(y[test], pred, average='micro')\n",
    "\n",
    "        f1_list.append(f1)\n",
    "        precision_list.append(p_score)\n",
    "        # print(f\"f1: {f1}; precision: {p_score}.\")\n",
    "\n",
    "    f1_ts = torch.Tensor(f1_list)\n",
    "    precision_ts = torch.Tensor(precision_list)\n",
    "\n",
    "    f1_score_mean.append(round(f1_ts.mean().item(),4))\n",
    "    f1_score_std.append(round(f1_ts.std().item(),4))\n",
    "\n",
    "print(f1_score_mean)\n",
    "print(f1_score_std)"
   ]
  },
  {
   "cell_type": "code",
   "execution_count": 30,
   "metadata": {},
   "outputs": [],
   "source": [
    "outputs = []\n",
    "for i in range(len(sample_list)):\n",
    "    outputs.append([sample_list[i],f1_score_mean[i],f1_score_std])\n",
    "outputs = pd.DataFrame(data=outputs, columns=['sample', 'mean','std'])\n",
    "outputs.to_csv('../log/SD_FGFR4.csv', index=False)"
   ]
  }
 ],
 "metadata": {
  "kernelspec": {
   "display_name": "base",
   "language": "python",
   "name": "python3"
  },
  "language_info": {
   "codemirror_mode": {
    "name": "ipython",
    "version": 3
   },
   "file_extension": ".py",
   "mimetype": "text/x-python",
   "name": "python",
   "nbconvert_exporter": "python",
   "pygments_lexer": "ipython3",
   "version": "3.9.7"
  },
  "orig_nbformat": 4
 },
 "nbformat": 4,
 "nbformat_minor": 2
}
