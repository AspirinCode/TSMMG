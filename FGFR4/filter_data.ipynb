{
 "cells": [
  {
   "cell_type": "code",
   "execution_count": 85,
   "metadata": {},
   "outputs": [],
   "source": [
    "from rdkit import Chem\n",
    "from rdkit.Chem import QED\n",
    "import pandas as pd\n",
    "from tqdm import tqdm\n",
    "import time\n",
    "from rdkit.Chem import RDConfig\n",
    "import os\n",
    "import sys\n",
    "sys.path.append(os.path.join(RDConfig.RDContribDir, 'SA_Score'))\n",
    "# now you can import sascore!\n",
    "import sascorer\n",
    "import numpy as np\n",
    "from rdkit.Chem import MACCSkeys"
   ]
  },
  {
   "cell_type": "code",
   "execution_count": 86,
   "metadata": {},
   "outputs": [],
   "source": [
    "# fname = './eval_gtp2_20002_BTK_150.log'\n",
    "fname = './eval_gtp2_5000_FGFR4_150.log'\n",
    "f =  open(fname,'r')\n",
    "lines = f.readlines()\n",
    "\n",
    "predicts = []\n",
    "truth = []\n",
    "for line in lines:\n",
    "    if 'startofsmiles' in line:\n",
    "        # tmp = line.split('>')[1].strip()\n",
    "        tmp = line.split('<|startofsmiles|>')\n",
    "        # predicts.append(tmp[1].split(' ')[0].strip())\n",
    "        predicts.append(tmp[-1].strip())\n",
    "\n",
    "        # break\n",
    "    elif 'Reference' in line:\n",
    "        tmp = line.split('Reference smiles: ')[1].strip()\n",
    "        truth.append(tmp)\n",
    "    else:\n",
    "        pass\n",
    "\n",
    "nums = len(predicts)"
   ]
  },
  {
   "cell_type": "code",
   "execution_count": 87,
   "metadata": {},
   "outputs": [],
   "source": [
    "import joblib\n",
    "clf = joblib.load(\"SVC.m\")"
   ]
  },
  {
   "cell_type": "code",
   "execution_count": 88,
   "metadata": {},
   "outputs": [],
   "source": [
    "fname = f'../data/train/FGFR4.csv'\n",
    "df_train = pd.read_csv(fname)\n",
    "smiles_train_list = df_train['smiles'].values"
   ]
  },
  {
   "cell_type": "code",
   "execution_count": 89,
   "metadata": {},
   "outputs": [
    {
     "name": "stderr",
     "output_type": "stream",
     "text": [
      "[12:53:24] SMILES Parse Error: unclosed ring for input: 'Cc1ccccc1NC(=O)Cn1c(=O)n2c3c(sc2c2ccccc21)CN(C)CC2'\n",
      "[12:53:24] SMILES Parse Error: extra close parentheses while parsing: Cc1ccccc1NC(=O)Cn1c(=O)n2c3c(sc2c2ccccc21)CN(C)CC2)c1ccccc1\n",
      "[12:53:24] SMILES Parse Error: Failed parsing SMILES 'Cc1ccccc1NC(=O)Cn1c(=O)n2c3c(sc2c2ccccc21)CN(C)CC2)c1ccccc1' for input: 'Cc1ccccc1NC(=O)Cn1c(=O)n2c3c(sc2c2ccccc21)CN(C)CC2)c1ccccc1'\n",
      "[12:53:24] Can't kekulize mol.  Unkekulized atoms: 15 16 18 19 20 21 22 23 24\n",
      "[12:53:24] SMILES Parse Error: unclosed ring for input: 'Cc1ccccc1NC(=O)Cn1c(=O)n2c3c(sc2c2ccccc21)CN(C)CC2'\n",
      "[12:53:24] SMILES Parse Error: extra open parentheses for input: 'CC(C)N1CCN(C(=O)c2ccc(CN(Cc3ccc4c(c3)C(=O)N(C3=CCCCC3)C4=O)cc2)CC1'\n",
      "[12:53:25] Explicit valence for atom # 10 N, 4, is greater than permitted\n",
      "[12:53:25] Explicit valence for atom # 10 N, 4, is greater than permitted\n",
      "[12:53:25] SMILES Parse Error: unclosed ring for input: 'Cc1c=C(C)C(C)(C)c1ccc(S(=O)(=O)Oc2ccc(C(C)(C)C)cc2)cc1'\n",
      "[12:53:25] Can't kekulize mol.  Unkekulized atoms: 5 6 7 10\n",
      "[12:53:25] SMILES Parse Error: syntax error while parsing: >>[O-]C(=NN=Cc1ccccn1)c1ccccc1\n",
      "[12:53:25] SMILES Parse Error: Failed parsing SMILES '>>[O-]C(=NN=Cc1ccccn1)c1ccccc1' for input: '>>[O-]C(=NN=Cc1ccccn1)c1ccccc1'\n",
      "[12:53:25] SMILES Parse Error: syntax error while parsing: >O=C(C1CCCC1)N1CCCC2(CCN(Cc3ccc(C(F)(F)F)cc3)C2)C1\n",
      "[12:53:25] SMILES Parse Error: Failed parsing SMILES '>O=C(C1CCCC1)N1CCCC2(CCN(Cc3ccc(C(F)(F)F)cc3)C2)C1' for input: '>O=C(C1CCCC1)N1CCCC2(CCN(Cc3ccc(C(F)(F)F)cc3)C2)C1'\n",
      "[12:53:25] Can't kekulize mol.  Unkekulized atoms: 1 2 3 4 5 6 7 9 10 11 12 23 24\n",
      "[12:53:25] Can't kekulize mol.  Unkekulized atoms: 1 2 3 4 5 6 7 9 15 16 29\n",
      "[12:53:25] Can't kekulize mol.  Unkekulized atoms: 1 2 3 4 5 6 7 9 10 11 13 15 16\n",
      "[12:53:25] Can't kekulize mol.  Unkekulized atoms: 1 2 3 4 5 6 7 9 10 11 13 14 31\n",
      "[12:53:25] Can't kekulize mol.  Unkekulized atoms: 1 2 3 4 5 6 7 9 10 11 12 23 24\n",
      "[12:53:25] SMILES Parse Error: extra close parentheses while parsing: COc1cccc(C2Nc3ccc(C(=O)N4CCCC4)cc3-c3nc(C(C)(C)C)no3)C2C(=O)O)c1\n",
      "[12:53:25] SMILES Parse Error: Failed parsing SMILES 'COc1cccc(C2Nc3ccc(C(=O)N4CCCC4)cc3-c3nc(C(C)(C)C)no3)C2C(=O)O)c1' for input: 'COc1cccc(C2Nc3ccc(C(=O)N4CCCC4)cc3-c3nc(C(C)(C)C)no3)C2C(=O)O)c1'\n",
      "[12:53:25] Explicit valence for atom # 7 C, 5, is greater than permitted\n",
      "[12:53:25] Explicit valence for atom # 7 C, 5, is greater than permitted\n",
      "[12:53:25] Explicit valence for atom # 7 C, 5, is greater than permitted\n"
     ]
    }
   ],
   "source": [
    "positive = []\n",
    "negtive = []\n",
    "for i in range(nums):\n",
    "    smile = predicts[i]\n",
    "    if smile in smiles_train_list:\n",
    "        continue\n",
    "    try:\n",
    "        mol=Chem.MolFromSmiles(smile)\n",
    "    except Exception as e:\n",
    "        continue\n",
    "\n",
    "    if mol is None:\n",
    "        continue\n",
    "\n",
    "    fp = MACCSkeys.GenMACCSKeys(mol)\n",
    "    fp_bits = fp.ToList()\n",
    "    label = clf.predict(np.array(fp_bits).reshape(1,-1)).item()\n",
    "    if label == 1:\n",
    "        positive.append(smile)\n",
    "    elif label == 0:\n",
    "        negtive.append(smile)"
   ]
  },
  {
   "cell_type": "code",
   "execution_count": 90,
   "metadata": {},
   "outputs": [
    {
     "name": "stdout",
     "output_type": "stream",
     "text": [
      "624\n",
      "600\n"
     ]
    }
   ],
   "source": [
    "print(len(positive))\n",
    "print(len(negtive))"
   ]
  },
  {
   "cell_type": "code",
   "execution_count": 91,
   "metadata": {},
   "outputs": [
    {
     "name": "stdout",
     "output_type": "stream",
     "text": [
      "Saved.\n"
     ]
    }
   ],
   "source": [
    "output_positive = []\n",
    "for smile in positive:\n",
    "    output_positive.append([smile, 1])\n",
    "\n",
    "output_negtive = []\n",
    "for smile in negtive:\n",
    "    output_negtive.append([smile, 0])\n",
    "\n",
    "output_positive = pd.DataFrame(data=output_positive, columns=['smiles', 'label'])\n",
    "output_positive.to_csv(f'./data/positive.csv', index=False)\n",
    "\n",
    "output_negtive = pd.DataFrame(data=output_negtive, columns=['smiles', 'label'])\n",
    "output_negtive.to_csv(f'./data/negtive.csv', index=False)\n",
    "print('Saved.')"
   ]
  }
 ],
 "metadata": {
  "kernelspec": {
   "display_name": "base",
   "language": "python",
   "name": "python3"
  },
  "language_info": {
   "codemirror_mode": {
    "name": "ipython",
    "version": 3
   },
   "file_extension": ".py",
   "mimetype": "text/x-python",
   "name": "python",
   "nbconvert_exporter": "python",
   "pygments_lexer": "ipython3",
   "version": "3.9.7"
  },
  "orig_nbformat": 4
 },
 "nbformat": 4,
 "nbformat_minor": 2
}
